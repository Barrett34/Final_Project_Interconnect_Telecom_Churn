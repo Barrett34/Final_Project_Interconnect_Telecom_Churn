{
 "cells": [
  {
   "cell_type": "markdown",
   "metadata": {},
   "source": [
    "# Interconnect Telecom Churn Project"
   ]
  },
  {
   "cell_type": "markdown",
   "metadata": {},
   "source": [
    "In this project, we are provided with a dataset from a company named Interconnect Telecom. The company wants to understand why the customers churned or stopped their service. We will utilize machine learning to identify features of the data that has high predictive power when determining which customers will churn. "
   ]
  },
  {
   "cell_type": "markdown",
   "metadata": {},
   "source": [
    "## Data Information and Preprocessing"
   ]
  },
  {
   "cell_type": "code",
   "execution_count": 620,
   "metadata": {},
   "outputs": [],
   "source": [
    "## Library Imports\n",
    "\n",
    "import pandas as pd\n",
    "import seaborn as sns\n",
    "import matplotlib.pyplot as plt\n",
    "from sklearn.preprocessing import LabelEncoder, OneHotEncoder, StandardScaler\n",
    "from sklearn.model_selection import train_test_split\n",
    "from sklearn.utils import shuffle\n",
    "from sklearn.linear_model import LogisticRegression, LogisticRegressionCV\n",
    "from sklearn.metrics import accuracy_score, f1_score, roc_auc_score, roc_curve, auc\n",
    "from sklearn.ensemble import RandomForestClassifier, GradientBoostingClassifier\n",
    "from sklearn.model_selection import cross_val_score, cross_val_predict, GridSearchCV\n",
    "from catboost import CatBoostClassifier\n",
    "import lightgbm as lgb\n",
    "import xgboost as xgb"
   ]
  },
  {
   "cell_type": "code",
   "execution_count": 532,
   "metadata": {},
   "outputs": [],
   "source": [
    "# Reading and Loading Data as Panda DataFrames\n",
    "\n",
    "contract_df = pd.read_csv('datasets/contract.csv')\n",
    "personal_df = pd.read_csv('datasets/personal.csv')\n",
    "internet_df = pd.read_csv('datasets/internet.csv')\n",
    "phone_df = pd.read_csv('datasets/phone.csv')"
   ]
  },
  {
   "cell_type": "code",
   "execution_count": 533,
   "metadata": {},
   "outputs": [
    {
     "name": "stdout",
     "output_type": "stream",
     "text": [
      "<class 'pandas.core.frame.DataFrame'>\n",
      "RangeIndex: 7043 entries, 0 to 7042\n",
      "Data columns (total 8 columns):\n",
      " #   Column            Non-Null Count  Dtype  \n",
      "---  ------            --------------  -----  \n",
      " 0   customerID        7043 non-null   object \n",
      " 1   BeginDate         7043 non-null   object \n",
      " 2   EndDate           7043 non-null   object \n",
      " 3   Type              7043 non-null   object \n",
      " 4   PaperlessBilling  7043 non-null   object \n",
      " 5   PaymentMethod     7043 non-null   object \n",
      " 6   MonthlyCharges    7043 non-null   float64\n",
      " 7   TotalCharges      7043 non-null   object \n",
      "dtypes: float64(1), object(7)\n",
      "memory usage: 440.3+ KB\n"
     ]
    }
   ],
   "source": [
    "\n",
    "contract_df.info()"
   ]
  },
  {
   "cell_type": "code",
   "execution_count": 534,
   "metadata": {},
   "outputs": [
    {
     "data": {
      "text/html": [
       "<div>\n",
       "<style scoped>\n",
       "    .dataframe tbody tr th:only-of-type {\n",
       "        vertical-align: middle;\n",
       "    }\n",
       "\n",
       "    .dataframe tbody tr th {\n",
       "        vertical-align: top;\n",
       "    }\n",
       "\n",
       "    .dataframe thead th {\n",
       "        text-align: right;\n",
       "    }\n",
       "</style>\n",
       "<table border=\"1\" class=\"dataframe\">\n",
       "  <thead>\n",
       "    <tr style=\"text-align: right;\">\n",
       "      <th></th>\n",
       "      <th>customerID</th>\n",
       "      <th>BeginDate</th>\n",
       "      <th>EndDate</th>\n",
       "      <th>Type</th>\n",
       "      <th>PaperlessBilling</th>\n",
       "      <th>PaymentMethod</th>\n",
       "      <th>MonthlyCharges</th>\n",
       "      <th>TotalCharges</th>\n",
       "    </tr>\n",
       "  </thead>\n",
       "  <tbody>\n",
       "    <tr>\n",
       "      <th>6651</th>\n",
       "      <td>2038-YSEZE</td>\n",
       "      <td>2017-09-01</td>\n",
       "      <td>No</td>\n",
       "      <td>Month-to-month</td>\n",
       "      <td>No</td>\n",
       "      <td>Mailed check</td>\n",
       "      <td>67.45</td>\n",
       "      <td>1801.1</td>\n",
       "    </tr>\n",
       "    <tr>\n",
       "      <th>6681</th>\n",
       "      <td>1389-CXMLU</td>\n",
       "      <td>2019-08-01</td>\n",
       "      <td>2019-11-01 00:00:00</td>\n",
       "      <td>Month-to-month</td>\n",
       "      <td>No</td>\n",
       "      <td>Electronic check</td>\n",
       "      <td>91.05</td>\n",
       "      <td>289.1</td>\n",
       "    </tr>\n",
       "    <tr>\n",
       "      <th>6612</th>\n",
       "      <td>1062-LHZOD</td>\n",
       "      <td>2019-09-01</td>\n",
       "      <td>2019-10-01 00:00:00</td>\n",
       "      <td>Month-to-month</td>\n",
       "      <td>Yes</td>\n",
       "      <td>Mailed check</td>\n",
       "      <td>69.90</td>\n",
       "      <td>69.9</td>\n",
       "    </tr>\n",
       "    <tr>\n",
       "      <th>5384</th>\n",
       "      <td>3137-LUPIX</td>\n",
       "      <td>2019-10-01</td>\n",
       "      <td>No</td>\n",
       "      <td>Month-to-month</td>\n",
       "      <td>Yes</td>\n",
       "      <td>Mailed check</td>\n",
       "      <td>64.40</td>\n",
       "      <td>253</td>\n",
       "    </tr>\n",
       "    <tr>\n",
       "      <th>1325</th>\n",
       "      <td>7206-GZCDC</td>\n",
       "      <td>2019-10-01</td>\n",
       "      <td>2019-11-01 00:00:00</td>\n",
       "      <td>Month-to-month</td>\n",
       "      <td>Yes</td>\n",
       "      <td>Electronic check</td>\n",
       "      <td>69.25</td>\n",
       "      <td>69.25</td>\n",
       "    </tr>\n",
       "  </tbody>\n",
       "</table>\n",
       "</div>"
      ],
      "text/plain": [
       "      customerID   BeginDate              EndDate            Type  \\\n",
       "6651  2038-YSEZE  2017-09-01                   No  Month-to-month   \n",
       "6681  1389-CXMLU  2019-08-01  2019-11-01 00:00:00  Month-to-month   \n",
       "6612  1062-LHZOD  2019-09-01  2019-10-01 00:00:00  Month-to-month   \n",
       "5384  3137-LUPIX  2019-10-01                   No  Month-to-month   \n",
       "1325  7206-GZCDC  2019-10-01  2019-11-01 00:00:00  Month-to-month   \n",
       "\n",
       "     PaperlessBilling     PaymentMethod  MonthlyCharges TotalCharges  \n",
       "6651               No      Mailed check           67.45       1801.1  \n",
       "6681               No  Electronic check           91.05        289.1  \n",
       "6612              Yes      Mailed check           69.90         69.9  \n",
       "5384              Yes      Mailed check           64.40          253  \n",
       "1325              Yes  Electronic check           69.25        69.25  "
      ]
     },
     "execution_count": 534,
     "metadata": {},
     "output_type": "execute_result"
    }
   ],
   "source": [
    "contract_df.sample(5)"
   ]
  },
  {
   "cell_type": "markdown",
   "metadata": {},
   "source": [
    "Should some `Dtypes` be converted for better performing machine learning models? Can we rename columns?"
   ]
  },
  {
   "cell_type": "code",
   "execution_count": 535,
   "metadata": {},
   "outputs": [
    {
     "data": {
      "text/plain": [
       "customerID          0\n",
       "BeginDate           0\n",
       "EndDate             0\n",
       "Type                0\n",
       "PaperlessBilling    0\n",
       "PaymentMethod       0\n",
       "MonthlyCharges      0\n",
       "TotalCharges        0\n",
       "dtype: int64"
      ]
     },
     "execution_count": 535,
     "metadata": {},
     "output_type": "execute_result"
    }
   ],
   "source": [
    "contract_df.isna().sum()"
   ]
  },
  {
   "cell_type": "code",
   "execution_count": 536,
   "metadata": {},
   "outputs": [
    {
     "data": {
      "text/plain": [
       "0"
      ]
     },
     "execution_count": 536,
     "metadata": {},
     "output_type": "execute_result"
    }
   ],
   "source": [
    "contract_df.duplicated().sum()"
   ]
  },
  {
   "cell_type": "code",
   "execution_count": 537,
   "metadata": {},
   "outputs": [
    {
     "name": "stdout",
     "output_type": "stream",
     "text": [
      "<class 'pandas.core.frame.DataFrame'>\n",
      "RangeIndex: 7043 entries, 0 to 7042\n",
      "Data columns (total 5 columns):\n",
      " #   Column         Non-Null Count  Dtype \n",
      "---  ------         --------------  ----- \n",
      " 0   customerID     7043 non-null   object\n",
      " 1   gender         7043 non-null   object\n",
      " 2   SeniorCitizen  7043 non-null   int64 \n",
      " 3   Partner        7043 non-null   object\n",
      " 4   Dependents     7043 non-null   object\n",
      "dtypes: int64(1), object(4)\n",
      "memory usage: 275.2+ KB\n"
     ]
    }
   ],
   "source": [
    "personal_df.info()"
   ]
  },
  {
   "cell_type": "code",
   "execution_count": 538,
   "metadata": {},
   "outputs": [
    {
     "data": {
      "text/plain": [
       "customerID       0\n",
       "gender           0\n",
       "SeniorCitizen    0\n",
       "Partner          0\n",
       "Dependents       0\n",
       "dtype: int64"
      ]
     },
     "execution_count": 538,
     "metadata": {},
     "output_type": "execute_result"
    }
   ],
   "source": [
    "personal_df.isna().sum()"
   ]
  },
  {
   "cell_type": "code",
   "execution_count": 539,
   "metadata": {},
   "outputs": [
    {
     "data": {
      "text/html": [
       "<div>\n",
       "<style scoped>\n",
       "    .dataframe tbody tr th:only-of-type {\n",
       "        vertical-align: middle;\n",
       "    }\n",
       "\n",
       "    .dataframe tbody tr th {\n",
       "        vertical-align: top;\n",
       "    }\n",
       "\n",
       "    .dataframe thead th {\n",
       "        text-align: right;\n",
       "    }\n",
       "</style>\n",
       "<table border=\"1\" class=\"dataframe\">\n",
       "  <thead>\n",
       "    <tr style=\"text-align: right;\">\n",
       "      <th></th>\n",
       "      <th>customerID</th>\n",
       "      <th>gender</th>\n",
       "      <th>SeniorCitizen</th>\n",
       "      <th>Partner</th>\n",
       "      <th>Dependents</th>\n",
       "    </tr>\n",
       "  </thead>\n",
       "  <tbody>\n",
       "    <tr>\n",
       "      <th>5363</th>\n",
       "      <td>3810-PJUHR</td>\n",
       "      <td>Male</td>\n",
       "      <td>0</td>\n",
       "      <td>Yes</td>\n",
       "      <td>Yes</td>\n",
       "    </tr>\n",
       "    <tr>\n",
       "      <th>179</th>\n",
       "      <td>3712-PKXZA</td>\n",
       "      <td>Male</td>\n",
       "      <td>0</td>\n",
       "      <td>Yes</td>\n",
       "      <td>No</td>\n",
       "    </tr>\n",
       "    <tr>\n",
       "      <th>5382</th>\n",
       "      <td>6229-UOLQL</td>\n",
       "      <td>Male</td>\n",
       "      <td>0</td>\n",
       "      <td>Yes</td>\n",
       "      <td>Yes</td>\n",
       "    </tr>\n",
       "    <tr>\n",
       "      <th>6656</th>\n",
       "      <td>4779-ZGICK</td>\n",
       "      <td>Male</td>\n",
       "      <td>0</td>\n",
       "      <td>Yes</td>\n",
       "      <td>Yes</td>\n",
       "    </tr>\n",
       "    <tr>\n",
       "      <th>890</th>\n",
       "      <td>5898-IGSLP</td>\n",
       "      <td>Male</td>\n",
       "      <td>0</td>\n",
       "      <td>Yes</td>\n",
       "      <td>Yes</td>\n",
       "    </tr>\n",
       "  </tbody>\n",
       "</table>\n",
       "</div>"
      ],
      "text/plain": [
       "      customerID gender  SeniorCitizen Partner Dependents\n",
       "5363  3810-PJUHR   Male              0     Yes        Yes\n",
       "179   3712-PKXZA   Male              0     Yes         No\n",
       "5382  6229-UOLQL   Male              0     Yes        Yes\n",
       "6656  4779-ZGICK   Male              0     Yes        Yes\n",
       "890   5898-IGSLP   Male              0     Yes        Yes"
      ]
     },
     "execution_count": 539,
     "metadata": {},
     "output_type": "execute_result"
    }
   ],
   "source": [
    "personal_df.sample(5)"
   ]
  },
  {
   "cell_type": "code",
   "execution_count": 540,
   "metadata": {},
   "outputs": [
    {
     "name": "stdout",
     "output_type": "stream",
     "text": [
      "<class 'pandas.core.frame.DataFrame'>\n",
      "RangeIndex: 5517 entries, 0 to 5516\n",
      "Data columns (total 8 columns):\n",
      " #   Column            Non-Null Count  Dtype \n",
      "---  ------            --------------  ----- \n",
      " 0   customerID        5517 non-null   object\n",
      " 1   InternetService   5517 non-null   object\n",
      " 2   OnlineSecurity    5517 non-null   object\n",
      " 3   OnlineBackup      5517 non-null   object\n",
      " 4   DeviceProtection  5517 non-null   object\n",
      " 5   TechSupport       5517 non-null   object\n",
      " 6   StreamingTV       5517 non-null   object\n",
      " 7   StreamingMovies   5517 non-null   object\n",
      "dtypes: object(8)\n",
      "memory usage: 344.9+ KB\n"
     ]
    }
   ],
   "source": [
    "internet_df.info()"
   ]
  },
  {
   "cell_type": "code",
   "execution_count": 541,
   "metadata": {},
   "outputs": [
    {
     "data": {
      "text/plain": [
       "customerID          0\n",
       "InternetService     0\n",
       "OnlineSecurity      0\n",
       "OnlineBackup        0\n",
       "DeviceProtection    0\n",
       "TechSupport         0\n",
       "StreamingTV         0\n",
       "StreamingMovies     0\n",
       "dtype: int64"
      ]
     },
     "execution_count": 541,
     "metadata": {},
     "output_type": "execute_result"
    }
   ],
   "source": [
    "internet_df.isna().sum()"
   ]
  },
  {
   "cell_type": "code",
   "execution_count": 542,
   "metadata": {},
   "outputs": [
    {
     "data": {
      "text/html": [
       "<div>\n",
       "<style scoped>\n",
       "    .dataframe tbody tr th:only-of-type {\n",
       "        vertical-align: middle;\n",
       "    }\n",
       "\n",
       "    .dataframe tbody tr th {\n",
       "        vertical-align: top;\n",
       "    }\n",
       "\n",
       "    .dataframe thead th {\n",
       "        text-align: right;\n",
       "    }\n",
       "</style>\n",
       "<table border=\"1\" class=\"dataframe\">\n",
       "  <thead>\n",
       "    <tr style=\"text-align: right;\">\n",
       "      <th></th>\n",
       "      <th>customerID</th>\n",
       "      <th>InternetService</th>\n",
       "      <th>OnlineSecurity</th>\n",
       "      <th>OnlineBackup</th>\n",
       "      <th>DeviceProtection</th>\n",
       "      <th>TechSupport</th>\n",
       "      <th>StreamingTV</th>\n",
       "      <th>StreamingMovies</th>\n",
       "    </tr>\n",
       "  </thead>\n",
       "  <tbody>\n",
       "    <tr>\n",
       "      <th>5065</th>\n",
       "      <td>2911-IJORQ</td>\n",
       "      <td>DSL</td>\n",
       "      <td>Yes</td>\n",
       "      <td>Yes</td>\n",
       "      <td>Yes</td>\n",
       "      <td>Yes</td>\n",
       "      <td>Yes</td>\n",
       "      <td>Yes</td>\n",
       "    </tr>\n",
       "    <tr>\n",
       "      <th>4619</th>\n",
       "      <td>9355-NPPFS</td>\n",
       "      <td>Fiber optic</td>\n",
       "      <td>No</td>\n",
       "      <td>No</td>\n",
       "      <td>No</td>\n",
       "      <td>No</td>\n",
       "      <td>No</td>\n",
       "      <td>Yes</td>\n",
       "    </tr>\n",
       "    <tr>\n",
       "      <th>2234</th>\n",
       "      <td>0233-FTHAV</td>\n",
       "      <td>Fiber optic</td>\n",
       "      <td>No</td>\n",
       "      <td>No</td>\n",
       "      <td>Yes</td>\n",
       "      <td>No</td>\n",
       "      <td>No</td>\n",
       "      <td>No</td>\n",
       "    </tr>\n",
       "    <tr>\n",
       "      <th>2181</th>\n",
       "      <td>5533-NHFRF</td>\n",
       "      <td>DSL</td>\n",
       "      <td>No</td>\n",
       "      <td>Yes</td>\n",
       "      <td>No</td>\n",
       "      <td>Yes</td>\n",
       "      <td>No</td>\n",
       "      <td>Yes</td>\n",
       "    </tr>\n",
       "    <tr>\n",
       "      <th>1177</th>\n",
       "      <td>8898-KASCD</td>\n",
       "      <td>DSL</td>\n",
       "      <td>No</td>\n",
       "      <td>No</td>\n",
       "      <td>Yes</td>\n",
       "      <td>Yes</td>\n",
       "      <td>No</td>\n",
       "      <td>No</td>\n",
       "    </tr>\n",
       "  </tbody>\n",
       "</table>\n",
       "</div>"
      ],
      "text/plain": [
       "      customerID InternetService OnlineSecurity OnlineBackup DeviceProtection  \\\n",
       "5065  2911-IJORQ             DSL            Yes          Yes              Yes   \n",
       "4619  9355-NPPFS     Fiber optic             No           No               No   \n",
       "2234  0233-FTHAV     Fiber optic             No           No              Yes   \n",
       "2181  5533-NHFRF             DSL             No          Yes               No   \n",
       "1177  8898-KASCD             DSL             No           No              Yes   \n",
       "\n",
       "     TechSupport StreamingTV StreamingMovies  \n",
       "5065         Yes         Yes             Yes  \n",
       "4619          No          No             Yes  \n",
       "2234          No          No              No  \n",
       "2181         Yes          No             Yes  \n",
       "1177         Yes          No              No  "
      ]
     },
     "execution_count": 542,
     "metadata": {},
     "output_type": "execute_result"
    }
   ],
   "source": [
    "internet_df.sample(5)"
   ]
  },
  {
   "cell_type": "code",
   "execution_count": 543,
   "metadata": {},
   "outputs": [
    {
     "name": "stdout",
     "output_type": "stream",
     "text": [
      "<class 'pandas.core.frame.DataFrame'>\n",
      "RangeIndex: 6361 entries, 0 to 6360\n",
      "Data columns (total 2 columns):\n",
      " #   Column         Non-Null Count  Dtype \n",
      "---  ------         --------------  ----- \n",
      " 0   customerID     6361 non-null   object\n",
      " 1   MultipleLines  6361 non-null   object\n",
      "dtypes: object(2)\n",
      "memory usage: 99.5+ KB\n"
     ]
    }
   ],
   "source": [
    "phone_df.info()"
   ]
  },
  {
   "cell_type": "code",
   "execution_count": 544,
   "metadata": {},
   "outputs": [
    {
     "data": {
      "text/plain": [
       "customerID       0\n",
       "MultipleLines    0\n",
       "dtype: int64"
      ]
     },
     "execution_count": 544,
     "metadata": {},
     "output_type": "execute_result"
    }
   ],
   "source": [
    "phone_df.isna().sum()"
   ]
  },
  {
   "cell_type": "code",
   "execution_count": 545,
   "metadata": {},
   "outputs": [
    {
     "data": {
      "text/html": [
       "<div>\n",
       "<style scoped>\n",
       "    .dataframe tbody tr th:only-of-type {\n",
       "        vertical-align: middle;\n",
       "    }\n",
       "\n",
       "    .dataframe tbody tr th {\n",
       "        vertical-align: top;\n",
       "    }\n",
       "\n",
       "    .dataframe thead th {\n",
       "        text-align: right;\n",
       "    }\n",
       "</style>\n",
       "<table border=\"1\" class=\"dataframe\">\n",
       "  <thead>\n",
       "    <tr style=\"text-align: right;\">\n",
       "      <th></th>\n",
       "      <th>customerID</th>\n",
       "      <th>MultipleLines</th>\n",
       "    </tr>\n",
       "  </thead>\n",
       "  <tbody>\n",
       "    <tr>\n",
       "      <th>4259</th>\n",
       "      <td>6305-YLBMM</td>\n",
       "      <td>No</td>\n",
       "    </tr>\n",
       "    <tr>\n",
       "      <th>5525</th>\n",
       "      <td>9605-WGJVW</td>\n",
       "      <td>No</td>\n",
       "    </tr>\n",
       "    <tr>\n",
       "      <th>132</th>\n",
       "      <td>6440-DKQGE</td>\n",
       "      <td>No</td>\n",
       "    </tr>\n",
       "    <tr>\n",
       "      <th>6095</th>\n",
       "      <td>7957-RYHQD</td>\n",
       "      <td>No</td>\n",
       "    </tr>\n",
       "    <tr>\n",
       "      <th>5177</th>\n",
       "      <td>5196-SGOAK</td>\n",
       "      <td>No</td>\n",
       "    </tr>\n",
       "  </tbody>\n",
       "</table>\n",
       "</div>"
      ],
      "text/plain": [
       "      customerID MultipleLines\n",
       "4259  6305-YLBMM            No\n",
       "5525  9605-WGJVW            No\n",
       "132   6440-DKQGE            No\n",
       "6095  7957-RYHQD            No\n",
       "5177  5196-SGOAK            No"
      ]
     },
     "execution_count": 545,
     "metadata": {},
     "output_type": "execute_result"
    }
   ],
   "source": [
    "phone_df.sample(5)"
   ]
  },
  {
   "cell_type": "markdown",
   "metadata": {},
   "source": [
    "### Information Analysis:\n",
    "\n",
    "After an intial look at the datasets, I see that we may need to include some encoding to make our machine learning models perform better. I also see some columns that have inappropriate data types. For instance `TotalCharges` in the `contract_df` dataset. We also should consider merging some columns with the `customerID` column in order to get a clearer insight on individual customers from Interconnect Telecom.\n",
    "\n",
    "Luckily, in all the datasets, there are no duplicates and there are also no na values.\n",
    "\n",
    "Let's conduct our EDA."
   ]
  },
  {
   "cell_type": "markdown",
   "metadata": {},
   "source": [
    "## EDA"
   ]
  },
  {
   "cell_type": "code",
   "execution_count": 546,
   "metadata": {},
   "outputs": [],
   "source": [
    "# Changing Data Types\n",
    "\n",
    "contract_df['TotalCharges'] = pd.to_numeric(contract_df['TotalCharges'], errors='coerce')\n",
    "contract_df['BeginDate'] = pd.to_datetime(contract_df['BeginDate'])"
   ]
  },
  {
   "cell_type": "code",
   "execution_count": 547,
   "metadata": {},
   "outputs": [
    {
     "data": {
      "text/plain": [
       "customerID           0\n",
       "BeginDate            0\n",
       "EndDate              0\n",
       "Type                 0\n",
       "PaperlessBilling     0\n",
       "PaymentMethod        0\n",
       "MonthlyCharges       0\n",
       "TotalCharges        11\n",
       "dtype: int64"
      ]
     },
     "execution_count": 547,
     "metadata": {},
     "output_type": "execute_result"
    }
   ],
   "source": [
    "contract_df.isna().sum()"
   ]
  },
  {
   "cell_type": "markdown",
   "metadata": {},
   "source": [
    "When `TotalCharges` dtype is converted to a numeric value, some NA values appear. We will use the median to fill those NA values."
   ]
  },
  {
   "cell_type": "code",
   "execution_count": 548,
   "metadata": {},
   "outputs": [],
   "source": [
    "# Filling in NAN values \n",
    "\n",
    "contract_df['TotalCharges'] = contract_df['TotalCharges'].fillna(contract_df['TotalCharges'].median())"
   ]
  },
  {
   "cell_type": "code",
   "execution_count": 549,
   "metadata": {},
   "outputs": [],
   "source": [
    "# Merging all datasets on customerID\n",
    "\n",
    "merge_1 = contract_df.merge(personal_df, on='customerID', how='left')\n",
    "merge_2 = merge_1.merge(phone_df, on='customerID', how='left')\n",
    "customers_df = merge_2.merge(internet_df, on='customerID', how='left')"
   ]
  },
  {
   "cell_type": "code",
   "execution_count": 550,
   "metadata": {},
   "outputs": [
    {
     "name": "stdout",
     "output_type": "stream",
     "text": [
      "<class 'pandas.core.frame.DataFrame'>\n",
      "Int64Index: 7043 entries, 0 to 7042\n",
      "Data columns (total 20 columns):\n",
      " #   Column            Non-Null Count  Dtype         \n",
      "---  ------            --------------  -----         \n",
      " 0   customerID        7043 non-null   object        \n",
      " 1   BeginDate         7043 non-null   datetime64[ns]\n",
      " 2   EndDate           7043 non-null   object        \n",
      " 3   Type              7043 non-null   object        \n",
      " 4   PaperlessBilling  7043 non-null   object        \n",
      " 5   PaymentMethod     7043 non-null   object        \n",
      " 6   MonthlyCharges    7043 non-null   float64       \n",
      " 7   TotalCharges      7043 non-null   float64       \n",
      " 8   gender            7043 non-null   object        \n",
      " 9   SeniorCitizen     7043 non-null   int64         \n",
      " 10  Partner           7043 non-null   object        \n",
      " 11  Dependents        7043 non-null   object        \n",
      " 12  MultipleLines     6361 non-null   object        \n",
      " 13  InternetService   5517 non-null   object        \n",
      " 14  OnlineSecurity    5517 non-null   object        \n",
      " 15  OnlineBackup      5517 non-null   object        \n",
      " 16  DeviceProtection  5517 non-null   object        \n",
      " 17  TechSupport       5517 non-null   object        \n",
      " 18  StreamingTV       5517 non-null   object        \n",
      " 19  StreamingMovies   5517 non-null   object        \n",
      "dtypes: datetime64[ns](1), float64(2), int64(1), object(16)\n",
      "memory usage: 1.1+ MB\n"
     ]
    }
   ],
   "source": [
    "customers_df.info()"
   ]
  },
  {
   "cell_type": "code",
   "execution_count": 551,
   "metadata": {},
   "outputs": [
    {
     "data": {
      "text/html": [
       "<div>\n",
       "<style scoped>\n",
       "    .dataframe tbody tr th:only-of-type {\n",
       "        vertical-align: middle;\n",
       "    }\n",
       "\n",
       "    .dataframe tbody tr th {\n",
       "        vertical-align: top;\n",
       "    }\n",
       "\n",
       "    .dataframe thead th {\n",
       "        text-align: right;\n",
       "    }\n",
       "</style>\n",
       "<table border=\"1\" class=\"dataframe\">\n",
       "  <thead>\n",
       "    <tr style=\"text-align: right;\">\n",
       "      <th></th>\n",
       "      <th>customerID</th>\n",
       "      <th>BeginDate</th>\n",
       "      <th>EndDate</th>\n",
       "      <th>Type</th>\n",
       "      <th>PaperlessBilling</th>\n",
       "      <th>PaymentMethod</th>\n",
       "      <th>MonthlyCharges</th>\n",
       "      <th>TotalCharges</th>\n",
       "      <th>gender</th>\n",
       "      <th>SeniorCitizen</th>\n",
       "      <th>Partner</th>\n",
       "      <th>Dependents</th>\n",
       "      <th>MultipleLines</th>\n",
       "      <th>InternetService</th>\n",
       "      <th>OnlineSecurity</th>\n",
       "      <th>OnlineBackup</th>\n",
       "      <th>DeviceProtection</th>\n",
       "      <th>TechSupport</th>\n",
       "      <th>StreamingTV</th>\n",
       "      <th>StreamingMovies</th>\n",
       "    </tr>\n",
       "  </thead>\n",
       "  <tbody>\n",
       "    <tr>\n",
       "      <th>1222</th>\n",
       "      <td>9091-WTUUY</td>\n",
       "      <td>2014-10-01</td>\n",
       "      <td>No</td>\n",
       "      <td>Two year</td>\n",
       "      <td>No</td>\n",
       "      <td>Mailed check</td>\n",
       "      <td>69.25</td>\n",
       "      <td>4447.75</td>\n",
       "      <td>Male</td>\n",
       "      <td>0</td>\n",
       "      <td>Yes</td>\n",
       "      <td>Yes</td>\n",
       "      <td>No</td>\n",
       "      <td>DSL</td>\n",
       "      <td>Yes</td>\n",
       "      <td>No</td>\n",
       "      <td>Yes</td>\n",
       "      <td>Yes</td>\n",
       "      <td>Yes</td>\n",
       "      <td>No</td>\n",
       "    </tr>\n",
       "    <tr>\n",
       "      <th>2727</th>\n",
       "      <td>3387-VATUS</td>\n",
       "      <td>2019-06-01</td>\n",
       "      <td>2019-11-01 00:00:00</td>\n",
       "      <td>Month-to-month</td>\n",
       "      <td>Yes</td>\n",
       "      <td>Bank transfer (automatic)</td>\n",
       "      <td>94.85</td>\n",
       "      <td>462.80</td>\n",
       "      <td>Male</td>\n",
       "      <td>0</td>\n",
       "      <td>No</td>\n",
       "      <td>No</td>\n",
       "      <td>Yes</td>\n",
       "      <td>Fiber optic</td>\n",
       "      <td>No</td>\n",
       "      <td>No</td>\n",
       "      <td>No</td>\n",
       "      <td>No</td>\n",
       "      <td>Yes</td>\n",
       "      <td>Yes</td>\n",
       "    </tr>\n",
       "    <tr>\n",
       "      <th>6820</th>\n",
       "      <td>6300-BWMJX</td>\n",
       "      <td>2015-03-01</td>\n",
       "      <td>No</td>\n",
       "      <td>Month-to-month</td>\n",
       "      <td>No</td>\n",
       "      <td>Electronic check</td>\n",
       "      <td>93.35</td>\n",
       "      <td>5386.50</td>\n",
       "      <td>Female</td>\n",
       "      <td>0</td>\n",
       "      <td>Yes</td>\n",
       "      <td>No</td>\n",
       "      <td>Yes</td>\n",
       "      <td>Fiber optic</td>\n",
       "      <td>No</td>\n",
       "      <td>No</td>\n",
       "      <td>Yes</td>\n",
       "      <td>Yes</td>\n",
       "      <td>Yes</td>\n",
       "      <td>No</td>\n",
       "    </tr>\n",
       "    <tr>\n",
       "      <th>986</th>\n",
       "      <td>2604-XVDAM</td>\n",
       "      <td>2019-02-01</td>\n",
       "      <td>No</td>\n",
       "      <td>Month-to-month</td>\n",
       "      <td>No</td>\n",
       "      <td>Bank transfer (automatic)</td>\n",
       "      <td>43.80</td>\n",
       "      <td>540.95</td>\n",
       "      <td>Female</td>\n",
       "      <td>0</td>\n",
       "      <td>No</td>\n",
       "      <td>No</td>\n",
       "      <td>No</td>\n",
       "      <td>DSL</td>\n",
       "      <td>No</td>\n",
       "      <td>No</td>\n",
       "      <td>No</td>\n",
       "      <td>No</td>\n",
       "      <td>No</td>\n",
       "      <td>No</td>\n",
       "    </tr>\n",
       "    <tr>\n",
       "      <th>5533</th>\n",
       "      <td>9279-CJEOJ</td>\n",
       "      <td>2018-05-01</td>\n",
       "      <td>No</td>\n",
       "      <td>Month-to-month</td>\n",
       "      <td>Yes</td>\n",
       "      <td>Bank transfer (automatic)</td>\n",
       "      <td>95.40</td>\n",
       "      <td>2025.10</td>\n",
       "      <td>Female</td>\n",
       "      <td>1</td>\n",
       "      <td>No</td>\n",
       "      <td>No</td>\n",
       "      <td>Yes</td>\n",
       "      <td>Fiber optic</td>\n",
       "      <td>No</td>\n",
       "      <td>No</td>\n",
       "      <td>No</td>\n",
       "      <td>No</td>\n",
       "      <td>Yes</td>\n",
       "      <td>Yes</td>\n",
       "    </tr>\n",
       "  </tbody>\n",
       "</table>\n",
       "</div>"
      ],
      "text/plain": [
       "      customerID  BeginDate              EndDate            Type  \\\n",
       "1222  9091-WTUUY 2014-10-01                   No        Two year   \n",
       "2727  3387-VATUS 2019-06-01  2019-11-01 00:00:00  Month-to-month   \n",
       "6820  6300-BWMJX 2015-03-01                   No  Month-to-month   \n",
       "986   2604-XVDAM 2019-02-01                   No  Month-to-month   \n",
       "5533  9279-CJEOJ 2018-05-01                   No  Month-to-month   \n",
       "\n",
       "     PaperlessBilling              PaymentMethod  MonthlyCharges  \\\n",
       "1222               No               Mailed check           69.25   \n",
       "2727              Yes  Bank transfer (automatic)           94.85   \n",
       "6820               No           Electronic check           93.35   \n",
       "986                No  Bank transfer (automatic)           43.80   \n",
       "5533              Yes  Bank transfer (automatic)           95.40   \n",
       "\n",
       "      TotalCharges  gender  SeniorCitizen Partner Dependents MultipleLines  \\\n",
       "1222       4447.75    Male              0     Yes        Yes            No   \n",
       "2727        462.80    Male              0      No         No           Yes   \n",
       "6820       5386.50  Female              0     Yes         No           Yes   \n",
       "986         540.95  Female              0      No         No            No   \n",
       "5533       2025.10  Female              1      No         No           Yes   \n",
       "\n",
       "     InternetService OnlineSecurity OnlineBackup DeviceProtection TechSupport  \\\n",
       "1222             DSL            Yes           No              Yes         Yes   \n",
       "2727     Fiber optic             No           No               No          No   \n",
       "6820     Fiber optic             No           No              Yes         Yes   \n",
       "986              DSL             No           No               No          No   \n",
       "5533     Fiber optic             No           No               No          No   \n",
       "\n",
       "     StreamingTV StreamingMovies  \n",
       "1222         Yes              No  \n",
       "2727         Yes             Yes  \n",
       "6820         Yes              No  \n",
       "986           No              No  \n",
       "5533         Yes             Yes  "
      ]
     },
     "execution_count": 551,
     "metadata": {},
     "output_type": "execute_result"
    }
   ],
   "source": [
    "customers_df.sample(5)"
   ]
  },
  {
   "cell_type": "code",
   "execution_count": 552,
   "metadata": {},
   "outputs": [
    {
     "data": {
      "text/html": [
       "<div>\n",
       "<style scoped>\n",
       "    .dataframe tbody tr th:only-of-type {\n",
       "        vertical-align: middle;\n",
       "    }\n",
       "\n",
       "    .dataframe tbody tr th {\n",
       "        vertical-align: top;\n",
       "    }\n",
       "\n",
       "    .dataframe thead th {\n",
       "        text-align: right;\n",
       "    }\n",
       "</style>\n",
       "<table border=\"1\" class=\"dataframe\">\n",
       "  <thead>\n",
       "    <tr style=\"text-align: right;\">\n",
       "      <th></th>\n",
       "      <th>MonthlyCharges</th>\n",
       "      <th>TotalCharges</th>\n",
       "      <th>SeniorCitizen</th>\n",
       "    </tr>\n",
       "  </thead>\n",
       "  <tbody>\n",
       "    <tr>\n",
       "      <th>count</th>\n",
       "      <td>7043.000000</td>\n",
       "      <td>7043.000000</td>\n",
       "      <td>7043.000000</td>\n",
       "    </tr>\n",
       "    <tr>\n",
       "      <th>mean</th>\n",
       "      <td>64.761692</td>\n",
       "      <td>2281.916928</td>\n",
       "      <td>0.162147</td>\n",
       "    </tr>\n",
       "    <tr>\n",
       "      <th>std</th>\n",
       "      <td>30.090047</td>\n",
       "      <td>2265.270398</td>\n",
       "      <td>0.368612</td>\n",
       "    </tr>\n",
       "    <tr>\n",
       "      <th>min</th>\n",
       "      <td>18.250000</td>\n",
       "      <td>18.800000</td>\n",
       "      <td>0.000000</td>\n",
       "    </tr>\n",
       "    <tr>\n",
       "      <th>25%</th>\n",
       "      <td>35.500000</td>\n",
       "      <td>402.225000</td>\n",
       "      <td>0.000000</td>\n",
       "    </tr>\n",
       "    <tr>\n",
       "      <th>50%</th>\n",
       "      <td>70.350000</td>\n",
       "      <td>1397.475000</td>\n",
       "      <td>0.000000</td>\n",
       "    </tr>\n",
       "    <tr>\n",
       "      <th>75%</th>\n",
       "      <td>89.850000</td>\n",
       "      <td>3786.600000</td>\n",
       "      <td>0.000000</td>\n",
       "    </tr>\n",
       "    <tr>\n",
       "      <th>max</th>\n",
       "      <td>118.750000</td>\n",
       "      <td>8684.800000</td>\n",
       "      <td>1.000000</td>\n",
       "    </tr>\n",
       "  </tbody>\n",
       "</table>\n",
       "</div>"
      ],
      "text/plain": [
       "       MonthlyCharges  TotalCharges  SeniorCitizen\n",
       "count     7043.000000   7043.000000    7043.000000\n",
       "mean        64.761692   2281.916928       0.162147\n",
       "std         30.090047   2265.270398       0.368612\n",
       "min         18.250000     18.800000       0.000000\n",
       "25%         35.500000    402.225000       0.000000\n",
       "50%         70.350000   1397.475000       0.000000\n",
       "75%         89.850000   3786.600000       0.000000\n",
       "max        118.750000   8684.800000       1.000000"
      ]
     },
     "execution_count": 552,
     "metadata": {},
     "output_type": "execute_result"
    }
   ],
   "source": [
    "customers_df.describe()"
   ]
  },
  {
   "cell_type": "markdown",
   "metadata": {},
   "source": [
    "Performed a successful merge of the datasets on the customerID column. Still need to introduce some encoding and NaN value fillings."
   ]
  },
  {
   "cell_type": "code",
   "execution_count": 553,
   "metadata": {},
   "outputs": [
    {
     "name": "stdout",
     "output_type": "stream",
     "text": [
      "True     5174\n",
      "False    1869\n",
      "Name: EndDate, dtype: int64\n"
     ]
    }
   ],
   "source": [
    "# How many customers canceled their Interconnect Telecom subscription\n",
    "\n",
    "print((customers_df['EndDate'] == 'No').value_counts())"
   ]
  },
  {
   "cell_type": "code",
   "execution_count": 554,
   "metadata": {},
   "outputs": [],
   "source": [
    "retained_customers = (customers_df['EndDate'] == 'No').sum()\n",
    "canceled_customers = (~(customers_df['EndDate'] == 'No')).sum()"
   ]
  },
  {
   "cell_type": "code",
   "execution_count": 555,
   "metadata": {},
   "outputs": [
    {
     "name": "stdout",
     "output_type": "stream",
     "text": [
      "Canceled customers %: 36.122922303826826\n"
     ]
    }
   ],
   "source": [
    "print('Canceled customers %:', (canceled_customers / retained_customers) * 100)"
   ]
  },
  {
   "cell_type": "code",
   "execution_count": 556,
   "metadata": {},
   "outputs": [
    {
     "name": "stdout",
     "output_type": "stream",
     "text": [
      "gender\n",
      "Female    7959341.575\n",
      "Male      8112199.350\n",
      "Name: TotalCharges, dtype: float64\n"
     ]
    }
   ],
   "source": [
    "# Most Payment by Gender\n",
    "\n",
    "gender_totals = customers_df.groupby(['gender'])['TotalCharges'].sum()\n",
    "print(gender_totals)"
   ]
  },
  {
   "cell_type": "code",
   "execution_count": 557,
   "metadata": {},
   "outputs": [
    {
     "name": "stdout",
     "output_type": "stream",
     "text": [
      "Average Tenure of customers for Interconnect Telecom in days: 547.3520599250936\n"
     ]
    },
    {
     "data": {
      "text/plain": [
       "count    1869.000000\n",
       "mean      547.352060\n",
       "std       594.389607\n",
       "min        30.000000\n",
       "25%        61.000000\n",
       "50%       304.000000\n",
       "75%       883.000000\n",
       "max      2191.000000\n",
       "Name: Tenure, dtype: float64"
      ]
     },
     "execution_count": 557,
     "metadata": {},
     "output_type": "execute_result"
    }
   ],
   "source": [
    "# Average Tenure of a Interconnect Telecom Customer\n",
    "\n",
    "customers_df['EndDate'] = pd.to_datetime(customers_df['EndDate'], errors='coerce')\n",
    "\n",
    "customers_df['Tenure'] = (customers_df['EndDate'] - customers_df['BeginDate']).dt.days\n",
    "\n",
    "canceled_customers = customers_df[customers_df['EndDate'] != 'No']\n",
    "\n",
    "avg_tenure_cancel = canceled_customers['Tenure'].mean()\n",
    "\n",
    "print('Average Tenure of customers for Interconnect Telecom in days:', avg_tenure_cancel)\n",
    "\n",
    "customers_df['Tenure'].describe()"
   ]
  },
  {
   "cell_type": "code",
   "execution_count": 558,
   "metadata": {},
   "outputs": [],
   "source": [
    "customers_df['Tenure'] = customers_df['Tenure'].fillna(0)\n",
    "customers_df['EndDate'] = customers_df['EndDate'].fillna(0)"
   ]
  },
  {
   "cell_type": "code",
   "execution_count": 559,
   "metadata": {},
   "outputs": [
    {
     "data": {
      "image/png": "[encoded data removed]",
      "text/plain": [
       "<Figure size 1000x1000 with 1 Axes>"
      ]
     },
     "metadata": {},
     "output_type": "display_data"
    },
    {
     "name": "stdout",
     "output_type": "stream",
     "text": [
      "Correlation Coefficient: \"0.2528043821880765\"\n"
     ]
    }
   ],
   "source": [
    "# Scatterplot of Tenure vs Monthly Charges\n",
    "\n",
    "plt.figure(figsize=(10,10))\n",
    "sns.scatterplot(x='Tenure', y='MonthlyCharges', data=customers_df, alpha=.75, color='r')\n",
    "plt.xlabel('Tenure in Months')\n",
    "plt.ylabel('Monthly Charges')\n",
    "plt.title('Tenure v Monthly Charges')\n",
    "plt.show()\n",
    "\n",
    "corr_coe = customers_df['Tenure'].corr(customers_df['MonthlyCharges'])\n",
    "print(f'Correlation Coefficient: \"{corr_coe}\"')"
   ]
  },
  {
   "cell_type": "markdown",
   "metadata": {},
   "source": [
    "## EDA  Findings :\n",
    "\n",
    "Once we merged all the datasets on `customerID`, we have some interesting intial findings. \n",
    "\n",
    "- There are 7043 rows of data.\n",
    "- The mean monthly charge for services for each customer is around 65.\n",
    "- The median monthly charge for services for each customer is 70.\n",
    "- 36.12% of Interconnect Telecom customers have canceled their subscription services.\n",
    "- Males tend to play more than Females for services.\n",
    "- The average tenure for a customer with Interconnect Telecom is about 547 days.\n",
    "- The median tenure for a customer with Interconnect Telecom is about 304 days.\n",
    "- Their is a low correlation between Tenure and Monthly Charges for customers. (.25)\n",
    "\n",
    "From a initial analysis it looks like monthly charges do not correlate with customer tenure. Next we will build a predictive model to determine when a customer will churn. "
   ]
  },
  {
   "cell_type": "markdown",
   "metadata": {},
   "source": [
    "### Work Plan for Interconnect Telecom Churn Forecasting"
   ]
  },
  {
   "cell_type": "markdown",
   "metadata": {},
   "source": [
    "1.  Data Preperation \n",
    "\n",
    "\n",
    " - Read and load data from the given .csv files: `contract.csv`, `personal.csv`, `internet.csv`, `phone.csv`. Make them panda Dataframes.\n",
    "\n",
    "2. Exploratory Data Analysis (EDA)\n",
    "\n",
    "\n",
    " - Conduct a EDA to gain insights into the data, understand the different of variables, and find patterns and trends.\n",
    "\n",
    "\n",
    "3. Include A Form Of Feature Engineering\n",
    "\n",
    " - Create new features that are relevant to the data that will help with enhancing our new predictive model.\n",
    "\n",
    "\n",
    "4. Select Models\n",
    "\n",
    "\n",
    " - Select the appropiate machine learning models that will determine churn prediciton and add a boosting techniques. (Logistic Regression, Random Forest, Gradient Boosting, etc.)\n",
    "\n",
    "\n",
    "5. Model Training and Evaluation\n",
    "\n",
    " - Train the choosen models and use metrics such as AUC-ROC to determine accuracy.\n",
    "\n",
    "\n",
    "6. Detertmine The Best Performing Model Based on Results\n",
    "\n",
    " - After finding the best model, use it to forecast churn for new clients based on the data.\n",
    "\n",
    "\n",
    "7. Conclusion Report and Visualizations\n",
    "\n",
    " - Create a conclusion that summarizes the findings and results from the analysis and models."
   ]
  },
  {
   "cell_type": "markdown",
   "metadata": {},
   "source": [
    "## Solution Code"
   ]
  },
  {
   "cell_type": "code",
   "execution_count": 560,
   "metadata": {},
   "outputs": [
    {
     "data": {
      "text/plain": [
       "customerID             0\n",
       "BeginDate              0\n",
       "EndDate                0\n",
       "Type                   0\n",
       "PaperlessBilling       0\n",
       "PaymentMethod          0\n",
       "MonthlyCharges         0\n",
       "TotalCharges           0\n",
       "gender                 0\n",
       "SeniorCitizen          0\n",
       "Partner                0\n",
       "Dependents             0\n",
       "MultipleLines        682\n",
       "InternetService     1526\n",
       "OnlineSecurity      1526\n",
       "OnlineBackup        1526\n",
       "DeviceProtection    1526\n",
       "TechSupport         1526\n",
       "StreamingTV         1526\n",
       "StreamingMovies     1526\n",
       "Tenure                 0\n",
       "dtype: int64"
      ]
     },
     "execution_count": 560,
     "metadata": {},
     "output_type": "execute_result"
    }
   ],
   "source": [
    "customers_df.isna().sum()"
   ]
  },
  {
   "cell_type": "code",
   "execution_count": 561,
   "metadata": {},
   "outputs": [],
   "source": [
    "def did_not_buy_fill(df, columns):\n",
    "    did_not_buy = 'Did Not Buy'\n",
    "    for col in columns:\n",
    "        df[col] = df[col].fillna(did_not_buy)\n",
    "    return df\n",
    "    \n",
    "columns_to_fill = ['MultipleLines', 'InternetService', 'OnlineSecurity', 'OnlineBackup', 'DeviceProtection',\n",
    "                   'TechSupport', 'StreamingTV', 'StreamingMovies']\n",
    "\n",
    "customers_df = did_not_buy_fill(customers_df, columns_to_fill)"
   ]
  },
  {
   "cell_type": "code",
   "execution_count": 562,
   "metadata": {},
   "outputs": [
    {
     "data": {
      "text/html": [
       "<div>\n",
       "<style scoped>\n",
       "    .dataframe tbody tr th:only-of-type {\n",
       "        vertical-align: middle;\n",
       "    }\n",
       "\n",
       "    .dataframe tbody tr th {\n",
       "        vertical-align: top;\n",
       "    }\n",
       "\n",
       "    .dataframe thead th {\n",
       "        text-align: right;\n",
       "    }\n",
       "</style>\n",
       "<table border=\"1\" class=\"dataframe\">\n",
       "  <thead>\n",
       "    <tr style=\"text-align: right;\">\n",
       "      <th></th>\n",
       "      <th>customerID</th>\n",
       "      <th>BeginDate</th>\n",
       "      <th>EndDate</th>\n",
       "      <th>Type</th>\n",
       "      <th>PaperlessBilling</th>\n",
       "      <th>PaymentMethod</th>\n",
       "      <th>MonthlyCharges</th>\n",
       "      <th>TotalCharges</th>\n",
       "      <th>gender</th>\n",
       "      <th>SeniorCitizen</th>\n",
       "      <th>...</th>\n",
       "      <th>Dependents</th>\n",
       "      <th>MultipleLines</th>\n",
       "      <th>InternetService</th>\n",
       "      <th>OnlineSecurity</th>\n",
       "      <th>OnlineBackup</th>\n",
       "      <th>DeviceProtection</th>\n",
       "      <th>TechSupport</th>\n",
       "      <th>StreamingTV</th>\n",
       "      <th>StreamingMovies</th>\n",
       "      <th>Tenure</th>\n",
       "    </tr>\n",
       "  </thead>\n",
       "  <tbody>\n",
       "    <tr>\n",
       "      <th>25</th>\n",
       "      <td>6865-JZNKO</td>\n",
       "      <td>2017-08-01</td>\n",
       "      <td>0</td>\n",
       "      <td>Month-to-month</td>\n",
       "      <td>Yes</td>\n",
       "      <td>Bank transfer (automatic)</td>\n",
       "      <td>55.30</td>\n",
       "      <td>1530.60</td>\n",
       "      <td>Female</td>\n",
       "      <td>0</td>\n",
       "      <td>...</td>\n",
       "      <td>No</td>\n",
       "      <td>No</td>\n",
       "      <td>DSL</td>\n",
       "      <td>Yes</td>\n",
       "      <td>Yes</td>\n",
       "      <td>No</td>\n",
       "      <td>No</td>\n",
       "      <td>No</td>\n",
       "      <td>No</td>\n",
       "      <td>0.0</td>\n",
       "    </tr>\n",
       "    <tr>\n",
       "      <th>2102</th>\n",
       "      <td>2911-WDXMV</td>\n",
       "      <td>2018-08-01</td>\n",
       "      <td>0</td>\n",
       "      <td>Month-to-month</td>\n",
       "      <td>Yes</td>\n",
       "      <td>Credit card (automatic)</td>\n",
       "      <td>80.55</td>\n",
       "      <td>1406.65</td>\n",
       "      <td>Male</td>\n",
       "      <td>0</td>\n",
       "      <td>...</td>\n",
       "      <td>Yes</td>\n",
       "      <td>Yes</td>\n",
       "      <td>Fiber optic</td>\n",
       "      <td>No</td>\n",
       "      <td>No</td>\n",
       "      <td>Yes</td>\n",
       "      <td>No</td>\n",
       "      <td>No</td>\n",
       "      <td>No</td>\n",
       "      <td>0.0</td>\n",
       "    </tr>\n",
       "    <tr>\n",
       "      <th>3684</th>\n",
       "      <td>2842-BCQGE</td>\n",
       "      <td>2016-07-01</td>\n",
       "      <td>0</td>\n",
       "      <td>Month-to-month</td>\n",
       "      <td>Yes</td>\n",
       "      <td>Credit card (automatic)</td>\n",
       "      <td>75.35</td>\n",
       "      <td>3161.40</td>\n",
       "      <td>Male</td>\n",
       "      <td>0</td>\n",
       "      <td>...</td>\n",
       "      <td>No</td>\n",
       "      <td>Yes</td>\n",
       "      <td>Fiber optic</td>\n",
       "      <td>No</td>\n",
       "      <td>No</td>\n",
       "      <td>No</td>\n",
       "      <td>No</td>\n",
       "      <td>No</td>\n",
       "      <td>No</td>\n",
       "      <td>0.0</td>\n",
       "    </tr>\n",
       "    <tr>\n",
       "      <th>4162</th>\n",
       "      <td>0769-MURVM</td>\n",
       "      <td>2014-02-01</td>\n",
       "      <td>0</td>\n",
       "      <td>Two year</td>\n",
       "      <td>No</td>\n",
       "      <td>Bank transfer (automatic)</td>\n",
       "      <td>65.70</td>\n",
       "      <td>4575.35</td>\n",
       "      <td>Female</td>\n",
       "      <td>0</td>\n",
       "      <td>...</td>\n",
       "      <td>Yes</td>\n",
       "      <td>Did Not Buy</td>\n",
       "      <td>DSL</td>\n",
       "      <td>Yes</td>\n",
       "      <td>Yes</td>\n",
       "      <td>Yes</td>\n",
       "      <td>Yes</td>\n",
       "      <td>Yes</td>\n",
       "      <td>Yes</td>\n",
       "      <td>0.0</td>\n",
       "    </tr>\n",
       "    <tr>\n",
       "      <th>1948</th>\n",
       "      <td>8183-ONMXC</td>\n",
       "      <td>2019-10-01</td>\n",
       "      <td>2019-12-01 00:00:00</td>\n",
       "      <td>Month-to-month</td>\n",
       "      <td>No</td>\n",
       "      <td>Electronic check</td>\n",
       "      <td>80.75</td>\n",
       "      <td>159.45</td>\n",
       "      <td>Female</td>\n",
       "      <td>0</td>\n",
       "      <td>...</td>\n",
       "      <td>No</td>\n",
       "      <td>No</td>\n",
       "      <td>Fiber optic</td>\n",
       "      <td>No</td>\n",
       "      <td>No</td>\n",
       "      <td>No</td>\n",
       "      <td>No</td>\n",
       "      <td>No</td>\n",
       "      <td>Yes</td>\n",
       "      <td>61.0</td>\n",
       "    </tr>\n",
       "    <tr>\n",
       "      <th>1552</th>\n",
       "      <td>2245-ADZFJ</td>\n",
       "      <td>2017-07-01</td>\n",
       "      <td>0</td>\n",
       "      <td>Two year</td>\n",
       "      <td>No</td>\n",
       "      <td>Bank transfer (automatic)</td>\n",
       "      <td>80.55</td>\n",
       "      <td>2471.60</td>\n",
       "      <td>Female</td>\n",
       "      <td>0</td>\n",
       "      <td>...</td>\n",
       "      <td>Yes</td>\n",
       "      <td>Yes</td>\n",
       "      <td>DSL</td>\n",
       "      <td>No</td>\n",
       "      <td>Yes</td>\n",
       "      <td>No</td>\n",
       "      <td>Yes</td>\n",
       "      <td>Yes</td>\n",
       "      <td>Yes</td>\n",
       "      <td>0.0</td>\n",
       "    </tr>\n",
       "    <tr>\n",
       "      <th>5361</th>\n",
       "      <td>2495-TTHBQ</td>\n",
       "      <td>2019-10-01</td>\n",
       "      <td>0</td>\n",
       "      <td>One year</td>\n",
       "      <td>Yes</td>\n",
       "      <td>Mailed check</td>\n",
       "      <td>20.40</td>\n",
       "      <td>84.75</td>\n",
       "      <td>Female</td>\n",
       "      <td>0</td>\n",
       "      <td>...</td>\n",
       "      <td>Yes</td>\n",
       "      <td>No</td>\n",
       "      <td>Did Not Buy</td>\n",
       "      <td>Did Not Buy</td>\n",
       "      <td>Did Not Buy</td>\n",
       "      <td>Did Not Buy</td>\n",
       "      <td>Did Not Buy</td>\n",
       "      <td>Did Not Buy</td>\n",
       "      <td>Did Not Buy</td>\n",
       "      <td>0.0</td>\n",
       "    </tr>\n",
       "    <tr>\n",
       "      <th>6906</th>\n",
       "      <td>9945-PSVIP</td>\n",
       "      <td>2018-01-01</td>\n",
       "      <td>0</td>\n",
       "      <td>Two year</td>\n",
       "      <td>Yes</td>\n",
       "      <td>Mailed check</td>\n",
       "      <td>18.70</td>\n",
       "      <td>383.65</td>\n",
       "      <td>Female</td>\n",
       "      <td>0</td>\n",
       "      <td>...</td>\n",
       "      <td>Yes</td>\n",
       "      <td>No</td>\n",
       "      <td>Did Not Buy</td>\n",
       "      <td>Did Not Buy</td>\n",
       "      <td>Did Not Buy</td>\n",
       "      <td>Did Not Buy</td>\n",
       "      <td>Did Not Buy</td>\n",
       "      <td>Did Not Buy</td>\n",
       "      <td>Did Not Buy</td>\n",
       "      <td>0.0</td>\n",
       "    </tr>\n",
       "    <tr>\n",
       "      <th>5462</th>\n",
       "      <td>9289-LBQVU</td>\n",
       "      <td>2014-10-01</td>\n",
       "      <td>0</td>\n",
       "      <td>One year</td>\n",
       "      <td>Yes</td>\n",
       "      <td>Mailed check</td>\n",
       "      <td>70.15</td>\n",
       "      <td>4480.70</td>\n",
       "      <td>Male</td>\n",
       "      <td>0</td>\n",
       "      <td>...</td>\n",
       "      <td>No</td>\n",
       "      <td>Yes</td>\n",
       "      <td>DSL</td>\n",
       "      <td>No</td>\n",
       "      <td>Yes</td>\n",
       "      <td>No</td>\n",
       "      <td>Yes</td>\n",
       "      <td>No</td>\n",
       "      <td>Yes</td>\n",
       "      <td>0.0</td>\n",
       "    </tr>\n",
       "    <tr>\n",
       "      <th>5388</th>\n",
       "      <td>5515-IDEJJ</td>\n",
       "      <td>2019-12-01</td>\n",
       "      <td>2020-01-01 00:00:00</td>\n",
       "      <td>Month-to-month</td>\n",
       "      <td>No</td>\n",
       "      <td>Mailed check</td>\n",
       "      <td>19.90</td>\n",
       "      <td>19.90</td>\n",
       "      <td>Male</td>\n",
       "      <td>0</td>\n",
       "      <td>...</td>\n",
       "      <td>Yes</td>\n",
       "      <td>No</td>\n",
       "      <td>Did Not Buy</td>\n",
       "      <td>Did Not Buy</td>\n",
       "      <td>Did Not Buy</td>\n",
       "      <td>Did Not Buy</td>\n",
       "      <td>Did Not Buy</td>\n",
       "      <td>Did Not Buy</td>\n",
       "      <td>Did Not Buy</td>\n",
       "      <td>31.0</td>\n",
       "    </tr>\n",
       "  </tbody>\n",
       "</table>\n",
       "<p>10 rows × 21 columns</p>\n",
       "</div>"
      ],
      "text/plain": [
       "      customerID  BeginDate              EndDate            Type  \\\n",
       "25    6865-JZNKO 2017-08-01                    0  Month-to-month   \n",
       "2102  2911-WDXMV 2018-08-01                    0  Month-to-month   \n",
       "3684  2842-BCQGE 2016-07-01                    0  Month-to-month   \n",
       "4162  0769-MURVM 2014-02-01                    0        Two year   \n",
       "1948  8183-ONMXC 2019-10-01  2019-12-01 00:00:00  Month-to-month   \n",
       "1552  2245-ADZFJ 2017-07-01                    0        Two year   \n",
       "5361  2495-TTHBQ 2019-10-01                    0        One year   \n",
       "6906  9945-PSVIP 2018-01-01                    0        Two year   \n",
       "5462  9289-LBQVU 2014-10-01                    0        One year   \n",
       "5388  5515-IDEJJ 2019-12-01  2020-01-01 00:00:00  Month-to-month   \n",
       "\n",
       "     PaperlessBilling              PaymentMethod  MonthlyCharges  \\\n",
       "25                Yes  Bank transfer (automatic)           55.30   \n",
       "2102              Yes    Credit card (automatic)           80.55   \n",
       "3684              Yes    Credit card (automatic)           75.35   \n",
       "4162               No  Bank transfer (automatic)           65.70   \n",
       "1948               No           Electronic check           80.75   \n",
       "1552               No  Bank transfer (automatic)           80.55   \n",
       "5361              Yes               Mailed check           20.40   \n",
       "6906              Yes               Mailed check           18.70   \n",
       "5462              Yes               Mailed check           70.15   \n",
       "5388               No               Mailed check           19.90   \n",
       "\n",
       "      TotalCharges  gender  SeniorCitizen  ... Dependents MultipleLines  \\\n",
       "25         1530.60  Female              0  ...         No            No   \n",
       "2102       1406.65    Male              0  ...        Yes           Yes   \n",
       "3684       3161.40    Male              0  ...         No           Yes   \n",
       "4162       4575.35  Female              0  ...        Yes   Did Not Buy   \n",
       "1948        159.45  Female              0  ...         No            No   \n",
       "1552       2471.60  Female              0  ...        Yes           Yes   \n",
       "5361         84.75  Female              0  ...        Yes            No   \n",
       "6906        383.65  Female              0  ...        Yes            No   \n",
       "5462       4480.70    Male              0  ...         No           Yes   \n",
       "5388         19.90    Male              0  ...        Yes            No   \n",
       "\n",
       "     InternetService OnlineSecurity OnlineBackup DeviceProtection  \\\n",
       "25               DSL            Yes          Yes               No   \n",
       "2102     Fiber optic             No           No              Yes   \n",
       "3684     Fiber optic             No           No               No   \n",
       "4162             DSL            Yes          Yes              Yes   \n",
       "1948     Fiber optic             No           No               No   \n",
       "1552             DSL             No          Yes               No   \n",
       "5361     Did Not Buy    Did Not Buy  Did Not Buy      Did Not Buy   \n",
       "6906     Did Not Buy    Did Not Buy  Did Not Buy      Did Not Buy   \n",
       "5462             DSL             No          Yes               No   \n",
       "5388     Did Not Buy    Did Not Buy  Did Not Buy      Did Not Buy   \n",
       "\n",
       "      TechSupport  StreamingTV StreamingMovies Tenure  \n",
       "25             No           No              No    0.0  \n",
       "2102           No           No              No    0.0  \n",
       "3684           No           No              No    0.0  \n",
       "4162          Yes          Yes             Yes    0.0  \n",
       "1948           No           No             Yes   61.0  \n",
       "1552          Yes          Yes             Yes    0.0  \n",
       "5361  Did Not Buy  Did Not Buy     Did Not Buy    0.0  \n",
       "6906  Did Not Buy  Did Not Buy     Did Not Buy    0.0  \n",
       "5462          Yes           No             Yes    0.0  \n",
       "5388  Did Not Buy  Did Not Buy     Did Not Buy   31.0  \n",
       "\n",
       "[10 rows x 21 columns]"
      ]
     },
     "execution_count": 562,
     "metadata": {},
     "output_type": "execute_result"
    }
   ],
   "source": [
    "customers_df.sample(10)"
   ]
  },
  {
   "cell_type": "code",
   "execution_count": 563,
   "metadata": {},
   "outputs": [
    {
     "data": {
      "text/plain": [
       "customerID          0\n",
       "BeginDate           0\n",
       "EndDate             0\n",
       "Type                0\n",
       "PaperlessBilling    0\n",
       "PaymentMethod       0\n",
       "MonthlyCharges      0\n",
       "TotalCharges        0\n",
       "gender              0\n",
       "SeniorCitizen       0\n",
       "Partner             0\n",
       "Dependents          0\n",
       "MultipleLines       0\n",
       "InternetService     0\n",
       "OnlineSecurity      0\n",
       "OnlineBackup        0\n",
       "DeviceProtection    0\n",
       "TechSupport         0\n",
       "StreamingTV         0\n",
       "StreamingMovies     0\n",
       "Tenure              0\n",
       "dtype: int64"
      ]
     },
     "execution_count": 563,
     "metadata": {},
     "output_type": "execute_result"
    }
   ],
   "source": [
    "customers_df.isna().sum()"
   ]
  },
  {
   "cell_type": "code",
   "execution_count": 564,
   "metadata": {},
   "outputs": [],
   "source": [
    "#Update Churn Status with 0/1 for model prep.\n",
    "\n",
    "def churn_update(date):\n",
    "    if date == 0:\n",
    "        return 'NO CHURN'\n",
    "    else:\n",
    "        return 'CHURN'\n",
    "    \n",
    "customers_df['EndDate'] = customers_df['EndDate'].apply(churn_update)"
   ]
  },
  {
   "cell_type": "code",
   "execution_count": 565,
   "metadata": {},
   "outputs": [
    {
     "data": {
      "text/html": [
       "<div>\n",
       "<style scoped>\n",
       "    .dataframe tbody tr th:only-of-type {\n",
       "        vertical-align: middle;\n",
       "    }\n",
       "\n",
       "    .dataframe tbody tr th {\n",
       "        vertical-align: top;\n",
       "    }\n",
       "\n",
       "    .dataframe thead th {\n",
       "        text-align: right;\n",
       "    }\n",
       "</style>\n",
       "<table border=\"1\" class=\"dataframe\">\n",
       "  <thead>\n",
       "    <tr style=\"text-align: right;\">\n",
       "      <th></th>\n",
       "      <th>customerID</th>\n",
       "      <th>BeginDate</th>\n",
       "      <th>EndDate</th>\n",
       "      <th>Type</th>\n",
       "      <th>PaperlessBilling</th>\n",
       "      <th>PaymentMethod</th>\n",
       "      <th>MonthlyCharges</th>\n",
       "      <th>TotalCharges</th>\n",
       "      <th>gender</th>\n",
       "      <th>SeniorCitizen</th>\n",
       "      <th>...</th>\n",
       "      <th>Dependents</th>\n",
       "      <th>MultipleLines</th>\n",
       "      <th>InternetService</th>\n",
       "      <th>OnlineSecurity</th>\n",
       "      <th>OnlineBackup</th>\n",
       "      <th>DeviceProtection</th>\n",
       "      <th>TechSupport</th>\n",
       "      <th>StreamingTV</th>\n",
       "      <th>StreamingMovies</th>\n",
       "      <th>Tenure</th>\n",
       "    </tr>\n",
       "  </thead>\n",
       "  <tbody>\n",
       "    <tr>\n",
       "      <th>0</th>\n",
       "      <td>7590-VHVEG</td>\n",
       "      <td>2020-01-01</td>\n",
       "      <td>NO CHURN</td>\n",
       "      <td>Month-to-month</td>\n",
       "      <td>Yes</td>\n",
       "      <td>Electronic check</td>\n",
       "      <td>29.85</td>\n",
       "      <td>29.85</td>\n",
       "      <td>Female</td>\n",
       "      <td>0</td>\n",
       "      <td>...</td>\n",
       "      <td>No</td>\n",
       "      <td>Did Not Buy</td>\n",
       "      <td>DSL</td>\n",
       "      <td>No</td>\n",
       "      <td>Yes</td>\n",
       "      <td>No</td>\n",
       "      <td>No</td>\n",
       "      <td>No</td>\n",
       "      <td>No</td>\n",
       "      <td>0.0</td>\n",
       "    </tr>\n",
       "    <tr>\n",
       "      <th>1</th>\n",
       "      <td>5575-GNVDE</td>\n",
       "      <td>2017-04-01</td>\n",
       "      <td>NO CHURN</td>\n",
       "      <td>One year</td>\n",
       "      <td>No</td>\n",
       "      <td>Mailed check</td>\n",
       "      <td>56.95</td>\n",
       "      <td>1889.50</td>\n",
       "      <td>Male</td>\n",
       "      <td>0</td>\n",
       "      <td>...</td>\n",
       "      <td>No</td>\n",
       "      <td>No</td>\n",
       "      <td>DSL</td>\n",
       "      <td>Yes</td>\n",
       "      <td>No</td>\n",
       "      <td>Yes</td>\n",
       "      <td>No</td>\n",
       "      <td>No</td>\n",
       "      <td>No</td>\n",
       "      <td>0.0</td>\n",
       "    </tr>\n",
       "    <tr>\n",
       "      <th>2</th>\n",
       "      <td>3668-QPYBK</td>\n",
       "      <td>2019-10-01</td>\n",
       "      <td>CHURN</td>\n",
       "      <td>Month-to-month</td>\n",
       "      <td>Yes</td>\n",
       "      <td>Mailed check</td>\n",
       "      <td>53.85</td>\n",
       "      <td>108.15</td>\n",
       "      <td>Male</td>\n",
       "      <td>0</td>\n",
       "      <td>...</td>\n",
       "      <td>No</td>\n",
       "      <td>No</td>\n",
       "      <td>DSL</td>\n",
       "      <td>Yes</td>\n",
       "      <td>Yes</td>\n",
       "      <td>No</td>\n",
       "      <td>No</td>\n",
       "      <td>No</td>\n",
       "      <td>No</td>\n",
       "      <td>61.0</td>\n",
       "    </tr>\n",
       "    <tr>\n",
       "      <th>3</th>\n",
       "      <td>7795-CFOCW</td>\n",
       "      <td>2016-05-01</td>\n",
       "      <td>NO CHURN</td>\n",
       "      <td>One year</td>\n",
       "      <td>No</td>\n",
       "      <td>Bank transfer (automatic)</td>\n",
       "      <td>42.30</td>\n",
       "      <td>1840.75</td>\n",
       "      <td>Male</td>\n",
       "      <td>0</td>\n",
       "      <td>...</td>\n",
       "      <td>No</td>\n",
       "      <td>Did Not Buy</td>\n",
       "      <td>DSL</td>\n",
       "      <td>Yes</td>\n",
       "      <td>No</td>\n",
       "      <td>Yes</td>\n",
       "      <td>Yes</td>\n",
       "      <td>No</td>\n",
       "      <td>No</td>\n",
       "      <td>0.0</td>\n",
       "    </tr>\n",
       "    <tr>\n",
       "      <th>4</th>\n",
       "      <td>9237-HQITU</td>\n",
       "      <td>2019-09-01</td>\n",
       "      <td>CHURN</td>\n",
       "      <td>Month-to-month</td>\n",
       "      <td>Yes</td>\n",
       "      <td>Electronic check</td>\n",
       "      <td>70.70</td>\n",
       "      <td>151.65</td>\n",
       "      <td>Female</td>\n",
       "      <td>0</td>\n",
       "      <td>...</td>\n",
       "      <td>No</td>\n",
       "      <td>No</td>\n",
       "      <td>Fiber optic</td>\n",
       "      <td>No</td>\n",
       "      <td>No</td>\n",
       "      <td>No</td>\n",
       "      <td>No</td>\n",
       "      <td>No</td>\n",
       "      <td>No</td>\n",
       "      <td>61.0</td>\n",
       "    </tr>\n",
       "    <tr>\n",
       "      <th>...</th>\n",
       "      <td>...</td>\n",
       "      <td>...</td>\n",
       "      <td>...</td>\n",
       "      <td>...</td>\n",
       "      <td>...</td>\n",
       "      <td>...</td>\n",
       "      <td>...</td>\n",
       "      <td>...</td>\n",
       "      <td>...</td>\n",
       "      <td>...</td>\n",
       "      <td>...</td>\n",
       "      <td>...</td>\n",
       "      <td>...</td>\n",
       "      <td>...</td>\n",
       "      <td>...</td>\n",
       "      <td>...</td>\n",
       "      <td>...</td>\n",
       "      <td>...</td>\n",
       "      <td>...</td>\n",
       "      <td>...</td>\n",
       "      <td>...</td>\n",
       "    </tr>\n",
       "    <tr>\n",
       "      <th>7038</th>\n",
       "      <td>6840-RESVB</td>\n",
       "      <td>2018-02-01</td>\n",
       "      <td>NO CHURN</td>\n",
       "      <td>One year</td>\n",
       "      <td>Yes</td>\n",
       "      <td>Mailed check</td>\n",
       "      <td>84.80</td>\n",
       "      <td>1990.50</td>\n",
       "      <td>Male</td>\n",
       "      <td>0</td>\n",
       "      <td>...</td>\n",
       "      <td>Yes</td>\n",
       "      <td>Yes</td>\n",
       "      <td>DSL</td>\n",
       "      <td>Yes</td>\n",
       "      <td>No</td>\n",
       "      <td>Yes</td>\n",
       "      <td>Yes</td>\n",
       "      <td>Yes</td>\n",
       "      <td>Yes</td>\n",
       "      <td>0.0</td>\n",
       "    </tr>\n",
       "    <tr>\n",
       "      <th>7039</th>\n",
       "      <td>2234-XADUH</td>\n",
       "      <td>2014-02-01</td>\n",
       "      <td>NO CHURN</td>\n",
       "      <td>One year</td>\n",
       "      <td>Yes</td>\n",
       "      <td>Credit card (automatic)</td>\n",
       "      <td>103.20</td>\n",
       "      <td>7362.90</td>\n",
       "      <td>Female</td>\n",
       "      <td>0</td>\n",
       "      <td>...</td>\n",
       "      <td>Yes</td>\n",
       "      <td>Yes</td>\n",
       "      <td>Fiber optic</td>\n",
       "      <td>No</td>\n",
       "      <td>Yes</td>\n",
       "      <td>Yes</td>\n",
       "      <td>No</td>\n",
       "      <td>Yes</td>\n",
       "      <td>Yes</td>\n",
       "      <td>0.0</td>\n",
       "    </tr>\n",
       "    <tr>\n",
       "      <th>7040</th>\n",
       "      <td>4801-JZAZL</td>\n",
       "      <td>2019-03-01</td>\n",
       "      <td>NO CHURN</td>\n",
       "      <td>Month-to-month</td>\n",
       "      <td>Yes</td>\n",
       "      <td>Electronic check</td>\n",
       "      <td>29.60</td>\n",
       "      <td>346.45</td>\n",
       "      <td>Female</td>\n",
       "      <td>0</td>\n",
       "      <td>...</td>\n",
       "      <td>Yes</td>\n",
       "      <td>Did Not Buy</td>\n",
       "      <td>DSL</td>\n",
       "      <td>Yes</td>\n",
       "      <td>No</td>\n",
       "      <td>No</td>\n",
       "      <td>No</td>\n",
       "      <td>No</td>\n",
       "      <td>No</td>\n",
       "      <td>0.0</td>\n",
       "    </tr>\n",
       "    <tr>\n",
       "      <th>7041</th>\n",
       "      <td>8361-LTMKD</td>\n",
       "      <td>2019-07-01</td>\n",
       "      <td>CHURN</td>\n",
       "      <td>Month-to-month</td>\n",
       "      <td>Yes</td>\n",
       "      <td>Mailed check</td>\n",
       "      <td>74.40</td>\n",
       "      <td>306.60</td>\n",
       "      <td>Male</td>\n",
       "      <td>1</td>\n",
       "      <td>...</td>\n",
       "      <td>No</td>\n",
       "      <td>Yes</td>\n",
       "      <td>Fiber optic</td>\n",
       "      <td>No</td>\n",
       "      <td>No</td>\n",
       "      <td>No</td>\n",
       "      <td>No</td>\n",
       "      <td>No</td>\n",
       "      <td>No</td>\n",
       "      <td>123.0</td>\n",
       "    </tr>\n",
       "    <tr>\n",
       "      <th>7042</th>\n",
       "      <td>3186-AJIEK</td>\n",
       "      <td>2014-08-01</td>\n",
       "      <td>NO CHURN</td>\n",
       "      <td>Two year</td>\n",
       "      <td>Yes</td>\n",
       "      <td>Bank transfer (automatic)</td>\n",
       "      <td>105.65</td>\n",
       "      <td>6844.50</td>\n",
       "      <td>Male</td>\n",
       "      <td>0</td>\n",
       "      <td>...</td>\n",
       "      <td>No</td>\n",
       "      <td>No</td>\n",
       "      <td>Fiber optic</td>\n",
       "      <td>Yes</td>\n",
       "      <td>No</td>\n",
       "      <td>Yes</td>\n",
       "      <td>Yes</td>\n",
       "      <td>Yes</td>\n",
       "      <td>Yes</td>\n",
       "      <td>0.0</td>\n",
       "    </tr>\n",
       "  </tbody>\n",
       "</table>\n",
       "<p>7043 rows × 21 columns</p>\n",
       "</div>"
      ],
      "text/plain": [
       "      customerID  BeginDate   EndDate            Type PaperlessBilling  \\\n",
       "0     7590-VHVEG 2020-01-01  NO CHURN  Month-to-month              Yes   \n",
       "1     5575-GNVDE 2017-04-01  NO CHURN        One year               No   \n",
       "2     3668-QPYBK 2019-10-01     CHURN  Month-to-month              Yes   \n",
       "3     7795-CFOCW 2016-05-01  NO CHURN        One year               No   \n",
       "4     9237-HQITU 2019-09-01     CHURN  Month-to-month              Yes   \n",
       "...          ...        ...       ...             ...              ...   \n",
       "7038  6840-RESVB 2018-02-01  NO CHURN        One year              Yes   \n",
       "7039  2234-XADUH 2014-02-01  NO CHURN        One year              Yes   \n",
       "7040  4801-JZAZL 2019-03-01  NO CHURN  Month-to-month              Yes   \n",
       "7041  8361-LTMKD 2019-07-01     CHURN  Month-to-month              Yes   \n",
       "7042  3186-AJIEK 2014-08-01  NO CHURN        Two year              Yes   \n",
       "\n",
       "                  PaymentMethod  MonthlyCharges  TotalCharges  gender  \\\n",
       "0              Electronic check           29.85         29.85  Female   \n",
       "1                  Mailed check           56.95       1889.50    Male   \n",
       "2                  Mailed check           53.85        108.15    Male   \n",
       "3     Bank transfer (automatic)           42.30       1840.75    Male   \n",
       "4              Electronic check           70.70        151.65  Female   \n",
       "...                         ...             ...           ...     ...   \n",
       "7038               Mailed check           84.80       1990.50    Male   \n",
       "7039    Credit card (automatic)          103.20       7362.90  Female   \n",
       "7040           Electronic check           29.60        346.45  Female   \n",
       "7041               Mailed check           74.40        306.60    Male   \n",
       "7042  Bank transfer (automatic)          105.65       6844.50    Male   \n",
       "\n",
       "      SeniorCitizen  ... Dependents MultipleLines InternetService  \\\n",
       "0                 0  ...         No   Did Not Buy             DSL   \n",
       "1                 0  ...         No            No             DSL   \n",
       "2                 0  ...         No            No             DSL   \n",
       "3                 0  ...         No   Did Not Buy             DSL   \n",
       "4                 0  ...         No            No     Fiber optic   \n",
       "...             ...  ...        ...           ...             ...   \n",
       "7038              0  ...        Yes           Yes             DSL   \n",
       "7039              0  ...        Yes           Yes     Fiber optic   \n",
       "7040              0  ...        Yes   Did Not Buy             DSL   \n",
       "7041              1  ...         No           Yes     Fiber optic   \n",
       "7042              0  ...         No            No     Fiber optic   \n",
       "\n",
       "     OnlineSecurity OnlineBackup DeviceProtection TechSupport StreamingTV  \\\n",
       "0                No          Yes               No          No          No   \n",
       "1               Yes           No              Yes          No          No   \n",
       "2               Yes          Yes               No          No          No   \n",
       "3               Yes           No              Yes         Yes          No   \n",
       "4                No           No               No          No          No   \n",
       "...             ...          ...              ...         ...         ...   \n",
       "7038            Yes           No              Yes         Yes         Yes   \n",
       "7039             No          Yes              Yes          No         Yes   \n",
       "7040            Yes           No               No          No          No   \n",
       "7041             No           No               No          No          No   \n",
       "7042            Yes           No              Yes         Yes         Yes   \n",
       "\n",
       "     StreamingMovies Tenure  \n",
       "0                 No    0.0  \n",
       "1                 No    0.0  \n",
       "2                 No   61.0  \n",
       "3                 No    0.0  \n",
       "4                 No   61.0  \n",
       "...              ...    ...  \n",
       "7038             Yes    0.0  \n",
       "7039             Yes    0.0  \n",
       "7040              No    0.0  \n",
       "7041              No  123.0  \n",
       "7042             Yes    0.0  \n",
       "\n",
       "[7043 rows x 21 columns]"
      ]
     },
     "execution_count": 565,
     "metadata": {},
     "output_type": "execute_result"
    }
   ],
   "source": [
    "customers_df"
   ]
  },
  {
   "cell_type": "code",
   "execution_count": 585,
   "metadata": {},
   "outputs": [],
   "source": [
    "#Encoding for model prep\n",
    "\n",
    "columns_for_onehot = ['PaperlessBilling', 'Type', 'PaymentMethod', 'gender', 'MultipleLines', 'InternetService',\n",
    "                      'OnlineSecurity', 'OnlineBackup', 'DeviceProtection', 'TechSupport','StreamingTV', 'StreamingMovies', 'Partner',\n",
    "                     'Dependents', 'SeniorCitizen']\n",
    "data_for_onehot = customers_df[columns_for_onehot].copy()\n",
    "\n",
    "onehot_encoder = OneHotEncoder()\n",
    "\n",
    "onehot_encoded_data = onehot_encoder.fit_transform(customers_df[columns_for_onehot])\n",
    "\n",
    "column_names = []\n",
    "\n",
    "for i, column in enumerate(columns_for_onehot):\n",
    "    categories = onehot_encoder.categories_[i]\n",
    "    column_names.extend([f\"{column}_{category}\" for category in categories])\n",
    "    \n",
    "onehot_encoded_data_df = pd.DataFrame(onehot_encoded_data.toarray(), columns=column_names)\n",
    "\n",
    "customers_df_encoded = customers_df.drop(columns=columns_for_onehot)\n",
    "\n",
    "customers_df_encoded = pd.concat([customers_df_encoded, onehot_encoded_data_df], axis=1)\n",
    "\n",
    "columns_for_onehot_label = ['EndDate']\n",
    "\n",
    "data_label = customers_df[columns_for_onehot_label].copy()\n",
    "\n",
    "label_encoder = LabelEncoder()\n",
    "\n",
    "data_label_encoded = label_encoder.fit_transform(data_label.values.ravel())\n",
    "\n",
    "customers_df_encoded['EndDate'] = data_label_encoded"
   ]
  },
  {
   "cell_type": "code",
   "execution_count": 586,
   "metadata": {},
   "outputs": [
    {
     "data": {
      "text/html": [
       "<div>\n",
       "<style scoped>\n",
       "    .dataframe tbody tr th:only-of-type {\n",
       "        vertical-align: middle;\n",
       "    }\n",
       "\n",
       "    .dataframe tbody tr th {\n",
       "        vertical-align: top;\n",
       "    }\n",
       "\n",
       "    .dataframe thead th {\n",
       "        text-align: right;\n",
       "    }\n",
       "</style>\n",
       "<table border=\"1\" class=\"dataframe\">\n",
       "  <thead>\n",
       "    <tr style=\"text-align: right;\">\n",
       "      <th></th>\n",
       "      <th>customerID</th>\n",
       "      <th>BeginDate</th>\n",
       "      <th>EndDate</th>\n",
       "      <th>MonthlyCharges</th>\n",
       "      <th>TotalCharges</th>\n",
       "      <th>Tenure</th>\n",
       "      <th>PaperlessBilling_No</th>\n",
       "      <th>PaperlessBilling_Yes</th>\n",
       "      <th>Type_Month-to-month</th>\n",
       "      <th>Type_One year</th>\n",
       "      <th>...</th>\n",
       "      <th>StreamingTV_Yes</th>\n",
       "      <th>StreamingMovies_Did Not Buy</th>\n",
       "      <th>StreamingMovies_No</th>\n",
       "      <th>StreamingMovies_Yes</th>\n",
       "      <th>Partner_No</th>\n",
       "      <th>Partner_Yes</th>\n",
       "      <th>Dependents_No</th>\n",
       "      <th>Dependents_Yes</th>\n",
       "      <th>SeniorCitizen_0</th>\n",
       "      <th>SeniorCitizen_1</th>\n",
       "    </tr>\n",
       "  </thead>\n",
       "  <tbody>\n",
       "    <tr>\n",
       "      <th>0</th>\n",
       "      <td>7590-VHVEG</td>\n",
       "      <td>2020-01-01</td>\n",
       "      <td>1</td>\n",
       "      <td>29.85</td>\n",
       "      <td>29.85</td>\n",
       "      <td>0.0</td>\n",
       "      <td>0.0</td>\n",
       "      <td>1.0</td>\n",
       "      <td>1.0</td>\n",
       "      <td>0.0</td>\n",
       "      <td>...</td>\n",
       "      <td>0.0</td>\n",
       "      <td>0.0</td>\n",
       "      <td>1.0</td>\n",
       "      <td>0.0</td>\n",
       "      <td>0.0</td>\n",
       "      <td>1.0</td>\n",
       "      <td>1.0</td>\n",
       "      <td>0.0</td>\n",
       "      <td>1.0</td>\n",
       "      <td>0.0</td>\n",
       "    </tr>\n",
       "    <tr>\n",
       "      <th>1</th>\n",
       "      <td>5575-GNVDE</td>\n",
       "      <td>2017-04-01</td>\n",
       "      <td>1</td>\n",
       "      <td>56.95</td>\n",
       "      <td>1889.50</td>\n",
       "      <td>0.0</td>\n",
       "      <td>1.0</td>\n",
       "      <td>0.0</td>\n",
       "      <td>0.0</td>\n",
       "      <td>1.0</td>\n",
       "      <td>...</td>\n",
       "      <td>0.0</td>\n",
       "      <td>0.0</td>\n",
       "      <td>1.0</td>\n",
       "      <td>0.0</td>\n",
       "      <td>1.0</td>\n",
       "      <td>0.0</td>\n",
       "      <td>1.0</td>\n",
       "      <td>0.0</td>\n",
       "      <td>1.0</td>\n",
       "      <td>0.0</td>\n",
       "    </tr>\n",
       "    <tr>\n",
       "      <th>2</th>\n",
       "      <td>3668-QPYBK</td>\n",
       "      <td>2019-10-01</td>\n",
       "      <td>0</td>\n",
       "      <td>53.85</td>\n",
       "      <td>108.15</td>\n",
       "      <td>61.0</td>\n",
       "      <td>0.0</td>\n",
       "      <td>1.0</td>\n",
       "      <td>1.0</td>\n",
       "      <td>0.0</td>\n",
       "      <td>...</td>\n",
       "      <td>0.0</td>\n",
       "      <td>0.0</td>\n",
       "      <td>1.0</td>\n",
       "      <td>0.0</td>\n",
       "      <td>1.0</td>\n",
       "      <td>0.0</td>\n",
       "      <td>1.0</td>\n",
       "      <td>0.0</td>\n",
       "      <td>1.0</td>\n",
       "      <td>0.0</td>\n",
       "    </tr>\n",
       "    <tr>\n",
       "      <th>3</th>\n",
       "      <td>7795-CFOCW</td>\n",
       "      <td>2016-05-01</td>\n",
       "      <td>1</td>\n",
       "      <td>42.30</td>\n",
       "      <td>1840.75</td>\n",
       "      <td>0.0</td>\n",
       "      <td>1.0</td>\n",
       "      <td>0.0</td>\n",
       "      <td>0.0</td>\n",
       "      <td>1.0</td>\n",
       "      <td>...</td>\n",
       "      <td>0.0</td>\n",
       "      <td>0.0</td>\n",
       "      <td>1.0</td>\n",
       "      <td>0.0</td>\n",
       "      <td>1.0</td>\n",
       "      <td>0.0</td>\n",
       "      <td>1.0</td>\n",
       "      <td>0.0</td>\n",
       "      <td>1.0</td>\n",
       "      <td>0.0</td>\n",
       "    </tr>\n",
       "    <tr>\n",
       "      <th>4</th>\n",
       "      <td>9237-HQITU</td>\n",
       "      <td>2019-09-01</td>\n",
       "      <td>0</td>\n",
       "      <td>70.70</td>\n",
       "      <td>151.65</td>\n",
       "      <td>61.0</td>\n",
       "      <td>0.0</td>\n",
       "      <td>1.0</td>\n",
       "      <td>1.0</td>\n",
       "      <td>0.0</td>\n",
       "      <td>...</td>\n",
       "      <td>0.0</td>\n",
       "      <td>0.0</td>\n",
       "      <td>1.0</td>\n",
       "      <td>0.0</td>\n",
       "      <td>1.0</td>\n",
       "      <td>0.0</td>\n",
       "      <td>1.0</td>\n",
       "      <td>0.0</td>\n",
       "      <td>1.0</td>\n",
       "      <td>0.0</td>\n",
       "    </tr>\n",
       "    <tr>\n",
       "      <th>...</th>\n",
       "      <td>...</td>\n",
       "      <td>...</td>\n",
       "      <td>...</td>\n",
       "      <td>...</td>\n",
       "      <td>...</td>\n",
       "      <td>...</td>\n",
       "      <td>...</td>\n",
       "      <td>...</td>\n",
       "      <td>...</td>\n",
       "      <td>...</td>\n",
       "      <td>...</td>\n",
       "      <td>...</td>\n",
       "      <td>...</td>\n",
       "      <td>...</td>\n",
       "      <td>...</td>\n",
       "      <td>...</td>\n",
       "      <td>...</td>\n",
       "      <td>...</td>\n",
       "      <td>...</td>\n",
       "      <td>...</td>\n",
       "      <td>...</td>\n",
       "    </tr>\n",
       "    <tr>\n",
       "      <th>7038</th>\n",
       "      <td>6840-RESVB</td>\n",
       "      <td>2018-02-01</td>\n",
       "      <td>1</td>\n",
       "      <td>84.80</td>\n",
       "      <td>1990.50</td>\n",
       "      <td>0.0</td>\n",
       "      <td>0.0</td>\n",
       "      <td>1.0</td>\n",
       "      <td>0.0</td>\n",
       "      <td>1.0</td>\n",
       "      <td>...</td>\n",
       "      <td>1.0</td>\n",
       "      <td>0.0</td>\n",
       "      <td>0.0</td>\n",
       "      <td>1.0</td>\n",
       "      <td>0.0</td>\n",
       "      <td>1.0</td>\n",
       "      <td>0.0</td>\n",
       "      <td>1.0</td>\n",
       "      <td>1.0</td>\n",
       "      <td>0.0</td>\n",
       "    </tr>\n",
       "    <tr>\n",
       "      <th>7039</th>\n",
       "      <td>2234-XADUH</td>\n",
       "      <td>2014-02-01</td>\n",
       "      <td>1</td>\n",
       "      <td>103.20</td>\n",
       "      <td>7362.90</td>\n",
       "      <td>0.0</td>\n",
       "      <td>0.0</td>\n",
       "      <td>1.0</td>\n",
       "      <td>0.0</td>\n",
       "      <td>1.0</td>\n",
       "      <td>...</td>\n",
       "      <td>1.0</td>\n",
       "      <td>0.0</td>\n",
       "      <td>0.0</td>\n",
       "      <td>1.0</td>\n",
       "      <td>0.0</td>\n",
       "      <td>1.0</td>\n",
       "      <td>0.0</td>\n",
       "      <td>1.0</td>\n",
       "      <td>1.0</td>\n",
       "      <td>0.0</td>\n",
       "    </tr>\n",
       "    <tr>\n",
       "      <th>7040</th>\n",
       "      <td>4801-JZAZL</td>\n",
       "      <td>2019-03-01</td>\n",
       "      <td>1</td>\n",
       "      <td>29.60</td>\n",
       "      <td>346.45</td>\n",
       "      <td>0.0</td>\n",
       "      <td>0.0</td>\n",
       "      <td>1.0</td>\n",
       "      <td>1.0</td>\n",
       "      <td>0.0</td>\n",
       "      <td>...</td>\n",
       "      <td>0.0</td>\n",
       "      <td>0.0</td>\n",
       "      <td>1.0</td>\n",
       "      <td>0.0</td>\n",
       "      <td>0.0</td>\n",
       "      <td>1.0</td>\n",
       "      <td>0.0</td>\n",
       "      <td>1.0</td>\n",
       "      <td>1.0</td>\n",
       "      <td>0.0</td>\n",
       "    </tr>\n",
       "    <tr>\n",
       "      <th>7041</th>\n",
       "      <td>8361-LTMKD</td>\n",
       "      <td>2019-07-01</td>\n",
       "      <td>0</td>\n",
       "      <td>74.40</td>\n",
       "      <td>306.60</td>\n",
       "      <td>123.0</td>\n",
       "      <td>0.0</td>\n",
       "      <td>1.0</td>\n",
       "      <td>1.0</td>\n",
       "      <td>0.0</td>\n",
       "      <td>...</td>\n",
       "      <td>0.0</td>\n",
       "      <td>0.0</td>\n",
       "      <td>1.0</td>\n",
       "      <td>0.0</td>\n",
       "      <td>0.0</td>\n",
       "      <td>1.0</td>\n",
       "      <td>1.0</td>\n",
       "      <td>0.0</td>\n",
       "      <td>0.0</td>\n",
       "      <td>1.0</td>\n",
       "    </tr>\n",
       "    <tr>\n",
       "      <th>7042</th>\n",
       "      <td>3186-AJIEK</td>\n",
       "      <td>2014-08-01</td>\n",
       "      <td>1</td>\n",
       "      <td>105.65</td>\n",
       "      <td>6844.50</td>\n",
       "      <td>0.0</td>\n",
       "      <td>0.0</td>\n",
       "      <td>1.0</td>\n",
       "      <td>0.0</td>\n",
       "      <td>0.0</td>\n",
       "      <td>...</td>\n",
       "      <td>1.0</td>\n",
       "      <td>0.0</td>\n",
       "      <td>0.0</td>\n",
       "      <td>1.0</td>\n",
       "      <td>1.0</td>\n",
       "      <td>0.0</td>\n",
       "      <td>1.0</td>\n",
       "      <td>0.0</td>\n",
       "      <td>1.0</td>\n",
       "      <td>0.0</td>\n",
       "    </tr>\n",
       "  </tbody>\n",
       "</table>\n",
       "<p>7043 rows × 47 columns</p>\n",
       "</div>"
      ],
      "text/plain": [
       "      customerID  BeginDate  EndDate  MonthlyCharges  TotalCharges  Tenure  \\\n",
       "0     7590-VHVEG 2020-01-01        1           29.85         29.85     0.0   \n",
       "1     5575-GNVDE 2017-04-01        1           56.95       1889.50     0.0   \n",
       "2     3668-QPYBK 2019-10-01        0           53.85        108.15    61.0   \n",
       "3     7795-CFOCW 2016-05-01        1           42.30       1840.75     0.0   \n",
       "4     9237-HQITU 2019-09-01        0           70.70        151.65    61.0   \n",
       "...          ...        ...      ...             ...           ...     ...   \n",
       "7038  6840-RESVB 2018-02-01        1           84.80       1990.50     0.0   \n",
       "7039  2234-XADUH 2014-02-01        1          103.20       7362.90     0.0   \n",
       "7040  4801-JZAZL 2019-03-01        1           29.60        346.45     0.0   \n",
       "7041  8361-LTMKD 2019-07-01        0           74.40        306.60   123.0   \n",
       "7042  3186-AJIEK 2014-08-01        1          105.65       6844.50     0.0   \n",
       "\n",
       "      PaperlessBilling_No  PaperlessBilling_Yes  Type_Month-to-month  \\\n",
       "0                     0.0                   1.0                  1.0   \n",
       "1                     1.0                   0.0                  0.0   \n",
       "2                     0.0                   1.0                  1.0   \n",
       "3                     1.0                   0.0                  0.0   \n",
       "4                     0.0                   1.0                  1.0   \n",
       "...                   ...                   ...                  ...   \n",
       "7038                  0.0                   1.0                  0.0   \n",
       "7039                  0.0                   1.0                  0.0   \n",
       "7040                  0.0                   1.0                  1.0   \n",
       "7041                  0.0                   1.0                  1.0   \n",
       "7042                  0.0                   1.0                  0.0   \n",
       "\n",
       "      Type_One year  ...  StreamingTV_Yes  StreamingMovies_Did Not Buy  \\\n",
       "0               0.0  ...              0.0                          0.0   \n",
       "1               1.0  ...              0.0                          0.0   \n",
       "2               0.0  ...              0.0                          0.0   \n",
       "3               1.0  ...              0.0                          0.0   \n",
       "4               0.0  ...              0.0                          0.0   \n",
       "...             ...  ...              ...                          ...   \n",
       "7038            1.0  ...              1.0                          0.0   \n",
       "7039            1.0  ...              1.0                          0.0   \n",
       "7040            0.0  ...              0.0                          0.0   \n",
       "7041            0.0  ...              0.0                          0.0   \n",
       "7042            0.0  ...              1.0                          0.0   \n",
       "\n",
       "      StreamingMovies_No  StreamingMovies_Yes  Partner_No  Partner_Yes  \\\n",
       "0                    1.0                  0.0         0.0          1.0   \n",
       "1                    1.0                  0.0         1.0          0.0   \n",
       "2                    1.0                  0.0         1.0          0.0   \n",
       "3                    1.0                  0.0         1.0          0.0   \n",
       "4                    1.0                  0.0         1.0          0.0   \n",
       "...                  ...                  ...         ...          ...   \n",
       "7038                 0.0                  1.0         0.0          1.0   \n",
       "7039                 0.0                  1.0         0.0          1.0   \n",
       "7040                 1.0                  0.0         0.0          1.0   \n",
       "7041                 1.0                  0.0         0.0          1.0   \n",
       "7042                 0.0                  1.0         1.0          0.0   \n",
       "\n",
       "      Dependents_No  Dependents_Yes  SeniorCitizen_0  SeniorCitizen_1  \n",
       "0               1.0             0.0              1.0              0.0  \n",
       "1               1.0             0.0              1.0              0.0  \n",
       "2               1.0             0.0              1.0              0.0  \n",
       "3               1.0             0.0              1.0              0.0  \n",
       "4               1.0             0.0              1.0              0.0  \n",
       "...             ...             ...              ...              ...  \n",
       "7038            0.0             1.0              1.0              0.0  \n",
       "7039            0.0             1.0              1.0              0.0  \n",
       "7040            0.0             1.0              1.0              0.0  \n",
       "7041            1.0             0.0              0.0              1.0  \n",
       "7042            1.0             0.0              1.0              0.0  \n",
       "\n",
       "[7043 rows x 47 columns]"
      ]
     },
     "execution_count": 586,
     "metadata": {},
     "output_type": "execute_result"
    }
   ],
   "source": [
    "#Encoded DF\n",
    "customers_df_encoded"
   ]
  },
  {
   "cell_type": "code",
   "execution_count": 587,
   "metadata": {},
   "outputs": [],
   "source": [
    "encoded_features = customers_df_encoded.drop(['BeginDate', 'customerID', 'EndDate', 'Tenure'], axis=1)\n",
    "encoded_target = customers_df_encoded['EndDate']"
   ]
  },
  {
   "cell_type": "code",
   "execution_count": 588,
   "metadata": {},
   "outputs": [
    {
     "name": "stdout",
     "output_type": "stream",
     "text": [
      "<class 'pandas.core.frame.DataFrame'>\n",
      "Int64Index: 7043 entries, 0 to 7042\n",
      "Data columns (total 43 columns):\n",
      " #   Column                                   Non-Null Count  Dtype  \n",
      "---  ------                                   --------------  -----  \n",
      " 0   MonthlyCharges                           7043 non-null   float64\n",
      " 1   TotalCharges                             7043 non-null   float64\n",
      " 2   PaperlessBilling_No                      7043 non-null   float64\n",
      " 3   PaperlessBilling_Yes                     7043 non-null   float64\n",
      " 4   Type_Month-to-month                      7043 non-null   float64\n",
      " 5   Type_One year                            7043 non-null   float64\n",
      " 6   Type_Two year                            7043 non-null   float64\n",
      " 7   PaymentMethod_Bank transfer (automatic)  7043 non-null   float64\n",
      " 8   PaymentMethod_Credit card (automatic)    7043 non-null   float64\n",
      " 9   PaymentMethod_Electronic check           7043 non-null   float64\n",
      " 10  PaymentMethod_Mailed check               7043 non-null   float64\n",
      " 11  gender_Female                            7043 non-null   float64\n",
      " 12  gender_Male                              7043 non-null   float64\n",
      " 13  MultipleLines_Did Not Buy                7043 non-null   float64\n",
      " 14  MultipleLines_No                         7043 non-null   float64\n",
      " 15  MultipleLines_Yes                        7043 non-null   float64\n",
      " 16  InternetService_DSL                      7043 non-null   float64\n",
      " 17  InternetService_Did Not Buy              7043 non-null   float64\n",
      " 18  InternetService_Fiber optic              7043 non-null   float64\n",
      " 19  OnlineSecurity_Did Not Buy               7043 non-null   float64\n",
      " 20  OnlineSecurity_No                        7043 non-null   float64\n",
      " 21  OnlineSecurity_Yes                       7043 non-null   float64\n",
      " 22  OnlineBackup_Did Not Buy                 7043 non-null   float64\n",
      " 23  OnlineBackup_No                          7043 non-null   float64\n",
      " 24  OnlineBackup_Yes                         7043 non-null   float64\n",
      " 25  DeviceProtection_Did Not Buy             7043 non-null   float64\n",
      " 26  DeviceProtection_No                      7043 non-null   float64\n",
      " 27  DeviceProtection_Yes                     7043 non-null   float64\n",
      " 28  TechSupport_Did Not Buy                  7043 non-null   float64\n",
      " 29  TechSupport_No                           7043 non-null   float64\n",
      " 30  TechSupport_Yes                          7043 non-null   float64\n",
      " 31  StreamingTV_Did Not Buy                  7043 non-null   float64\n",
      " 32  StreamingTV_No                           7043 non-null   float64\n",
      " 33  StreamingTV_Yes                          7043 non-null   float64\n",
      " 34  StreamingMovies_Did Not Buy              7043 non-null   float64\n",
      " 35  StreamingMovies_No                       7043 non-null   float64\n",
      " 36  StreamingMovies_Yes                      7043 non-null   float64\n",
      " 37  Partner_No                               7043 non-null   float64\n",
      " 38  Partner_Yes                              7043 non-null   float64\n",
      " 39  Dependents_No                            7043 non-null   float64\n",
      " 40  Dependents_Yes                           7043 non-null   float64\n",
      " 41  SeniorCitizen_0                          7043 non-null   float64\n",
      " 42  SeniorCitizen_1                          7043 non-null   float64\n",
      "dtypes: float64(43)\n",
      "memory usage: 2.4 MB\n"
     ]
    }
   ],
   "source": [
    "encoded_features.info()"
   ]
  },
  {
   "cell_type": "code",
   "execution_count": 589,
   "metadata": {},
   "outputs": [
    {
     "data": {
      "text/plain": [
       "0       1\n",
       "1       1\n",
       "2       0\n",
       "3       1\n",
       "4       0\n",
       "       ..\n",
       "7038    1\n",
       "7039    1\n",
       "7040    1\n",
       "7041    0\n",
       "7042    1\n",
       "Name: EndDate, Length: 7043, dtype: int64"
      ]
     },
     "execution_count": 589,
     "metadata": {},
     "output_type": "execute_result"
    }
   ],
   "source": [
    "encoded_target"
   ]
  },
  {
   "cell_type": "code",
   "execution_count": 590,
   "metadata": {},
   "outputs": [
    {
     "data": {
      "text/html": [
       "<div>\n",
       "<style scoped>\n",
       "    .dataframe tbody tr th:only-of-type {\n",
       "        vertical-align: middle;\n",
       "    }\n",
       "\n",
       "    .dataframe tbody tr th {\n",
       "        vertical-align: top;\n",
       "    }\n",
       "\n",
       "    .dataframe thead th {\n",
       "        text-align: right;\n",
       "    }\n",
       "</style>\n",
       "<table border=\"1\" class=\"dataframe\">\n",
       "  <thead>\n",
       "    <tr style=\"text-align: right;\">\n",
       "      <th></th>\n",
       "      <th>MonthlyCharges</th>\n",
       "      <th>TotalCharges</th>\n",
       "      <th>PaperlessBilling_No</th>\n",
       "      <th>PaperlessBilling_Yes</th>\n",
       "      <th>Type_Month-to-month</th>\n",
       "      <th>Type_One year</th>\n",
       "      <th>Type_Two year</th>\n",
       "      <th>PaymentMethod_Bank transfer (automatic)</th>\n",
       "      <th>PaymentMethod_Credit card (automatic)</th>\n",
       "      <th>PaymentMethod_Electronic check</th>\n",
       "      <th>...</th>\n",
       "      <th>StreamingTV_Yes</th>\n",
       "      <th>StreamingMovies_Did Not Buy</th>\n",
       "      <th>StreamingMovies_No</th>\n",
       "      <th>StreamingMovies_Yes</th>\n",
       "      <th>Partner_No</th>\n",
       "      <th>Partner_Yes</th>\n",
       "      <th>Dependents_No</th>\n",
       "      <th>Dependents_Yes</th>\n",
       "      <th>SeniorCitizen_0</th>\n",
       "      <th>SeniorCitizen_1</th>\n",
       "    </tr>\n",
       "  </thead>\n",
       "  <tbody>\n",
       "    <tr>\n",
       "      <th>count</th>\n",
       "      <td>7043.000000</td>\n",
       "      <td>7043.000000</td>\n",
       "      <td>7043.000000</td>\n",
       "      <td>7043.000000</td>\n",
       "      <td>7043.000000</td>\n",
       "      <td>7043.000000</td>\n",
       "      <td>7043.000000</td>\n",
       "      <td>7043.000000</td>\n",
       "      <td>7043.000000</td>\n",
       "      <td>7043.000000</td>\n",
       "      <td>...</td>\n",
       "      <td>7043.000000</td>\n",
       "      <td>7043.000000</td>\n",
       "      <td>7043.000000</td>\n",
       "      <td>7043.000000</td>\n",
       "      <td>7043.000000</td>\n",
       "      <td>7043.000000</td>\n",
       "      <td>7043.000000</td>\n",
       "      <td>7043.000000</td>\n",
       "      <td>7043.000000</td>\n",
       "      <td>7043.000000</td>\n",
       "    </tr>\n",
       "    <tr>\n",
       "      <th>mean</th>\n",
       "      <td>64.761692</td>\n",
       "      <td>2281.916928</td>\n",
       "      <td>0.407781</td>\n",
       "      <td>0.592219</td>\n",
       "      <td>0.550192</td>\n",
       "      <td>0.209144</td>\n",
       "      <td>0.240664</td>\n",
       "      <td>0.219225</td>\n",
       "      <td>0.216101</td>\n",
       "      <td>0.335794</td>\n",
       "      <td>...</td>\n",
       "      <td>0.384353</td>\n",
       "      <td>0.216669</td>\n",
       "      <td>0.395428</td>\n",
       "      <td>0.387903</td>\n",
       "      <td>0.516967</td>\n",
       "      <td>0.483033</td>\n",
       "      <td>0.700412</td>\n",
       "      <td>0.299588</td>\n",
       "      <td>0.837853</td>\n",
       "      <td>0.162147</td>\n",
       "    </tr>\n",
       "    <tr>\n",
       "      <th>std</th>\n",
       "      <td>30.090047</td>\n",
       "      <td>2265.270398</td>\n",
       "      <td>0.491457</td>\n",
       "      <td>0.491457</td>\n",
       "      <td>0.497510</td>\n",
       "      <td>0.406726</td>\n",
       "      <td>0.427517</td>\n",
       "      <td>0.413751</td>\n",
       "      <td>0.411613</td>\n",
       "      <td>0.472301</td>\n",
       "      <td>...</td>\n",
       "      <td>0.486477</td>\n",
       "      <td>0.412004</td>\n",
       "      <td>0.488977</td>\n",
       "      <td>0.487307</td>\n",
       "      <td>0.499748</td>\n",
       "      <td>0.499748</td>\n",
       "      <td>0.458110</td>\n",
       "      <td>0.458110</td>\n",
       "      <td>0.368612</td>\n",
       "      <td>0.368612</td>\n",
       "    </tr>\n",
       "    <tr>\n",
       "      <th>min</th>\n",
       "      <td>18.250000</td>\n",
       "      <td>18.800000</td>\n",
       "      <td>0.000000</td>\n",
       "      <td>0.000000</td>\n",
       "      <td>0.000000</td>\n",
       "      <td>0.000000</td>\n",
       "      <td>0.000000</td>\n",
       "      <td>0.000000</td>\n",
       "      <td>0.000000</td>\n",
       "      <td>0.000000</td>\n",
       "      <td>...</td>\n",
       "      <td>0.000000</td>\n",
       "      <td>0.000000</td>\n",
       "      <td>0.000000</td>\n",
       "      <td>0.000000</td>\n",
       "      <td>0.000000</td>\n",
       "      <td>0.000000</td>\n",
       "      <td>0.000000</td>\n",
       "      <td>0.000000</td>\n",
       "      <td>0.000000</td>\n",
       "      <td>0.000000</td>\n",
       "    </tr>\n",
       "    <tr>\n",
       "      <th>25%</th>\n",
       "      <td>35.500000</td>\n",
       "      <td>402.225000</td>\n",
       "      <td>0.000000</td>\n",
       "      <td>0.000000</td>\n",
       "      <td>0.000000</td>\n",
       "      <td>0.000000</td>\n",
       "      <td>0.000000</td>\n",
       "      <td>0.000000</td>\n",
       "      <td>0.000000</td>\n",
       "      <td>0.000000</td>\n",
       "      <td>...</td>\n",
       "      <td>0.000000</td>\n",
       "      <td>0.000000</td>\n",
       "      <td>0.000000</td>\n",
       "      <td>0.000000</td>\n",
       "      <td>0.000000</td>\n",
       "      <td>0.000000</td>\n",
       "      <td>0.000000</td>\n",
       "      <td>0.000000</td>\n",
       "      <td>1.000000</td>\n",
       "      <td>0.000000</td>\n",
       "    </tr>\n",
       "    <tr>\n",
       "      <th>50%</th>\n",
       "      <td>70.350000</td>\n",
       "      <td>1397.475000</td>\n",
       "      <td>0.000000</td>\n",
       "      <td>1.000000</td>\n",
       "      <td>1.000000</td>\n",
       "      <td>0.000000</td>\n",
       "      <td>0.000000</td>\n",
       "      <td>0.000000</td>\n",
       "      <td>0.000000</td>\n",
       "      <td>0.000000</td>\n",
       "      <td>...</td>\n",
       "      <td>0.000000</td>\n",
       "      <td>0.000000</td>\n",
       "      <td>0.000000</td>\n",
       "      <td>0.000000</td>\n",
       "      <td>1.000000</td>\n",
       "      <td>0.000000</td>\n",
       "      <td>1.000000</td>\n",
       "      <td>0.000000</td>\n",
       "      <td>1.000000</td>\n",
       "      <td>0.000000</td>\n",
       "    </tr>\n",
       "    <tr>\n",
       "      <th>75%</th>\n",
       "      <td>89.850000</td>\n",
       "      <td>3786.600000</td>\n",
       "      <td>1.000000</td>\n",
       "      <td>1.000000</td>\n",
       "      <td>1.000000</td>\n",
       "      <td>0.000000</td>\n",
       "      <td>0.000000</td>\n",
       "      <td>0.000000</td>\n",
       "      <td>0.000000</td>\n",
       "      <td>1.000000</td>\n",
       "      <td>...</td>\n",
       "      <td>1.000000</td>\n",
       "      <td>0.000000</td>\n",
       "      <td>1.000000</td>\n",
       "      <td>1.000000</td>\n",
       "      <td>1.000000</td>\n",
       "      <td>1.000000</td>\n",
       "      <td>1.000000</td>\n",
       "      <td>1.000000</td>\n",
       "      <td>1.000000</td>\n",
       "      <td>0.000000</td>\n",
       "    </tr>\n",
       "    <tr>\n",
       "      <th>max</th>\n",
       "      <td>118.750000</td>\n",
       "      <td>8684.800000</td>\n",
       "      <td>1.000000</td>\n",
       "      <td>1.000000</td>\n",
       "      <td>1.000000</td>\n",
       "      <td>1.000000</td>\n",
       "      <td>1.000000</td>\n",
       "      <td>1.000000</td>\n",
       "      <td>1.000000</td>\n",
       "      <td>1.000000</td>\n",
       "      <td>...</td>\n",
       "      <td>1.000000</td>\n",
       "      <td>1.000000</td>\n",
       "      <td>1.000000</td>\n",
       "      <td>1.000000</td>\n",
       "      <td>1.000000</td>\n",
       "      <td>1.000000</td>\n",
       "      <td>1.000000</td>\n",
       "      <td>1.000000</td>\n",
       "      <td>1.000000</td>\n",
       "      <td>1.000000</td>\n",
       "    </tr>\n",
       "  </tbody>\n",
       "</table>\n",
       "<p>8 rows × 43 columns</p>\n",
       "</div>"
      ],
      "text/plain": [
       "       MonthlyCharges  TotalCharges  PaperlessBilling_No  \\\n",
       "count     7043.000000   7043.000000          7043.000000   \n",
       "mean        64.761692   2281.916928             0.407781   \n",
       "std         30.090047   2265.270398             0.491457   \n",
       "min         18.250000     18.800000             0.000000   \n",
       "25%         35.500000    402.225000             0.000000   \n",
       "50%         70.350000   1397.475000             0.000000   \n",
       "75%         89.850000   3786.600000             1.000000   \n",
       "max        118.750000   8684.800000             1.000000   \n",
       "\n",
       "       PaperlessBilling_Yes  Type_Month-to-month  Type_One year  \\\n",
       "count           7043.000000          7043.000000    7043.000000   \n",
       "mean               0.592219             0.550192       0.209144   \n",
       "std                0.491457             0.497510       0.406726   \n",
       "min                0.000000             0.000000       0.000000   \n",
       "25%                0.000000             0.000000       0.000000   \n",
       "50%                1.000000             1.000000       0.000000   \n",
       "75%                1.000000             1.000000       0.000000   \n",
       "max                1.000000             1.000000       1.000000   \n",
       "\n",
       "       Type_Two year  PaymentMethod_Bank transfer (automatic)  \\\n",
       "count    7043.000000                              7043.000000   \n",
       "mean        0.240664                                 0.219225   \n",
       "std         0.427517                                 0.413751   \n",
       "min         0.000000                                 0.000000   \n",
       "25%         0.000000                                 0.000000   \n",
       "50%         0.000000                                 0.000000   \n",
       "75%         0.000000                                 0.000000   \n",
       "max         1.000000                                 1.000000   \n",
       "\n",
       "       PaymentMethod_Credit card (automatic)  PaymentMethod_Electronic check  \\\n",
       "count                            7043.000000                     7043.000000   \n",
       "mean                                0.216101                        0.335794   \n",
       "std                                 0.411613                        0.472301   \n",
       "min                                 0.000000                        0.000000   \n",
       "25%                                 0.000000                        0.000000   \n",
       "50%                                 0.000000                        0.000000   \n",
       "75%                                 0.000000                        1.000000   \n",
       "max                                 1.000000                        1.000000   \n",
       "\n",
       "       ...  StreamingTV_Yes  StreamingMovies_Did Not Buy  StreamingMovies_No  \\\n",
       "count  ...      7043.000000                  7043.000000         7043.000000   \n",
       "mean   ...         0.384353                     0.216669            0.395428   \n",
       "std    ...         0.486477                     0.412004            0.488977   \n",
       "min    ...         0.000000                     0.000000            0.000000   \n",
       "25%    ...         0.000000                     0.000000            0.000000   \n",
       "50%    ...         0.000000                     0.000000            0.000000   \n",
       "75%    ...         1.000000                     0.000000            1.000000   \n",
       "max    ...         1.000000                     1.000000            1.000000   \n",
       "\n",
       "       StreamingMovies_Yes   Partner_No  Partner_Yes  Dependents_No  \\\n",
       "count          7043.000000  7043.000000  7043.000000    7043.000000   \n",
       "mean              0.387903     0.516967     0.483033       0.700412   \n",
       "std               0.487307     0.499748     0.499748       0.458110   \n",
       "min               0.000000     0.000000     0.000000       0.000000   \n",
       "25%               0.000000     0.000000     0.000000       0.000000   \n",
       "50%               0.000000     1.000000     0.000000       1.000000   \n",
       "75%               1.000000     1.000000     1.000000       1.000000   \n",
       "max               1.000000     1.000000     1.000000       1.000000   \n",
       "\n",
       "       Dependents_Yes  SeniorCitizen_0  SeniorCitizen_1  \n",
       "count     7043.000000      7043.000000      7043.000000  \n",
       "mean         0.299588         0.837853         0.162147  \n",
       "std          0.458110         0.368612         0.368612  \n",
       "min          0.000000         0.000000         0.000000  \n",
       "25%          0.000000         1.000000         0.000000  \n",
       "50%          0.000000         1.000000         0.000000  \n",
       "75%          1.000000         1.000000         0.000000  \n",
       "max          1.000000         1.000000         1.000000  \n",
       "\n",
       "[8 rows x 43 columns]"
      ]
     },
     "execution_count": 590,
     "metadata": {},
     "output_type": "execute_result"
    }
   ],
   "source": [
    "encoded_features.describe()"
   ]
  },
  {
   "cell_type": "code",
   "execution_count": 591,
   "metadata": {},
   "outputs": [
    {
     "data": {
      "text/plain": [
       "0       NO CHURN\n",
       "1       NO CHURN\n",
       "2          CHURN\n",
       "3       NO CHURN\n",
       "4          CHURN\n",
       "          ...   \n",
       "7038    NO CHURN\n",
       "7039    NO CHURN\n",
       "7040    NO CHURN\n",
       "7041       CHURN\n",
       "7042    NO CHURN\n",
       "Name: EndDate, Length: 7043, dtype: object"
      ]
     },
     "execution_count": 591,
     "metadata": {},
     "output_type": "execute_result"
    }
   ],
   "source": [
    "customers_df['EndDate']"
   ]
  },
  {
   "cell_type": "code",
   "execution_count": 592,
   "metadata": {},
   "outputs": [
    {
     "data": {
      "text/plain": [
       "1    5174\n",
       "0    1869\n",
       "Name: EndDate, dtype: int64"
      ]
     },
     "execution_count": 592,
     "metadata": {},
     "output_type": "execute_result"
    }
   ],
   "source": [
    "encoded_target.value_counts()"
   ]
  },
  {
   "cell_type": "code",
   "execution_count": 593,
   "metadata": {},
   "outputs": [],
   "source": [
    "features_train, features_test, target_train, target_test = train_test_split(encoded_features, encoded_target, test_size=.4, random_state=12345)\n",
    "features_train, features_valid, target_train, target_valid = train_test_split(features_train, target_train, test_size=.5, random_state=12345)\n"
   ]
  },
  {
   "cell_type": "code",
   "execution_count": 594,
   "metadata": {},
   "outputs": [
    {
     "name": "stdout",
     "output_type": "stream",
     "text": [
      "(2112, 43)\n",
      "(2818, 43)\n",
      "(2112,)\n",
      "(2818,)\n",
      "(2113, 43)\n",
      "(2113,)\n",
      "(2113, 43)\n"
     ]
    }
   ],
   "source": [
    "print(features_train.shape)\n",
    "print(features_test.shape)\n",
    "print(target_train.shape)\n",
    "print(target_test.shape)\n",
    "print(features_valid.shape)\n",
    "print(target_valid.shape)\n",
    "print(features_valid.shape)"
   ]
  },
  {
   "cell_type": "code",
   "execution_count": 595,
   "metadata": {},
   "outputs": [
    {
     "name": "stderr",
     "output_type": "stream",
     "text": [
      "/tmp/ipykernel_32/2800076948.py:6: SettingWithCopyWarning: \n",
      "A value is trying to be set on a copy of a slice from a DataFrame.\n",
      "Try using .loc[row_indexer,col_indexer] = value instead\n",
      "\n",
      "See the caveats in the documentation: https://pandas.pydata.org/pandas-docs/stable/user_guide/indexing.html#returning-a-view-versus-a-copy\n",
      "  features_test[numeric] = scaler.transform(features_test[numeric])\n",
      "/opt/conda/envs/python3/lib/python3.9/site-packages/pandas/core/indexing.py:1637: SettingWithCopyWarning: \n",
      "A value is trying to be set on a copy of a slice from a DataFrame\n",
      "\n",
      "See the caveats in the documentation: https://pandas.pydata.org/pandas-docs/stable/user_guide/indexing.html#returning-a-view-versus-a-copy\n",
      "  self._setitem_single_block(indexer, value, name)\n",
      "/opt/conda/envs/python3/lib/python3.9/site-packages/pandas/core/indexing.py:692: SettingWithCopyWarning: \n",
      "A value is trying to be set on a copy of a slice from a DataFrame\n",
      "\n",
      "See the caveats in the documentation: https://pandas.pydata.org/pandas-docs/stable/user_guide/indexing.html#returning-a-view-versus-a-copy\n",
      "  iloc._setitem_with_indexer(indexer, value, self.name)\n"
     ]
    }
   ],
   "source": [
    "scaler = StandardScaler()\n",
    "numeric = ['MonthlyCharges','TotalCharges']\n",
    "scaler.fit(features_train[numeric])\n",
    "features_train[numeric] = scaler.transform(features_train[numeric])\n",
    "features_valid[numeric] = scaler.transform(features_valid[numeric])\n",
    "features_test[numeric] = scaler.transform(features_test[numeric])"
   ]
  },
  {
   "cell_type": "code",
   "execution_count": 601,
   "metadata": {},
   "outputs": [],
   "source": [
    "#Upsampling and Downsampling functions\n",
    "\n",
    "def upsample(features, target, repeat):\n",
    "    feature_one = features[target == 0]\n",
    "    feature_zero = features[target == 1]\n",
    "    target_one = target[target == 0]\n",
    "    target_zero = target[target == 1]\n",
    "    \n",
    "    features_upsampled = pd.concat([feature_zero] + [feature_one] * repeat)\n",
    "    target_upsampled = pd.concat([target_zero] + [target_one] * repeat)\n",
    "    \n",
    "    features_upsampled, target_upsampled = shuffle(\n",
    "    features_upsampled, target_upsampled, random_state=12345\n",
    "    )\n",
    "\n",
    "    return features_upsampled, target_upsampled\n",
    "\n",
    "\n",
    "features_upsampled, target_upsampled = upsample(\n",
    "    features_train, target_train, 3\n",
    ")\n"
   ]
  },
  {
   "cell_type": "code",
   "execution_count": 606,
   "metadata": {},
   "outputs": [],
   "source": [
    "\n",
    "def downsample(features, target, fraction):\n",
    "    features_zeros = features[target == 1]\n",
    "    features_ones = features[target == 0]\n",
    "    target_zeros = target[target == 1]\n",
    "    target_ones = target[target == 0]\n",
    "\n",
    "    features_downsampled = pd.concat(\n",
    "        [features_zeros.sample(frac=fraction, random_state=12345), features_ones]\n",
    "    )\n",
    "    target_downsampled = pd.concat(\n",
    "        [target_zeros.sample(frac=fraction, random_state=12345), target_ones]\n",
    "    )\n",
    "\n",
    "    features_downsampled, target_downsampled = shuffle(\n",
    "        features_downsampled, target_downsampled, random_state=12345\n",
    "    )\n",
    "\n",
    "    return features_downsampled, target_downsampled\n",
    "\n",
    "features_downsampled, target_downsampled = downsample(features_train, target_train, 0.5)\n"
   ]
  },
  {
   "cell_type": "markdown",
   "metadata": {},
   "source": [
    "## Models"
   ]
  },
  {
   "cell_type": "code",
   "execution_count": 607,
   "metadata": {},
   "outputs": [
    {
     "name": "stdout",
     "output_type": "stream",
     "text": [
      "Accuracy Score: 0.8031235210601041\n",
      "ROC-AUC: 0.8304407859798194\n"
     ]
    }
   ],
   "source": [
    "# LogisticRegression Model\n",
    "model = LogisticRegression(random_state=12345,solver='liblinear')\n",
    "model.fit(features_train,target_train)\n",
    "predicted_valid = model.predict(features_valid)\n",
    "print('Accuracy Score:',accuracy_score(target_valid,predicted_valid))\n",
    "\n",
    "probabilities_valid = model.predict_proba(features_valid)\n",
    "probabilities_one_valid = probabilities_valid[:, 1]\n",
    "\n",
    "auc_roc = roc_auc_score(target_valid, probabilities_one_valid)\n",
    "\n",
    "print('ROC-AUC:', auc_roc)"
   ]
  },
  {
   "cell_type": "code",
   "execution_count": 608,
   "metadata": {},
   "outputs": [
    {
     "name": "stdout",
     "output_type": "stream",
     "text": [
      "Accuracy Score: 0.7307146237576905\n",
      "ROC-AUC: 0.82940107393639\n"
     ]
    }
   ],
   "source": [
    "#Upsampled Logistic Regression Model\n",
    "\n",
    "model = LogisticRegression(random_state=12345, solver='liblinear')\n",
    "model.fit(features_upsampled,target_upsampled)\n",
    "predicted_valid = model.predict(features_valid)\n",
    "print('Accuracy Score:',accuracy_score(target_valid, predicted_valid))\n",
    "\n",
    "probabilities_valid = model.predict_proba(features_valid)\n",
    "probabilities_one_valid = probabilities_valid[:, 1]\n",
    "auc_roc = roc_auc_score(target_valid, probabilities_one_valid)\n",
    "\n",
    "print('ROC-AUC:', auc_roc) "
   ]
  },
  {
   "cell_type": "code",
   "execution_count": 609,
   "metadata": {},
   "outputs": [
    {
     "name": "stdout",
     "output_type": "stream",
     "text": [
      "Accuracy Score: 0.7714150496923805\n",
      "ROC-AUC: 0.8312798725438131\n"
     ]
    }
   ],
   "source": [
    "model = LogisticRegression(random_state=12345, solver='liblinear')\n",
    "model.fit(features_downsampled,target_downsampled)\n",
    "predicted_valid = model.predict(features_valid)\n",
    "print('Accuracy Score:',accuracy_score(target_valid, predicted_valid))\n",
    "\n",
    "probabilities_valid = model.predict_proba(features_valid)\n",
    "probabilities_one_valid = probabilities_valid[:, 1]\n",
    "auc_roc = roc_auc_score(target_valid, probabilities_one_valid)\n",
    "\n",
    "print('ROC-AUC:', auc_roc) \n"
   ]
  },
  {
   "cell_type": "markdown",
   "metadata": {},
   "source": [
    "### Model Boosting w/ Gradient Boosting and Cross Validaiton"
   ]
  },
  {
   "cell_type": "code",
   "execution_count": 615,
   "metadata": {},
   "outputs": [
    {
     "name": "stdout",
     "output_type": "stream",
     "text": [
      "Cross-Validaiton Acc. Score: [0.77358491 0.77358491 0.79245283 0.80094787 0.78199052 0.81516588\n",
      " 0.74881517 0.8436019  0.8056872  0.81042654]\n",
      "Cross-Validation F1 Score: [0.85276074 0.85365854 0.86419753 0.87116564 0.86390533 0.88073394\n",
      " 0.8338558  0.89846154 0.87833828 0.8757764 ]\n",
      "Cross-Validaiton ROC-AUC Score: [0.84810127 0.80350445 0.78774027 0.83329353 0.81036542 0.82165605\n",
      " 0.77329559 0.88770937 0.79087049 0.84731069]\n"
     ]
    }
   ],
   "source": [
    "#Gradient Boosting Model\n",
    "model = GradientBoostingClassifier(learning_rate=.1, n_estimators=150, max_depth=3,\n",
    "                                   min_samples_split=0.03, random_state=12345)\n",
    "cv_acc_score = cross_val_score(model, features_valid, target_valid, cv=10, scoring='accuracy', error_score='raise')\n",
    "cv_f1_score = cross_val_score(model, features_valid, target_valid, cv=10, scoring='f1')\n",
    "cv_roc_auc_score = cross_val_score(model, features_valid, target_valid, cv=10, scoring='roc_auc')\n",
    "\n",
    "print('Cross-Validaiton Acc. Score:', cv_acc_score)\n",
    "print('Cross-Validation F1 Score:', cv_f1_score)\n",
    "print('Cross-Validaiton ROC-AUC Score:', cv_roc_auc_score)"
   ]
  },
  {
   "cell_type": "code",
   "execution_count": 616,
   "metadata": {},
   "outputs": [
    {
     "name": "stdout",
     "output_type": "stream",
     "text": [
      "0.8181418540154599\n"
     ]
    }
   ],
   "source": [
    "#Model Training with Unsampled Data\n",
    "model.fit(features_train, target_train)\n",
    "\n",
    "# Predict Prob. w. Cross-Validation on features_valid\n",
    "predicted_probabilities = cross_val_predict(model, features_valid, target_valid, cv=5, method='predict_proba')\n",
    "\n",
    "# Calculate ROC and AUC\n",
    "fpr,tpr, thresholds = roc_curve(target_valid, predicted_probabilities[:,1])\n",
    "roc_auc = auc(fpr,tpr)\n",
    "\n",
    "print(roc_auc)"
   ]
  },
  {
   "cell_type": "markdown",
   "metadata": {},
   "source": [
    "### Model Boosting w/ Cat Boost "
   ]
  },
  {
   "cell_type": "code",
   "execution_count": 622,
   "metadata": {},
   "outputs": [
    {
     "name": "stdout",
     "output_type": "stream",
     "text": [
      "0:\tlearn: 0.6433301\ttotal: 2.11ms\tremaining: 420ms\n",
      "1:\tlearn: 0.6065832\ttotal: 4.32ms\tremaining: 428ms\n",
      "2:\tlearn: 0.5766705\ttotal: 6.3ms\tremaining: 414ms\n",
      "3:\tlearn: 0.5473433\ttotal: 8.3ms\tremaining: 407ms\n",
      "4:\tlearn: 0.5272888\ttotal: 10.2ms\tremaining: 398ms\n",
      "5:\tlearn: 0.5137728\ttotal: 12.1ms\tremaining: 392ms\n",
      "6:\tlearn: 0.5008339\ttotal: 14.1ms\tremaining: 388ms\n",
      "7:\tlearn: 0.4912472\ttotal: 16ms\tremaining: 385ms\n",
      "8:\tlearn: 0.4788850\ttotal: 18ms\tremaining: 382ms\n",
      "9:\tlearn: 0.4680437\ttotal: 19.9ms\tremaining: 378ms\n",
      "10:\tlearn: 0.4582656\ttotal: 21.9ms\tremaining: 376ms\n",
      "11:\tlearn: 0.4497178\ttotal: 23.9ms\tremaining: 375ms\n",
      "12:\tlearn: 0.4435715\ttotal: 25.8ms\tremaining: 371ms\n",
      "13:\tlearn: 0.4380976\ttotal: 27.7ms\tremaining: 368ms\n",
      "14:\tlearn: 0.4327646\ttotal: 29.7ms\tremaining: 366ms\n",
      "15:\tlearn: 0.4271419\ttotal: 31.6ms\tremaining: 364ms\n",
      "16:\tlearn: 0.4223268\ttotal: 33.5ms\tremaining: 361ms\n",
      "17:\tlearn: 0.4169600\ttotal: 35.4ms\tremaining: 358ms\n",
      "18:\tlearn: 0.4123607\ttotal: 37.4ms\tremaining: 356ms\n",
      "19:\tlearn: 0.4083777\ttotal: 39.3ms\tremaining: 354ms\n",
      "20:\tlearn: 0.4053031\ttotal: 41.3ms\tremaining: 352ms\n",
      "21:\tlearn: 0.4024750\ttotal: 43.2ms\tremaining: 349ms\n",
      "22:\tlearn: 0.3990896\ttotal: 45.1ms\tremaining: 347ms\n",
      "23:\tlearn: 0.3972412\ttotal: 47.1ms\tremaining: 345ms\n",
      "24:\tlearn: 0.3949273\ttotal: 49ms\tremaining: 343ms\n",
      "25:\tlearn: 0.3924077\ttotal: 50.9ms\tremaining: 341ms\n",
      "26:\tlearn: 0.3890790\ttotal: 52.9ms\tremaining: 339ms\n",
      "27:\tlearn: 0.3863633\ttotal: 54.9ms\tremaining: 337ms\n",
      "28:\tlearn: 0.3815518\ttotal: 56.8ms\tremaining: 335ms\n",
      "29:\tlearn: 0.3790849\ttotal: 58.7ms\tremaining: 333ms\n",
      "30:\tlearn: 0.3754205\ttotal: 60.7ms\tremaining: 331ms\n",
      "31:\tlearn: 0.3723967\ttotal: 62.6ms\tremaining: 328ms\n",
      "32:\tlearn: 0.3693981\ttotal: 64.5ms\tremaining: 327ms\n",
      "33:\tlearn: 0.3674873\ttotal: 66.4ms\tremaining: 324ms\n",
      "34:\tlearn: 0.3652158\ttotal: 68.4ms\tremaining: 322ms\n",
      "35:\tlearn: 0.3633299\ttotal: 70.3ms\tremaining: 320ms\n",
      "36:\tlearn: 0.3595561\ttotal: 72.2ms\tremaining: 318ms\n",
      "37:\tlearn: 0.3575988\ttotal: 74.2ms\tremaining: 316ms\n",
      "38:\tlearn: 0.3548122\ttotal: 76.1ms\tremaining: 314ms\n",
      "39:\tlearn: 0.3527281\ttotal: 78.1ms\tremaining: 312ms\n",
      "40:\tlearn: 0.3517198\ttotal: 80ms\tremaining: 310ms\n",
      "41:\tlearn: 0.3491052\ttotal: 81.9ms\tremaining: 308ms\n",
      "42:\tlearn: 0.3470602\ttotal: 83.8ms\tremaining: 306ms\n",
      "43:\tlearn: 0.3452300\ttotal: 86.1ms\tremaining: 305ms\n",
      "44:\tlearn: 0.3434971\ttotal: 88ms\tremaining: 303ms\n",
      "45:\tlearn: 0.3413542\ttotal: 89.9ms\tremaining: 301ms\n",
      "46:\tlearn: 0.3413200\ttotal: 90.3ms\tremaining: 294ms\n",
      "47:\tlearn: 0.3390114\ttotal: 92.2ms\tremaining: 292ms\n",
      "48:\tlearn: 0.3373741\ttotal: 94.1ms\tremaining: 290ms\n",
      "49:\tlearn: 0.3355882\ttotal: 96ms\tremaining: 288ms\n",
      "50:\tlearn: 0.3337052\ttotal: 97.9ms\tremaining: 286ms\n",
      "51:\tlearn: 0.3311213\ttotal: 99.8ms\tremaining: 284ms\n",
      "52:\tlearn: 0.3289027\ttotal: 102ms\tremaining: 282ms\n",
      "53:\tlearn: 0.3266806\ttotal: 104ms\tremaining: 280ms\n",
      "54:\tlearn: 0.3242954\ttotal: 106ms\tremaining: 278ms\n",
      "55:\tlearn: 0.3227221\ttotal: 108ms\tremaining: 277ms\n",
      "56:\tlearn: 0.3203240\ttotal: 110ms\tremaining: 275ms\n",
      "57:\tlearn: 0.3193343\ttotal: 111ms\tremaining: 273ms\n",
      "58:\tlearn: 0.3177184\ttotal: 113ms\tremaining: 271ms\n",
      "59:\tlearn: 0.3160983\ttotal: 115ms\tremaining: 269ms\n",
      "60:\tlearn: 0.3147613\ttotal: 117ms\tremaining: 267ms\n",
      "61:\tlearn: 0.3138094\ttotal: 119ms\tremaining: 265ms\n",
      "62:\tlearn: 0.3115067\ttotal: 121ms\tremaining: 264ms\n",
      "63:\tlearn: 0.3098671\ttotal: 123ms\tremaining: 262ms\n",
      "64:\tlearn: 0.3089196\ttotal: 125ms\tremaining: 260ms\n",
      "65:\tlearn: 0.3065108\ttotal: 127ms\tremaining: 258ms\n",
      "66:\tlearn: 0.3047833\ttotal: 129ms\tremaining: 256ms\n",
      "67:\tlearn: 0.3035788\ttotal: 131ms\tremaining: 254ms\n",
      "68:\tlearn: 0.3018771\ttotal: 133ms\tremaining: 252ms\n",
      "69:\tlearn: 0.3004401\ttotal: 135ms\tremaining: 250ms\n",
      "70:\tlearn: 0.2992425\ttotal: 137ms\tremaining: 248ms\n",
      "71:\tlearn: 0.2977924\ttotal: 139ms\tremaining: 246ms\n",
      "72:\tlearn: 0.2959822\ttotal: 141ms\tremaining: 244ms\n",
      "73:\tlearn: 0.2942985\ttotal: 142ms\tremaining: 243ms\n",
      "74:\tlearn: 0.2934989\ttotal: 144ms\tremaining: 241ms\n",
      "75:\tlearn: 0.2913775\ttotal: 146ms\tremaining: 239ms\n",
      "76:\tlearn: 0.2889359\ttotal: 148ms\tremaining: 237ms\n",
      "77:\tlearn: 0.2879695\ttotal: 150ms\tremaining: 235ms\n",
      "78:\tlearn: 0.2858831\ttotal: 152ms\tremaining: 233ms\n",
      "79:\tlearn: 0.2848544\ttotal: 154ms\tremaining: 231ms\n",
      "80:\tlearn: 0.2843127\ttotal: 156ms\tremaining: 229ms\n",
      "81:\tlearn: 0.2836397\ttotal: 158ms\tremaining: 227ms\n",
      "82:\tlearn: 0.2823592\ttotal: 160ms\tremaining: 225ms\n",
      "83:\tlearn: 0.2807865\ttotal: 162ms\tremaining: 223ms\n",
      "84:\tlearn: 0.2793879\ttotal: 164ms\tremaining: 222ms\n",
      "85:\tlearn: 0.2782560\ttotal: 166ms\tremaining: 220ms\n",
      "86:\tlearn: 0.2764759\ttotal: 168ms\tremaining: 218ms\n",
      "87:\tlearn: 0.2756600\ttotal: 169ms\tremaining: 216ms\n",
      "88:\tlearn: 0.2745787\ttotal: 171ms\tremaining: 214ms\n",
      "89:\tlearn: 0.2740287\ttotal: 173ms\tremaining: 212ms\n",
      "90:\tlearn: 0.2726613\ttotal: 175ms\tremaining: 210ms\n",
      "91:\tlearn: 0.2711957\ttotal: 177ms\tremaining: 208ms\n",
      "92:\tlearn: 0.2699742\ttotal: 179ms\tremaining: 206ms\n",
      "93:\tlearn: 0.2691465\ttotal: 181ms\tremaining: 204ms\n",
      "94:\tlearn: 0.2683187\ttotal: 183ms\tremaining: 202ms\n",
      "95:\tlearn: 0.2673827\ttotal: 185ms\tremaining: 201ms\n",
      "96:\tlearn: 0.2664445\ttotal: 187ms\tremaining: 199ms\n",
      "97:\tlearn: 0.2643528\ttotal: 189ms\tremaining: 197ms\n",
      "98:\tlearn: 0.2620619\ttotal: 191ms\tremaining: 195ms\n",
      "99:\tlearn: 0.2607801\ttotal: 193ms\tremaining: 193ms\n",
      "100:\tlearn: 0.2600548\ttotal: 195ms\tremaining: 191ms\n",
      "101:\tlearn: 0.2594048\ttotal: 197ms\tremaining: 189ms\n",
      "102:\tlearn: 0.2585268\ttotal: 199ms\tremaining: 187ms\n",
      "103:\tlearn: 0.2570852\ttotal: 201ms\tremaining: 186ms\n",
      "104:\tlearn: 0.2563456\ttotal: 203ms\tremaining: 184ms\n",
      "105:\tlearn: 0.2553844\ttotal: 205ms\tremaining: 182ms\n",
      "106:\tlearn: 0.2541571\ttotal: 207ms\tremaining: 180ms\n",
      "107:\tlearn: 0.2525671\ttotal: 209ms\tremaining: 178ms\n",
      "108:\tlearn: 0.2510641\ttotal: 211ms\tremaining: 176ms\n",
      "109:\tlearn: 0.2493210\ttotal: 213ms\tremaining: 174ms\n",
      "110:\tlearn: 0.2478053\ttotal: 215ms\tremaining: 172ms\n",
      "111:\tlearn: 0.2467987\ttotal: 217ms\tremaining: 170ms\n",
      "112:\tlearn: 0.2457519\ttotal: 219ms\tremaining: 168ms\n",
      "113:\tlearn: 0.2437755\ttotal: 221ms\tremaining: 167ms\n",
      "114:\tlearn: 0.2430096\ttotal: 223ms\tremaining: 165ms\n",
      "115:\tlearn: 0.2421516\ttotal: 225ms\tremaining: 163ms\n",
      "116:\tlearn: 0.2410145\ttotal: 227ms\tremaining: 161ms\n",
      "117:\tlearn: 0.2397854\ttotal: 229ms\tremaining: 159ms\n",
      "118:\tlearn: 0.2389389\ttotal: 230ms\tremaining: 157ms\n",
      "119:\tlearn: 0.2378094\ttotal: 232ms\tremaining: 155ms\n",
      "120:\tlearn: 0.2367750\ttotal: 234ms\tremaining: 153ms\n",
      "121:\tlearn: 0.2360369\ttotal: 236ms\tremaining: 151ms\n",
      "122:\tlearn: 0.2351584\ttotal: 238ms\tremaining: 149ms\n",
      "123:\tlearn: 0.2338514\ttotal: 240ms\tremaining: 147ms\n",
      "124:\tlearn: 0.2329298\ttotal: 242ms\tremaining: 145ms\n",
      "125:\tlearn: 0.2317408\ttotal: 244ms\tremaining: 143ms\n",
      "126:\tlearn: 0.2305076\ttotal: 246ms\tremaining: 141ms\n",
      "127:\tlearn: 0.2299712\ttotal: 248ms\tremaining: 139ms\n",
      "128:\tlearn: 0.2294196\ttotal: 250ms\tremaining: 137ms\n",
      "129:\tlearn: 0.2291534\ttotal: 252ms\tremaining: 136ms\n",
      "130:\tlearn: 0.2276287\ttotal: 254ms\tremaining: 134ms\n",
      "131:\tlearn: 0.2262903\ttotal: 256ms\tremaining: 132ms\n",
      "132:\tlearn: 0.2251439\ttotal: 258ms\tremaining: 130ms\n",
      "133:\tlearn: 0.2244699\ttotal: 264ms\tremaining: 130ms\n",
      "134:\tlearn: 0.2235125\ttotal: 266ms\tremaining: 128ms\n",
      "135:\tlearn: 0.2227175\ttotal: 268ms\tremaining: 126ms\n",
      "136:\tlearn: 0.2223574\ttotal: 270ms\tremaining: 124ms\n",
      "137:\tlearn: 0.2210466\ttotal: 272ms\tremaining: 122ms\n",
      "138:\tlearn: 0.2200324\ttotal: 273ms\tremaining: 120ms\n",
      "139:\tlearn: 0.2187268\ttotal: 275ms\tremaining: 118ms\n",
      "140:\tlearn: 0.2181771\ttotal: 277ms\tremaining: 116ms\n",
      "141:\tlearn: 0.2176156\ttotal: 280ms\tremaining: 114ms\n",
      "142:\tlearn: 0.2170163\ttotal: 282ms\tremaining: 112ms\n",
      "143:\tlearn: 0.2167809\ttotal: 284ms\tremaining: 110ms\n",
      "144:\tlearn: 0.2158176\ttotal: 286ms\tremaining: 108ms\n",
      "145:\tlearn: 0.2154617\ttotal: 288ms\tremaining: 106ms\n",
      "146:\tlearn: 0.2149252\ttotal: 290ms\tremaining: 104ms\n",
      "147:\tlearn: 0.2137659\ttotal: 292ms\tremaining: 102ms\n",
      "148:\tlearn: 0.2126371\ttotal: 294ms\tremaining: 101ms\n",
      "149:\tlearn: 0.2118675\ttotal: 296ms\tremaining: 98.5ms\n",
      "150:\tlearn: 0.2109591\ttotal: 298ms\tremaining: 96.6ms\n",
      "151:\tlearn: 0.2103938\ttotal: 300ms\tremaining: 94.6ms\n",
      "152:\tlearn: 0.2091954\ttotal: 301ms\tremaining: 92.6ms\n",
      "153:\tlearn: 0.2087522\ttotal: 303ms\tremaining: 90.6ms\n",
      "154:\tlearn: 0.2081589\ttotal: 305ms\tremaining: 88.7ms\n",
      "155:\tlearn: 0.2071568\ttotal: 307ms\tremaining: 86.7ms\n",
      "156:\tlearn: 0.2062013\ttotal: 309ms\tremaining: 84.7ms\n",
      "157:\tlearn: 0.2054071\ttotal: 311ms\tremaining: 82.8ms\n",
      "158:\tlearn: 0.2045641\ttotal: 313ms\tremaining: 80.8ms\n",
      "159:\tlearn: 0.2042156\ttotal: 315ms\tremaining: 78.8ms\n",
      "160:\tlearn: 0.2026239\ttotal: 317ms\tremaining: 76.8ms\n",
      "161:\tlearn: 0.2021734\ttotal: 319ms\tremaining: 74.9ms\n",
      "162:\tlearn: 0.2015433\ttotal: 321ms\tremaining: 72.9ms\n",
      "163:\tlearn: 0.2011196\ttotal: 323ms\tremaining: 70.9ms\n",
      "164:\tlearn: 0.2001486\ttotal: 325ms\tremaining: 69ms\n",
      "165:\tlearn: 0.1997529\ttotal: 327ms\tremaining: 67ms\n",
      "166:\tlearn: 0.1985980\ttotal: 329ms\tremaining: 65ms\n",
      "167:\tlearn: 0.1974604\ttotal: 331ms\tremaining: 63ms\n",
      "168:\tlearn: 0.1973186\ttotal: 333ms\tremaining: 61.1ms\n",
      "169:\tlearn: 0.1961497\ttotal: 335ms\tremaining: 59.1ms\n",
      "170:\tlearn: 0.1953532\ttotal: 337ms\tremaining: 57.1ms\n",
      "171:\tlearn: 0.1946079\ttotal: 339ms\tremaining: 55.1ms\n",
      "172:\tlearn: 0.1936363\ttotal: 341ms\tremaining: 53.2ms\n",
      "173:\tlearn: 0.1929527\ttotal: 343ms\tremaining: 51.2ms\n",
      "174:\tlearn: 0.1922201\ttotal: 344ms\tremaining: 49.2ms\n",
      "175:\tlearn: 0.1918066\ttotal: 346ms\tremaining: 47.2ms\n",
      "176:\tlearn: 0.1909496\ttotal: 348ms\tremaining: 45.3ms\n",
      "177:\tlearn: 0.1906847\ttotal: 350ms\tremaining: 43.3ms\n",
      "178:\tlearn: 0.1901494\ttotal: 352ms\tremaining: 41.3ms\n",
      "179:\tlearn: 0.1894776\ttotal: 354ms\tremaining: 39.4ms\n",
      "180:\tlearn: 0.1889741\ttotal: 356ms\tremaining: 37.4ms\n",
      "181:\tlearn: 0.1882248\ttotal: 358ms\tremaining: 35.4ms\n",
      "182:\tlearn: 0.1874372\ttotal: 360ms\tremaining: 33.5ms\n",
      "183:\tlearn: 0.1868528\ttotal: 362ms\tremaining: 31.5ms\n",
      "184:\tlearn: 0.1863577\ttotal: 364ms\tremaining: 29.5ms\n",
      "185:\tlearn: 0.1858199\ttotal: 366ms\tremaining: 27.6ms\n",
      "186:\tlearn: 0.1840283\ttotal: 368ms\tremaining: 25.6ms\n",
      "187:\tlearn: 0.1833324\ttotal: 370ms\tremaining: 23.6ms\n",
      "188:\tlearn: 0.1831493\ttotal: 372ms\tremaining: 21.7ms\n",
      "189:\tlearn: 0.1819539\ttotal: 374ms\tremaining: 19.7ms\n",
      "190:\tlearn: 0.1808353\ttotal: 376ms\tremaining: 17.7ms\n",
      "191:\tlearn: 0.1803052\ttotal: 378ms\tremaining: 15.8ms\n",
      "192:\tlearn: 0.1797313\ttotal: 380ms\tremaining: 13.8ms\n",
      "193:\tlearn: 0.1793189\ttotal: 382ms\tremaining: 11.8ms\n",
      "194:\tlearn: 0.1788242\ttotal: 384ms\tremaining: 9.84ms\n",
      "195:\tlearn: 0.1784398\ttotal: 386ms\tremaining: 7.87ms\n",
      "196:\tlearn: 0.1780034\ttotal: 388ms\tremaining: 5.91ms\n",
      "197:\tlearn: 0.1770911\ttotal: 390ms\tremaining: 3.94ms\n",
      "198:\tlearn: 0.1767075\ttotal: 392ms\tremaining: 1.97ms\n",
      "199:\tlearn: 0.1763439\ttotal: 394ms\tremaining: 0us\n"
     ]
    },
    {
     "name": "stdout",
     "output_type": "stream",
     "text": [
      "Accuracy Score: 0.7619498343587316\n",
      "ROC-AUC Score: 0.8239641234436772\n"
     ]
    }
   ],
   "source": [
    "cat_boost_model = CatBoostClassifier(iterations=200, learning_rate=.1,\n",
    "                                     depth=6, loss_function='Logloss', random_seed=12345)\n",
    "cat_boost_model.fit(features_downsampled, target_downsampled)\n",
    "cat_boost_predict_valid = cat_boost_model.predict(features_valid)\n",
    "\n",
    "print('Accuracy Score:', accuracy_score(target_valid, cat_boost_predict_valid))\n",
    "\n",
    "probabilities_valid_cat = cat_boost_model.predict_proba(features_valid)\n",
    "probabilities_one_valid_cat = probabilities_valid_cat[:,1]\n",
    "auc_roc_cat = roc_auc_score(target_valid, probabilities_one_valid_cat)\n",
    "\n",
    "print('ROC-AUC Score:', auc_roc_cat)"
   ]
  },
  {
   "cell_type": "markdown",
   "metadata": {},
   "source": [
    "### Model Boosting w/ LightGBM"
   ]
  },
  {
   "cell_type": "code",
   "execution_count": 625,
   "metadata": {},
   "outputs": [
    {
     "name": "stdout",
     "output_type": "stream",
     "text": [
      "Accuracy Score: 0.7553241836251775\n",
      "ROC-AUC Score: 0.8168737829704372\n"
     ]
    }
   ],
   "source": [
    "lgbm_model = lgb.LGBMClassifier(n_estimators=200, learning_rate=.1, max_depth=6, random_state=12345)\n",
    "lgbm_model.fit(features_downsampled, target_downsampled)\n",
    "lgbm_predicted_valid = lgbm_model.predict(features_valid)\n",
    "\n",
    "print('Accuracy Score:', accuracy_score(target_valid, lgbm_predicted_valid))\n",
    "      \n",
    "probabilities_valid_lgbm = lgbm_model.predict_proba(features_valid)\n",
    "probabilities_one_valid_lgbm = probabilities_valid_lgbm[:,1]\n",
    "auc_roc_lgbm = roc_auc_score(target_valid, probabilities_one_valid_lgbm)\n",
    "      \n",
    "print('ROC-AUC Score:', auc_roc_lgbm)"
   ]
  },
  {
   "cell_type": "markdown",
   "metadata": {},
   "source": [
    "### Model Boosting w/ XGBoost"
   ]
  },
  {
   "cell_type": "code",
   "execution_count": 626,
   "metadata": {},
   "outputs": [
    {
     "name": "stderr",
     "output_type": "stream",
     "text": [
      "/opt/conda/envs/python3/lib/python3.9/site-packages/xgboost/sklearn.py:1224: UserWarning: The use of label encoder in XGBClassifier is deprecated and will be removed in a future release. To remove this warning, do the following: 1) Pass option use_label_encoder=False when constructing XGBClassifier object; and 2) Encode your labels (y) as integers starting with 0, i.e. 0, 1, 2, ..., [num_class - 1].\n",
      "  warnings.warn(label_encoder_deprecation_msg, UserWarning)\n"
     ]
    },
    {
     "name": "stdout",
     "output_type": "stream",
     "text": [
      "[20:07:31] WARNING: ../src/learner.cc:1115: Starting in XGBoost 1.3.0, the default evaluation metric used with the objective 'binary:logistic' was changed from 'error' to 'logloss'. Explicitly set eval_metric if you'd like to restore the old behavior.\n",
      "Accuracy Score: 0.7647893989588264\n",
      "ROC-AUC: 0.8169392812887237\n"
     ]
    }
   ],
   "source": [
    "xgb_model = xgb.XGBClassifier(n_estimators=200, learning_rate=.1, max_depth=6, random_state=12345)\n",
    "xgb_model.fit(features_downsampled,target_downsampled)\n",
    "xgb_predicted_valid = xgb_model.predict(features_valid)\n",
    "\n",
    "print('Accuracy Score:', accuracy_score(target_valid, xgb_predicted_valid))\n",
    "\n",
    "probabilities_valid_xgb = xgb_model.predict_proba(features_valid)\n",
    "probabilities_one_valid_xgb = probabilities_valid_xgb[:, 1]\n",
    "auc_roc_xgb = roc_auc_score(target_valid, probabilities_one_valid_xgb)\n",
    "print('ROC-AUC:', auc_roc_xgb)\n"
   ]
  },
  {
   "cell_type": "markdown",
   "metadata": {},
   "source": [
    "## Random Forest CV"
   ]
  },
  {
   "cell_type": "code",
   "execution_count": 629,
   "metadata": {},
   "outputs": [
    {
     "name": "stdout",
     "output_type": "stream",
     "text": [
      "Best Hyperparameters: {'max_depth': 10, 'min_samples_split': 10, 'n_estimators': 150}\n",
      "Accuracy Score: 0.7934705464868701\n",
      "ROC-AUC: 0.8313595655487804\n"
     ]
    }
   ],
   "source": [
    "model = RandomForestClassifier(random_state=12345)\n",
    "\n",
    "param_grid = {'n_estimators': [100, 150, 200], 'max_depth': [None, 10, 20], 'min_samples_split': [2, 5, 10]}\n",
    "\n",
    "grid_search = GridSearchCV(model, param_grid, cv=5, scoring='roc_auc')\n",
    "\n",
    "grid_search.fit(features_train,target_train)\n",
    "\n",
    "best_params = grid_search.best_params_\n",
    "\n",
    "best_model = grid_search.best_estimator_\n",
    "\n",
    "\n",
    "predicted_valid = best_model.predict(features_test)\n",
    "\n",
    "probabilities_one_valid = best_model.predict_proba(features_test)[:, 1]\n",
    "\n",
    "\n",
    "print('Best Hyperparameters:', best_params)\n",
    "print('Accuracy Score:', accuracy_score(target_test, predicted_valid))\n",
    "auc_roc = roc_auc_score(target_test, probabilities_one_valid)\n",
    "print('ROC-AUC:', auc_roc)"
   ]
  },
  {
   "cell_type": "markdown",
   "metadata": {},
   "source": [
    "# Conclusion"
   ]
  },
  {
   "cell_type": "markdown",
   "metadata": {},
   "source": [
    "There were many findings after conducting a EDA, SDA, and creating machine learning models to predict and understand why Interconnect Telecom customers churn.\n",
    "\n",
    " EDA & SDA Findings:\n",
    "\n",
    "- There are 7043 rows of data.\n",
    "- The mean monthly charge for services for each customer is around 65.\n",
    "- The median monthly charge for services for each customer is 70.\n",
    "- 36.12% of Interconnect Telecom customers have canceled their subscription services.\n",
    "- Males tend to play more than Females for services.\n",
    "- The average tenure for a customer with Interconnect Telecom is about 547 days.\n",
    "- The median tenure for a customer with Interconnect Telecom is about 304 days.\n",
    "- Their is a low correlation between Tenure and Monthly Charges for customers. (.25)\n",
    "\n",
    "\n",
    "\n",
    "Machine Learning Model Results:\n",
    "\n",
    "- All datasets were merged on the customerID column.\n",
    "- Once merged, onehot encoding was used to convert categorical values into numerical values to use for models.\n",
    "\n",
    "    Logistic Regression Model No Boosting:\n",
    "    - Accuracy Score: 0.8031235210601041\n",
    "    - ROC-AUC: 0.8304407859798194\n",
    "    \n",
    "    Logisitc Regression Model No Boosting Upsampled:\n",
    "    - Accuracy Score: 0.7307146237576905\n",
    "    - ROC-AUC: 0.82940107393639\n",
    "    \n",
    "    Logisitc Regression Model No Boosting Downsampled:\n",
    "    - Accuracy Score: 0.7714150496923805\n",
    "    - ROC-AUC: 0.8312798725438131\n",
    "    \n",
    "    Gradient Boosing & Cross Validation:\n",
    "    - Cross-Validaiton Highest Accuracy Score: 0.8436019 \n",
    "    - Cross-Validation Highest F1 Score: 0.89846154 \n",
    "    - Cross-Validaiton Highest ROC-AUC Score: 0.88770937 \n",
    "    \n",
    "    CatBoost Model:\n",
    "    - Accuracy Score: 0.7619498343587316\n",
    "    - ROC-AUC Score: 0.8239641234436772\n",
    "    \n",
    "    LGBM Model:\n",
    "    - Accuracy Score: 0.7553241836251775\n",
    "    - ROC-AUC Score: 0.8168737829704372\n",
    "    \n",
    "    XGB Model:\n",
    "    - Accuracy Score: 0.7647893989588264\n",
    "    - ROC-AUC: 0.8169392812887237\n",
    "    \n",
    "    Random Forest w/ Grid Search For Best Hyperparameters:\n",
    "    - Best Hyperparameters: {'max_depth': 10, 'min_samples_split': 10, 'n_estimators': 150}\n",
    "    - Accuracy Score: 0.7934705464868701\n",
    "    - ROC-AUC: 0.8313595655487804\n",
    "    \n",
    "From our results, we see that the model with the highest ROC-AUC score is the Gradient Boosting model with Cross Validaiton with a score of .88. The highest model without any boosting was the Random Forest model with a ROC-AUC score of .83. The most accurate model  was the Gradient Boost model with a accuracy score of .84, the second highest was the Logistic Regression model, .80. \n",
    "\n"
   ]
  },
  {
   "cell_type": "markdown",
   "metadata": {},
   "source": [
    "### Report"
   ]
  },
  {
   "cell_type": "markdown",
   "metadata": {},
   "source": [
    "1. All steps were completed. We added some encoding to transform categorical values into quantitative values for our machine learning models.\n",
    "\n",
    "2. Some difficulties that I encountered were transforming all categorical values. When I was running my functions for the downsampling and upsampling there were still some `Yes` and `No` values in the merged dataset.\n",
    "\n",
    "3. The most key step during this project was transforming the data using onehot encoding and merging the data all into one dataframe in order to use for the machine learning models. Finding the model with the best ROC-AUC score was also very crucial for gaining enough story points. \n",
    "\n",
    "4. My final model with the highest quality score was the Gradient Boosting model with a ROC-AUC score of .88. Without boosting the best model was the Random Forest with an ROC-AUC score of .831.\n"
   ]
  },
  {
   "cell_type": "code",
   "execution_count": null,
   "metadata": {},
   "outputs": [],
   "source": []
  }
 ],
 "metadata": {
  "ExecuteTimeLog": [
   {
    "duration": 341,
    "start_time": "2024-10-03T14:10:37.246Z"
   },
   {
    "duration": 524,
    "start_time": "2024-10-03T14:11:29.682Z"
   },
   {
    "duration": 59,
    "start_time": "2024-10-03T14:11:58.221Z"
   },
   {
    "duration": 59,
    "start_time": "2024-10-03T14:12:08.016Z"
   },
   {
    "duration": 58,
    "start_time": "2024-10-03T14:13:13.252Z"
   },
   {
    "duration": 46,
    "start_time": "2024-10-03T14:27:17.546Z"
   },
   {
    "duration": 2,
    "start_time": "2024-10-03T14:27:20.703Z"
   },
   {
    "duration": 43,
    "start_time": "2024-10-03T14:27:21.772Z"
   },
   {
    "duration": 32,
    "start_time": "2024-10-03T14:27:28.316Z"
   },
   {
    "duration": 2,
    "start_time": "2024-10-03T14:29:15.136Z"
   },
   {
    "duration": 3,
    "start_time": "2024-10-03T14:30:11.369Z"
   },
   {
    "duration": 41,
    "start_time": "2024-10-03T14:30:11.942Z"
   },
   {
    "duration": 13,
    "start_time": "2024-10-03T14:30:30.481Z"
   },
   {
    "duration": 11,
    "start_time": "2024-10-03T14:30:35.248Z"
   },
   {
    "duration": 14,
    "start_time": "2024-10-03T14:30:57.708Z"
   },
   {
    "duration": 6,
    "start_time": "2024-10-03T14:36:57.614Z"
   },
   {
    "duration": 9,
    "start_time": "2024-10-03T14:37:33.534Z"
   },
   {
    "duration": 10,
    "start_time": "2024-10-03T14:37:54.992Z"
   },
   {
    "duration": 8,
    "start_time": "2024-10-03T14:38:12.974Z"
   },
   {
    "duration": 8,
    "start_time": "2024-10-03T14:38:27.520Z"
   },
   {
    "duration": 11,
    "start_time": "2024-10-03T14:39:23.072Z"
   },
   {
    "duration": 7,
    "start_time": "2024-10-03T14:39:35.470Z"
   },
   {
    "duration": 15,
    "start_time": "2024-10-03T14:39:47.654Z"
   },
   {
    "duration": 8,
    "start_time": "2024-10-03T14:40:05.831Z"
   },
   {
    "duration": 6,
    "start_time": "2024-10-03T14:40:15.842Z"
   },
   {
    "duration": 7,
    "start_time": "2024-10-03T14:40:25.055Z"
   },
   {
    "duration": 8,
    "start_time": "2024-10-03T14:50:05.076Z"
   },
   {
    "duration": 8,
    "start_time": "2024-10-03T14:51:19.385Z"
   },
   {
    "duration": 2,
    "start_time": "2024-10-03T14:52:11.582Z"
   },
   {
    "duration": 39,
    "start_time": "2024-10-03T14:52:12.404Z"
   },
   {
    "duration": 9,
    "start_time": "2024-10-03T14:52:14.429Z"
   },
   {
    "duration": 9,
    "start_time": "2024-10-03T14:52:18.680Z"
   },
   {
    "duration": 9,
    "start_time": "2024-10-03T14:52:20.397Z"
   },
   {
    "duration": 14,
    "start_time": "2024-10-03T14:54:52.416Z"
   },
   {
    "duration": 519,
    "start_time": "2024-10-03T14:54:58.448Z"
   },
   {
    "duration": 52,
    "start_time": "2024-10-03T14:55:18.911Z"
   },
   {
    "duration": 7,
    "start_time": "2024-10-03T14:55:30.620Z"
   },
   {
    "duration": 7,
    "start_time": "2024-10-03T14:55:31.206Z"
   },
   {
    "duration": 5,
    "start_time": "2024-10-03T14:55:32.543Z"
   },
   {
    "duration": 19,
    "start_time": "2024-10-03T15:02:13.428Z"
   },
   {
    "duration": 18,
    "start_time": "2024-10-03T15:02:24.825Z"
   },
   {
    "duration": 14,
    "start_time": "2024-10-03T15:02:34.881Z"
   },
   {
    "duration": 12,
    "start_time": "2024-10-03T15:07:17.913Z"
   },
   {
    "duration": 17,
    "start_time": "2024-10-03T15:07:25.821Z"
   },
   {
    "duration": 5,
    "start_time": "2024-10-03T15:10:14.512Z"
   },
   {
    "duration": 4,
    "start_time": "2024-10-03T15:12:59.391Z"
   },
   {
    "duration": 5,
    "start_time": "2024-10-03T15:13:42.367Z"
   },
   {
    "duration": 3,
    "start_time": "2024-10-03T15:13:49.887Z"
   },
   {
    "duration": 5,
    "start_time": "2024-10-03T15:14:19.819Z"
   },
   {
    "duration": 4,
    "start_time": "2024-10-03T15:14:20.321Z"
   },
   {
    "duration": 3,
    "start_time": "2024-10-03T15:14:55.037Z"
   },
   {
    "duration": 14,
    "start_time": "2024-10-03T15:23:39.749Z"
   },
   {
    "duration": 394,
    "start_time": "2024-10-03T15:26:04.115Z"
   },
   {
    "duration": 5,
    "start_time": "2024-10-03T15:26:12.271Z"
   },
   {
    "duration": 16,
    "start_time": "2024-10-03T15:30:56.341Z"
   },
   {
    "duration": 16,
    "start_time": "2024-10-03T15:31:09.121Z"
   },
   {
    "duration": 11,
    "start_time": "2024-10-03T15:31:20.391Z"
   },
   {
    "duration": 24,
    "start_time": "2024-10-03T15:31:38.118Z"
   },
   {
    "duration": 20,
    "start_time": "2024-10-03T15:31:55.946Z"
   },
   {
    "duration": 14,
    "start_time": "2024-10-03T15:32:00.148Z"
   },
   {
    "duration": 5,
    "start_time": "2024-10-03T15:36:22.126Z"
   },
   {
    "duration": 4,
    "start_time": "2024-10-03T15:36:33.881Z"
   },
   {
    "duration": 2322,
    "start_time": "2024-10-03T15:37:20.952Z"
   },
   {
    "duration": 4,
    "start_time": "2024-10-03T15:37:28.765Z"
   },
   {
    "duration": 4,
    "start_time": "2024-10-03T15:38:08.069Z"
   },
   {
    "duration": 207,
    "start_time": "2024-10-03T15:38:19.621Z"
   },
   {
    "duration": 172,
    "start_time": "2024-10-03T15:38:34.160Z"
   },
   {
    "duration": 285,
    "start_time": "2024-10-03T15:39:52.227Z"
   },
   {
    "duration": 160,
    "start_time": "2024-10-03T15:40:21.191Z"
   },
   {
    "duration": 10,
    "start_time": "2024-10-03T15:41:56.572Z"
   },
   {
    "duration": 5,
    "start_time": "2024-10-03T15:43:12.712Z"
   },
   {
    "duration": 4,
    "start_time": "2024-10-03T15:44:04.564Z"
   },
   {
    "duration": 179,
    "start_time": "2024-10-03T15:44:07.699Z"
   },
   {
    "duration": 17,
    "start_time": "2024-10-03T15:44:37.684Z"
   },
   {
    "duration": 16,
    "start_time": "2024-10-03T15:44:42.051Z"
   },
   {
    "duration": 15,
    "start_time": "2024-10-03T15:44:55.477Z"
   },
   {
    "duration": 13,
    "start_time": "2024-10-03T15:45:05.822Z"
   },
   {
    "duration": 3,
    "start_time": "2024-10-03T15:45:19.184Z"
   },
   {
    "duration": 187,
    "start_time": "2024-10-03T15:45:31.889Z"
   },
   {
    "duration": 5,
    "start_time": "2024-10-03T15:59:38.355Z"
   },
   {
    "duration": 177,
    "start_time": "2024-10-07T17:27:43.892Z"
   },
   {
    "duration": 11,
    "start_time": "2024-10-07T17:28:00.886Z"
   },
   {
    "duration": 2533,
    "start_time": "2024-10-07T17:28:07.735Z"
   },
   {
    "duration": 121,
    "start_time": "2024-10-07T17:28:10.271Z"
   },
   {
    "duration": 11,
    "start_time": "2024-10-07T17:28:10.394Z"
   },
   {
    "duration": 11,
    "start_time": "2024-10-07T17:28:10.407Z"
   },
   {
    "duration": 6,
    "start_time": "2024-10-07T17:28:10.420Z"
   },
   {
    "duration": 8,
    "start_time": "2024-10-07T17:28:10.428Z"
   },
   {
    "duration": 10,
    "start_time": "2024-10-07T17:28:10.437Z"
   },
   {
    "duration": 6,
    "start_time": "2024-10-07T17:28:10.449Z"
   },
   {
    "duration": 8,
    "start_time": "2024-10-07T17:28:10.457Z"
   },
   {
    "duration": 9,
    "start_time": "2024-10-07T17:28:10.468Z"
   },
   {
    "duration": 9,
    "start_time": "2024-10-07T17:28:10.479Z"
   },
   {
    "duration": 14,
    "start_time": "2024-10-07T17:28:10.490Z"
   },
   {
    "duration": 44,
    "start_time": "2024-10-07T17:28:10.507Z"
   },
   {
    "duration": 5,
    "start_time": "2024-10-07T17:28:10.554Z"
   },
   {
    "duration": 6,
    "start_time": "2024-10-07T17:28:10.562Z"
   },
   {
    "duration": 9,
    "start_time": "2024-10-07T17:28:10.569Z"
   },
   {
    "duration": 6,
    "start_time": "2024-10-07T17:28:10.580Z"
   },
   {
    "duration": 4,
    "start_time": "2024-10-07T17:28:10.587Z"
   },
   {
    "duration": 54,
    "start_time": "2024-10-07T17:28:10.593Z"
   },
   {
    "duration": 18,
    "start_time": "2024-10-07T17:28:10.649Z"
   },
   {
    "duration": 15,
    "start_time": "2024-10-07T17:28:10.669Z"
   },
   {
    "duration": 14,
    "start_time": "2024-10-07T17:28:10.686Z"
   },
   {
    "duration": 4,
    "start_time": "2024-10-07T17:28:10.702Z"
   },
   {
    "duration": 4,
    "start_time": "2024-10-07T17:28:10.707Z"
   },
   {
    "duration": 4,
    "start_time": "2024-10-07T17:28:10.742Z"
   },
   {
    "duration": 7,
    "start_time": "2024-10-07T17:28:10.747Z"
   },
   {
    "duration": 19,
    "start_time": "2024-10-07T17:28:10.756Z"
   },
   {
    "duration": 4,
    "start_time": "2024-10-07T17:28:10.780Z"
   },
   {
    "duration": 249,
    "start_time": "2024-10-07T17:28:10.787Z"
   },
   {
    "duration": 18,
    "start_time": "2024-10-07T17:28:11.038Z"
   },
   {
    "duration": 13,
    "start_time": "2024-10-07T17:30:28.290Z"
   },
   {
    "duration": 18,
    "start_time": "2024-10-07T17:30:49.385Z"
   },
   {
    "duration": 3,
    "start_time": "2024-10-07T17:34:08.881Z"
   },
   {
    "duration": 78,
    "start_time": "2024-10-07T17:38:26.170Z"
   },
   {
    "duration": 17,
    "start_time": "2024-10-07T17:38:34.118Z"
   },
   {
    "duration": 127,
    "start_time": "2024-10-07T17:39:36.936Z"
   },
   {
    "duration": 24,
    "start_time": "2024-10-07T17:39:43.495Z"
   },
   {
    "duration": 3,
    "start_time": "2024-10-07T17:40:20.825Z"
   },
   {
    "duration": 36,
    "start_time": "2024-10-07T17:40:20.833Z"
   },
   {
    "duration": 10,
    "start_time": "2024-10-07T17:40:20.872Z"
   },
   {
    "duration": 9,
    "start_time": "2024-10-07T17:40:20.884Z"
   },
   {
    "duration": 6,
    "start_time": "2024-10-07T17:40:20.895Z"
   },
   {
    "duration": 8,
    "start_time": "2024-10-07T17:40:20.903Z"
   },
   {
    "duration": 35,
    "start_time": "2024-10-07T17:40:20.912Z"
   },
   {
    "duration": 9,
    "start_time": "2024-10-07T17:40:20.948Z"
   },
   {
    "duration": 7,
    "start_time": "2024-10-07T17:40:20.960Z"
   },
   {
    "duration": 8,
    "start_time": "2024-10-07T17:40:20.969Z"
   },
   {
    "duration": 6,
    "start_time": "2024-10-07T17:40:20.979Z"
   },
   {
    "duration": 8,
    "start_time": "2024-10-07T17:40:20.987Z"
   },
   {
    "duration": 7,
    "start_time": "2024-10-07T17:40:20.997Z"
   },
   {
    "duration": 6,
    "start_time": "2024-10-07T17:40:21.042Z"
   },
   {
    "duration": 7,
    "start_time": "2024-10-07T17:40:21.053Z"
   },
   {
    "duration": 7,
    "start_time": "2024-10-07T17:40:21.062Z"
   },
   {
    "duration": 6,
    "start_time": "2024-10-07T17:40:21.071Z"
   },
   {
    "duration": 4,
    "start_time": "2024-10-07T17:40:21.079Z"
   },
   {
    "duration": 18,
    "start_time": "2024-10-07T17:40:21.085Z"
   },
   {
    "duration": 48,
    "start_time": "2024-10-07T17:40:21.104Z"
   },
   {
    "duration": 17,
    "start_time": "2024-10-07T17:40:21.154Z"
   },
   {
    "duration": 14,
    "start_time": "2024-10-07T17:40:21.174Z"
   },
   {
    "duration": 4,
    "start_time": "2024-10-07T17:40:21.190Z"
   },
   {
    "duration": 4,
    "start_time": "2024-10-07T17:40:21.196Z"
   },
   {
    "duration": 41,
    "start_time": "2024-10-07T17:40:21.202Z"
   },
   {
    "duration": 6,
    "start_time": "2024-10-07T17:40:21.244Z"
   },
   {
    "duration": 13,
    "start_time": "2024-10-07T17:40:21.251Z"
   },
   {
    "duration": 3,
    "start_time": "2024-10-07T17:40:21.265Z"
   },
   {
    "duration": 197,
    "start_time": "2024-10-07T17:40:21.270Z"
   },
   {
    "duration": 12,
    "start_time": "2024-10-07T17:40:21.469Z"
   },
   {
    "duration": 17,
    "start_time": "2024-10-07T17:40:23.728Z"
   },
   {
    "duration": 350,
    "start_time": "2024-10-07T17:44:49.565Z"
   },
   {
    "duration": 3,
    "start_time": "2024-10-07T17:48:55.459Z"
   },
   {
    "duration": 34,
    "start_time": "2024-10-07T17:48:55.467Z"
   },
   {
    "duration": 10,
    "start_time": "2024-10-07T17:48:55.502Z"
   },
   {
    "duration": 8,
    "start_time": "2024-10-07T17:48:55.514Z"
   },
   {
    "duration": 6,
    "start_time": "2024-10-07T17:48:55.524Z"
   },
   {
    "duration": 12,
    "start_time": "2024-10-07T17:48:55.542Z"
   },
   {
    "duration": 16,
    "start_time": "2024-10-07T17:48:55.557Z"
   },
   {
    "duration": 7,
    "start_time": "2024-10-07T17:48:55.576Z"
   },
   {
    "duration": 10,
    "start_time": "2024-10-07T17:48:55.585Z"
   },
   {
    "duration": 10,
    "start_time": "2024-10-07T17:48:55.597Z"
   },
   {
    "duration": 35,
    "start_time": "2024-10-07T17:48:55.609Z"
   },
   {
    "duration": 9,
    "start_time": "2024-10-07T17:48:55.645Z"
   },
   {
    "duration": 8,
    "start_time": "2024-10-07T17:48:55.655Z"
   },
   {
    "duration": 5,
    "start_time": "2024-10-07T17:48:55.665Z"
   },
   {
    "duration": 5,
    "start_time": "2024-10-07T17:48:55.674Z"
   },
   {
    "duration": 7,
    "start_time": "2024-10-07T17:48:55.681Z"
   },
   {
    "duration": 6,
    "start_time": "2024-10-07T17:48:55.690Z"
   },
   {
    "duration": 48,
    "start_time": "2024-10-07T17:48:55.697Z"
   },
   {
    "duration": 18,
    "start_time": "2024-10-07T17:48:55.747Z"
   },
   {
    "duration": 13,
    "start_time": "2024-10-07T17:48:55.766Z"
   },
   {
    "duration": 16,
    "start_time": "2024-10-07T17:48:55.780Z"
   },
   {
    "duration": 12,
    "start_time": "2024-10-07T17:48:55.797Z"
   },
   {
    "duration": 32,
    "start_time": "2024-10-07T17:48:55.811Z"
   },
   {
    "duration": 4,
    "start_time": "2024-10-07T17:48:55.844Z"
   },
   {
    "duration": 3,
    "start_time": "2024-10-07T17:48:55.850Z"
   },
   {
    "duration": 5,
    "start_time": "2024-10-07T17:48:55.854Z"
   },
   {
    "duration": 13,
    "start_time": "2024-10-07T17:48:55.861Z"
   },
   {
    "duration": 2,
    "start_time": "2024-10-07T17:48:55.876Z"
   },
   {
    "duration": 209,
    "start_time": "2024-10-07T17:48:55.880Z"
   },
   {
    "duration": 12,
    "start_time": "2024-10-07T17:48:56.091Z"
   },
   {
    "duration": 17,
    "start_time": "2024-10-07T17:48:56.105Z"
   },
   {
    "duration": 72,
    "start_time": "2024-10-07T17:48:56.124Z"
   },
   {
    "duration": 58,
    "start_time": "2024-10-07T17:52:23.364Z"
   },
   {
    "duration": 27,
    "start_time": "2024-10-07T17:54:00.396Z"
   },
   {
    "duration": 27,
    "start_time": "2024-10-07T17:54:27.443Z"
   },
   {
    "duration": 26,
    "start_time": "2024-10-07T17:55:18.750Z"
   },
   {
    "duration": 5,
    "start_time": "2024-10-07T17:56:51.030Z"
   },
   {
    "duration": 25,
    "start_time": "2024-10-07T17:56:55.864Z"
   },
   {
    "duration": 5,
    "start_time": "2024-10-07T17:57:11.212Z"
   },
   {
    "duration": 5,
    "start_time": "2024-10-07T17:57:50.186Z"
   },
   {
    "duration": 25,
    "start_time": "2024-10-07T17:57:50.764Z"
   },
   {
    "duration": 5,
    "start_time": "2024-10-07T17:57:51.221Z"
   },
   {
    "duration": 23,
    "start_time": "2024-10-07T17:59:04.578Z"
   },
   {
    "duration": 4,
    "start_time": "2024-10-07T18:03:04.535Z"
   },
   {
    "duration": 171,
    "start_time": "2024-10-07T18:03:05.664Z"
   },
   {
    "duration": 7,
    "start_time": "2024-10-07T18:03:08.294Z"
   },
   {
    "duration": 24,
    "start_time": "2024-10-07T18:03:09.073Z"
   },
   {
    "duration": 4,
    "start_time": "2024-10-07T18:03:59.857Z"
   },
   {
    "duration": 37,
    "start_time": "2024-10-07T18:03:59.864Z"
   },
   {
    "duration": 10,
    "start_time": "2024-10-07T18:03:59.903Z"
   },
   {
    "duration": 9,
    "start_time": "2024-10-07T18:03:59.915Z"
   },
   {
    "duration": 6,
    "start_time": "2024-10-07T18:03:59.926Z"
   },
   {
    "duration": 16,
    "start_time": "2024-10-07T18:03:59.934Z"
   },
   {
    "duration": 10,
    "start_time": "2024-10-07T18:03:59.952Z"
   },
   {
    "duration": 6,
    "start_time": "2024-10-07T18:03:59.963Z"
   },
   {
    "duration": 7,
    "start_time": "2024-10-07T18:03:59.970Z"
   },
   {
    "duration": 9,
    "start_time": "2024-10-07T18:03:59.979Z"
   },
   {
    "duration": 7,
    "start_time": "2024-10-07T18:03:59.989Z"
   },
   {
    "duration": 49,
    "start_time": "2024-10-07T18:03:59.998Z"
   },
   {
    "duration": 9,
    "start_time": "2024-10-07T18:04:00.049Z"
   },
   {
    "duration": 6,
    "start_time": "2024-10-07T18:04:00.060Z"
   },
   {
    "duration": 6,
    "start_time": "2024-10-07T18:04:00.069Z"
   },
   {
    "duration": 7,
    "start_time": "2024-10-07T18:04:00.077Z"
   },
   {
    "duration": 7,
    "start_time": "2024-10-07T18:04:00.086Z"
   },
   {
    "duration": 3,
    "start_time": "2024-10-07T18:04:00.094Z"
   },
   {
    "duration": 65,
    "start_time": "2024-10-07T18:04:00.099Z"
   },
   {
    "duration": 16,
    "start_time": "2024-10-07T18:04:00.169Z"
   },
   {
    "duration": 17,
    "start_time": "2024-10-07T18:04:00.187Z"
   },
   {
    "duration": 38,
    "start_time": "2024-10-07T18:04:00.205Z"
   },
   {
    "duration": 5,
    "start_time": "2024-10-07T18:04:00.244Z"
   },
   {
    "duration": 5,
    "start_time": "2024-10-07T18:04:00.251Z"
   },
   {
    "duration": 4,
    "start_time": "2024-10-07T18:04:00.257Z"
   },
   {
    "duration": 5,
    "start_time": "2024-10-07T18:04:00.263Z"
   },
   {
    "duration": 12,
    "start_time": "2024-10-07T18:04:00.270Z"
   },
   {
    "duration": 14,
    "start_time": "2024-10-07T18:04:00.284Z"
   },
   {
    "duration": 218,
    "start_time": "2024-10-07T18:04:00.299Z"
   },
   {
    "duration": 6,
    "start_time": "2024-10-07T18:04:04.006Z"
   },
   {
    "duration": 24,
    "start_time": "2024-10-07T18:04:05.724Z"
   },
   {
    "duration": 35,
    "start_time": "2024-10-07T18:04:13.645Z"
   },
   {
    "duration": 34,
    "start_time": "2024-10-07T18:04:14.640Z"
   },
   {
    "duration": 5,
    "start_time": "2024-10-07T18:04:16.781Z"
   },
   {
    "duration": 24,
    "start_time": "2024-10-07T18:04:18.667Z"
   },
   {
    "duration": 5,
    "start_time": "2024-10-07T18:04:19.996Z"
   },
   {
    "duration": 68,
    "start_time": "2024-10-07T18:04:45.871Z"
   },
   {
    "duration": 8,
    "start_time": "2024-10-07T18:05:15.181Z"
   },
   {
    "duration": 4,
    "start_time": "2024-10-07T18:05:50.619Z"
   },
   {
    "duration": 5,
    "start_time": "2024-10-07T18:05:56.643Z"
   },
   {
    "duration": 15,
    "start_time": "2024-10-07T18:08:13.074Z"
   },
   {
    "duration": 14,
    "start_time": "2024-10-07T18:09:03.860Z"
   },
   {
    "duration": 8,
    "start_time": "2024-10-07T18:09:10.851Z"
   },
   {
    "duration": 8,
    "start_time": "2024-10-07T18:09:52.300Z"
   },
   {
    "duration": 4,
    "start_time": "2024-10-07T18:10:17.617Z"
   },
   {
    "duration": 3,
    "start_time": "2024-10-07T18:10:57.626Z"
   },
   {
    "duration": 23,
    "start_time": "2024-10-07T18:11:20.468Z"
   },
   {
    "duration": 4,
    "start_time": "2024-10-07T18:11:38.244Z"
   },
   {
    "duration": 17,
    "start_time": "2024-10-07T18:13:39.370Z"
   },
   {
    "duration": 4,
    "start_time": "2024-10-07T18:14:23.484Z"
   },
   {
    "duration": 13,
    "start_time": "2024-10-07T18:14:29.070Z"
   },
   {
    "duration": 7,
    "start_time": "2024-10-07T18:17:57.552Z"
   },
   {
    "duration": 30,
    "start_time": "2024-10-07T18:18:15.306Z"
   },
   {
    "duration": 3,
    "start_time": "2024-10-07T18:18:51.352Z"
   },
   {
    "duration": 18,
    "start_time": "2024-10-07T18:18:56.731Z"
   },
   {
    "duration": 14,
    "start_time": "2024-10-07T18:19:41.937Z"
   },
   {
    "duration": 15,
    "start_time": "2024-10-07T18:19:47.744Z"
   },
   {
    "duration": 14,
    "start_time": "2024-10-07T18:19:57.472Z"
   },
   {
    "duration": 36,
    "start_time": "2024-10-07T18:20:01.872Z"
   },
   {
    "duration": 15,
    "start_time": "2024-10-07T18:20:17.418Z"
   },
   {
    "duration": 13,
    "start_time": "2024-10-07T18:20:33.872Z"
   },
   {
    "duration": 42,
    "start_time": "2024-10-07T18:22:50.485Z"
   },
   {
    "duration": 43496,
    "start_time": "2024-10-07T18:23:10.027Z"
   },
   {
    "duration": 12,
    "start_time": "2024-10-07T18:24:02.370Z"
   },
   {
    "duration": 56,
    "start_time": "2024-10-07T18:24:03.234Z"
   },
   {
    "duration": 5,
    "start_time": "2024-10-07T18:24:10.674Z"
   },
   {
    "duration": 11,
    "start_time": "2024-10-07T18:24:57.043Z"
   },
   {
    "duration": 4,
    "start_time": "2024-10-07T18:24:57.624Z"
   },
   {
    "duration": 16,
    "start_time": "2024-10-07T18:25:10.521Z"
   },
   {
    "duration": 15,
    "start_time": "2024-10-07T18:25:37.348Z"
   },
   {
    "duration": 4,
    "start_time": "2024-10-07T18:25:38.795Z"
   },
   {
    "duration": 4,
    "start_time": "2024-10-07T18:25:42.850Z"
   },
   {
    "duration": 4,
    "start_time": "2024-10-07T18:26:24.408Z"
   },
   {
    "duration": 15,
    "start_time": "2024-10-07T18:28:51.417Z"
   },
   {
    "duration": 3,
    "start_time": "2024-10-07T18:29:15.906Z"
   },
   {
    "duration": 3,
    "start_time": "2024-10-07T18:29:22.121Z"
   },
   {
    "duration": 14,
    "start_time": "2024-10-07T18:29:28.361Z"
   },
   {
    "duration": 18,
    "start_time": "2024-10-07T18:29:44.186Z"
   },
   {
    "duration": 17,
    "start_time": "2024-10-07T18:29:55.769Z"
   },
   {
    "duration": 33,
    "start_time": "2024-10-07T18:30:06.929Z"
   },
   {
    "duration": 31,
    "start_time": "2024-10-07T18:31:17.785Z"
   },
   {
    "duration": 4,
    "start_time": "2024-10-07T18:31:53.618Z"
   },
   {
    "duration": 46,
    "start_time": "2024-10-07T18:31:53.626Z"
   },
   {
    "duration": 13,
    "start_time": "2024-10-07T18:31:53.674Z"
   },
   {
    "duration": 13,
    "start_time": "2024-10-07T18:31:53.688Z"
   },
   {
    "duration": 9,
    "start_time": "2024-10-07T18:31:53.702Z"
   },
   {
    "duration": 31,
    "start_time": "2024-10-07T18:31:53.714Z"
   },
   {
    "duration": 11,
    "start_time": "2024-10-07T18:31:53.747Z"
   },
   {
    "duration": 7,
    "start_time": "2024-10-07T18:31:53.760Z"
   },
   {
    "duration": 9,
    "start_time": "2024-10-07T18:31:53.770Z"
   },
   {
    "duration": 10,
    "start_time": "2024-10-07T18:31:53.781Z"
   },
   {
    "duration": 6,
    "start_time": "2024-10-07T18:31:53.793Z"
   },
   {
    "duration": 49,
    "start_time": "2024-10-07T18:31:53.802Z"
   },
   {
    "duration": 13,
    "start_time": "2024-10-07T18:31:53.854Z"
   },
   {
    "duration": 6,
    "start_time": "2024-10-07T18:31:53.870Z"
   },
   {
    "duration": 6,
    "start_time": "2024-10-07T18:31:53.880Z"
   },
   {
    "duration": 9,
    "start_time": "2024-10-07T18:31:53.888Z"
   },
   {
    "duration": 8,
    "start_time": "2024-10-07T18:31:53.898Z"
   },
   {
    "duration": 4,
    "start_time": "2024-10-07T18:31:53.907Z"
   },
   {
    "duration": 22,
    "start_time": "2024-10-07T18:31:53.944Z"
   },
   {
    "duration": 17,
    "start_time": "2024-10-07T18:31:53.968Z"
   },
   {
    "duration": 19,
    "start_time": "2024-10-07T18:31:53.987Z"
   },
   {
    "duration": 41,
    "start_time": "2024-10-07T18:31:54.009Z"
   },
   {
    "duration": 4,
    "start_time": "2024-10-07T18:31:54.052Z"
   },
   {
    "duration": 6,
    "start_time": "2024-10-07T18:31:54.059Z"
   },
   {
    "duration": 4,
    "start_time": "2024-10-07T18:31:54.067Z"
   },
   {
    "duration": 6,
    "start_time": "2024-10-07T18:31:54.072Z"
   },
   {
    "duration": 12,
    "start_time": "2024-10-07T18:31:54.080Z"
   },
   {
    "duration": 59,
    "start_time": "2024-10-07T18:31:54.094Z"
   },
   {
    "duration": 191,
    "start_time": "2024-10-07T18:31:54.155Z"
   },
   {
    "duration": 5,
    "start_time": "2024-10-07T18:31:54.348Z"
   },
   {
    "duration": 37,
    "start_time": "2024-10-07T18:31:54.355Z"
   },
   {
    "duration": 59,
    "start_time": "2024-10-07T18:31:54.395Z"
   },
   {
    "duration": 42,
    "start_time": "2024-10-07T18:31:54.456Z"
   },
   {
    "duration": 5,
    "start_time": "2024-10-07T18:31:54.500Z"
   },
   {
    "duration": 43,
    "start_time": "2024-10-07T18:31:54.507Z"
   },
   {
    "duration": 6,
    "start_time": "2024-10-07T18:31:54.552Z"
   },
   {
    "duration": 109,
    "start_time": "2024-10-07T18:31:54.560Z"
   },
   {
    "duration": 6,
    "start_time": "2024-10-07T18:31:54.671Z"
   },
   {
    "duration": 6,
    "start_time": "2024-10-07T18:31:54.679Z"
   },
   {
    "duration": 8,
    "start_time": "2024-10-07T18:31:54.687Z"
   },
   {
    "duration": 4,
    "start_time": "2024-10-07T18:31:54.697Z"
   },
   {
    "duration": 44,
    "start_time": "2024-10-07T18:31:54.707Z"
   },
   {
    "duration": 7,
    "start_time": "2024-10-07T18:31:59.860Z"
   },
   {
    "duration": 44,
    "start_time": "2024-10-07T18:32:01.504Z"
   },
   {
    "duration": 14,
    "start_time": "2024-10-07T18:33:32.548Z"
   },
   {
    "duration": 6,
    "start_time": "2024-10-07T18:34:28.299Z"
   },
   {
    "duration": 43,
    "start_time": "2024-10-07T18:34:28.308Z"
   },
   {
    "duration": 14,
    "start_time": "2024-10-07T18:34:28.354Z"
   },
   {
    "duration": 13,
    "start_time": "2024-10-07T18:34:28.371Z"
   },
   {
    "duration": 8,
    "start_time": "2024-10-07T18:34:28.386Z"
   },
   {
    "duration": 12,
    "start_time": "2024-10-07T18:34:28.396Z"
   },
   {
    "duration": 36,
    "start_time": "2024-10-07T18:34:28.410Z"
   },
   {
    "duration": 8,
    "start_time": "2024-10-07T18:34:28.448Z"
   },
   {
    "duration": 9,
    "start_time": "2024-10-07T18:34:28.458Z"
   },
   {
    "duration": 8,
    "start_time": "2024-10-07T18:34:28.471Z"
   },
   {
    "duration": 5,
    "start_time": "2024-10-07T18:34:28.482Z"
   },
   {
    "duration": 9,
    "start_time": "2024-10-07T18:34:28.489Z"
   },
   {
    "duration": 48,
    "start_time": "2024-10-07T18:34:28.500Z"
   },
   {
    "duration": 8,
    "start_time": "2024-10-07T18:34:28.550Z"
   },
   {
    "duration": 7,
    "start_time": "2024-10-07T18:34:28.560Z"
   },
   {
    "duration": 9,
    "start_time": "2024-10-07T18:34:28.569Z"
   },
   {
    "duration": 7,
    "start_time": "2024-10-07T18:34:28.580Z"
   },
   {
    "duration": 4,
    "start_time": "2024-10-07T18:34:28.589Z"
   },
   {
    "duration": 47,
    "start_time": "2024-10-07T18:34:28.596Z"
   },
   {
    "duration": 17,
    "start_time": "2024-10-07T18:34:28.645Z"
   },
   {
    "duration": 16,
    "start_time": "2024-10-07T18:34:28.664Z"
   },
   {
    "duration": 12,
    "start_time": "2024-10-07T18:34:28.682Z"
   },
   {
    "duration": 5,
    "start_time": "2024-10-07T18:34:28.696Z"
   },
   {
    "duration": 5,
    "start_time": "2024-10-07T18:34:28.703Z"
   },
   {
    "duration": 35,
    "start_time": "2024-10-07T18:34:28.710Z"
   },
   {
    "duration": 6,
    "start_time": "2024-10-07T18:34:28.748Z"
   },
   {
    "duration": 16,
    "start_time": "2024-10-07T18:34:28.756Z"
   },
   {
    "duration": 22,
    "start_time": "2024-10-07T18:34:28.777Z"
   },
   {
    "duration": 228,
    "start_time": "2024-10-07T18:34:28.801Z"
   },
   {
    "duration": 5,
    "start_time": "2024-10-07T18:34:29.031Z"
   },
   {
    "duration": 28,
    "start_time": "2024-10-07T18:34:29.045Z"
   },
   {
    "duration": 30,
    "start_time": "2024-10-07T18:34:29.075Z"
   },
   {
    "duration": 49,
    "start_time": "2024-10-07T18:34:29.107Z"
   },
   {
    "duration": 8,
    "start_time": "2024-10-07T18:34:29.157Z"
   },
   {
    "duration": 12,
    "start_time": "2024-10-07T18:34:29.168Z"
   },
   {
    "duration": 6,
    "start_time": "2024-10-07T18:34:29.182Z"
   },
   {
    "duration": 109,
    "start_time": "2024-10-07T18:34:29.191Z"
   },
   {
    "duration": 7,
    "start_time": "2024-10-07T18:34:29.302Z"
   },
   {
    "duration": 5,
    "start_time": "2024-10-07T18:34:29.310Z"
   },
   {
    "duration": 12,
    "start_time": "2024-10-07T18:34:29.334Z"
   },
   {
    "duration": 5,
    "start_time": "2024-10-07T18:34:29.348Z"
   },
   {
    "duration": 14,
    "start_time": "2024-10-07T18:34:29.354Z"
   },
   {
    "duration": 6,
    "start_time": "2024-10-07T18:34:29.371Z"
   },
   {
    "duration": 17,
    "start_time": "2024-10-07T18:34:51.537Z"
   },
   {
    "duration": 77,
    "start_time": "2024-10-07T18:36:46.868Z"
   },
   {
    "duration": 8,
    "start_time": "2024-10-07T18:36:51.759Z"
   },
   {
    "duration": 18,
    "start_time": "2024-10-07T18:37:14.232Z"
   },
   {
    "duration": 17,
    "start_time": "2024-10-07T18:39:21.372Z"
   },
   {
    "duration": 45,
    "start_time": "2024-10-07T18:39:28.380Z"
   },
   {
    "duration": 14,
    "start_time": "2024-10-07T18:40:19.512Z"
   },
   {
    "duration": 5,
    "start_time": "2024-10-07T18:40:47.657Z"
   },
   {
    "duration": 33,
    "start_time": "2024-10-07T18:43:22.241Z"
   },
   {
    "duration": 4,
    "start_time": "2024-10-07T18:45:18.096Z"
   },
   {
    "duration": 3,
    "start_time": "2024-10-07T18:45:30.862Z"
   },
   {
    "duration": 34,
    "start_time": "2024-10-07T18:45:30.868Z"
   },
   {
    "duration": 10,
    "start_time": "2024-10-07T18:45:30.904Z"
   },
   {
    "duration": 18,
    "start_time": "2024-10-07T18:45:30.916Z"
   },
   {
    "duration": 18,
    "start_time": "2024-10-07T18:45:30.937Z"
   },
   {
    "duration": 16,
    "start_time": "2024-10-07T18:45:30.957Z"
   },
   {
    "duration": 14,
    "start_time": "2024-10-07T18:45:30.975Z"
   },
   {
    "duration": 13,
    "start_time": "2024-10-07T18:45:30.990Z"
   },
   {
    "duration": 11,
    "start_time": "2024-10-07T18:45:31.005Z"
   },
   {
    "duration": 10,
    "start_time": "2024-10-07T18:45:31.018Z"
   },
   {
    "duration": 7,
    "start_time": "2024-10-07T18:45:31.030Z"
   },
   {
    "duration": 9,
    "start_time": "2024-10-07T18:45:31.038Z"
   },
   {
    "duration": 8,
    "start_time": "2024-10-07T18:45:31.051Z"
   },
   {
    "duration": 6,
    "start_time": "2024-10-07T18:45:31.064Z"
   },
   {
    "duration": 7,
    "start_time": "2024-10-07T18:45:31.071Z"
   },
   {
    "duration": 7,
    "start_time": "2024-10-07T18:45:31.080Z"
   },
   {
    "duration": 6,
    "start_time": "2024-10-07T18:45:31.088Z"
   },
   {
    "duration": 3,
    "start_time": "2024-10-07T18:45:31.096Z"
   },
   {
    "duration": 61,
    "start_time": "2024-10-07T18:45:31.101Z"
   },
   {
    "duration": 14,
    "start_time": "2024-10-07T18:45:31.163Z"
   },
   {
    "duration": 14,
    "start_time": "2024-10-07T18:45:31.179Z"
   },
   {
    "duration": 12,
    "start_time": "2024-10-07T18:45:31.195Z"
   },
   {
    "duration": 4,
    "start_time": "2024-10-07T18:45:31.208Z"
   },
   {
    "duration": 4,
    "start_time": "2024-10-07T18:45:31.243Z"
   },
   {
    "duration": 3,
    "start_time": "2024-10-07T18:45:31.249Z"
   },
   {
    "duration": 5,
    "start_time": "2024-10-07T18:45:31.255Z"
   },
   {
    "duration": 13,
    "start_time": "2024-10-07T18:45:31.262Z"
   },
   {
    "duration": 15,
    "start_time": "2024-10-07T18:45:31.277Z"
   },
   {
    "duration": 215,
    "start_time": "2024-10-07T18:45:31.294Z"
   },
   {
    "duration": 5,
    "start_time": "2024-10-07T18:45:31.511Z"
   },
   {
    "duration": 37,
    "start_time": "2024-10-07T18:45:31.517Z"
   },
   {
    "duration": 29,
    "start_time": "2024-10-07T18:45:31.556Z"
   },
   {
    "duration": 24,
    "start_time": "2024-10-07T18:45:31.587Z"
   },
   {
    "duration": 4,
    "start_time": "2024-10-07T18:45:31.613Z"
   },
   {
    "duration": 32,
    "start_time": "2024-10-07T18:45:31.619Z"
   },
   {
    "duration": 16,
    "start_time": "2024-10-07T18:45:31.653Z"
   },
   {
    "duration": 73,
    "start_time": "2024-10-07T18:45:31.671Z"
   },
   {
    "duration": 7,
    "start_time": "2024-10-07T18:45:31.746Z"
   },
   {
    "duration": 4,
    "start_time": "2024-10-07T18:45:31.754Z"
   },
   {
    "duration": 7,
    "start_time": "2024-10-07T18:45:31.760Z"
   },
   {
    "duration": 3,
    "start_time": "2024-10-07T18:45:31.771Z"
   },
   {
    "duration": 10,
    "start_time": "2024-10-07T18:45:31.776Z"
   },
   {
    "duration": 3,
    "start_time": "2024-10-07T18:45:31.788Z"
   },
   {
    "duration": 4,
    "start_time": "2024-10-07T18:45:33.953Z"
   },
   {
    "duration": 5,
    "start_time": "2024-10-07T18:45:34.374Z"
   },
   {
    "duration": 19,
    "start_time": "2024-10-07T18:45:35.798Z"
   },
   {
    "duration": 31,
    "start_time": "2024-10-07T18:45:38.481Z"
   },
   {
    "duration": 4,
    "start_time": "2024-10-07T18:53:18.050Z"
   },
   {
    "duration": 18,
    "start_time": "2024-10-07T18:53:29.593Z"
   },
   {
    "duration": 18,
    "start_time": "2024-10-07T18:53:47.836Z"
   },
   {
    "duration": 9,
    "start_time": "2024-10-07T18:55:04.645Z"
   },
   {
    "duration": 4,
    "start_time": "2024-10-07T18:56:04.450Z"
   },
   {
    "duration": 19,
    "start_time": "2024-10-07T18:56:05.986Z"
   },
   {
    "duration": 4,
    "start_time": "2024-10-07T18:56:22.145Z"
   },
   {
    "duration": 19,
    "start_time": "2024-10-07T18:56:22.583Z"
   },
   {
    "duration": 10,
    "start_time": "2024-10-07T18:56:48.014Z"
   },
   {
    "duration": 26,
    "start_time": "2024-10-07T18:58:53.993Z"
   },
   {
    "duration": 8,
    "start_time": "2024-10-07T19:00:44.004Z"
   },
   {
    "duration": 26,
    "start_time": "2024-10-07T19:00:45.093Z"
   },
   {
    "duration": 219,
    "start_time": "2024-10-07T19:02:02.332Z"
   },
   {
    "duration": 30,
    "start_time": "2024-10-07T19:02:05.162Z"
   },
   {
    "duration": 4,
    "start_time": "2024-10-07T19:02:29.483Z"
   },
   {
    "duration": 35,
    "start_time": "2024-10-07T19:02:29.490Z"
   },
   {
    "duration": 10,
    "start_time": "2024-10-07T19:02:29.527Z"
   },
   {
    "duration": 9,
    "start_time": "2024-10-07T19:02:29.539Z"
   },
   {
    "duration": 7,
    "start_time": "2024-10-07T19:02:29.550Z"
   },
   {
    "duration": 8,
    "start_time": "2024-10-07T19:02:29.559Z"
   },
   {
    "duration": 9,
    "start_time": "2024-10-07T19:02:29.569Z"
   },
   {
    "duration": 5,
    "start_time": "2024-10-07T19:02:29.580Z"
   },
   {
    "duration": 7,
    "start_time": "2024-10-07T19:02:29.588Z"
   },
   {
    "duration": 49,
    "start_time": "2024-10-07T19:02:29.597Z"
   },
   {
    "duration": 8,
    "start_time": "2024-10-07T19:02:29.648Z"
   },
   {
    "duration": 9,
    "start_time": "2024-10-07T19:02:29.657Z"
   },
   {
    "duration": 8,
    "start_time": "2024-10-07T19:02:29.668Z"
   },
   {
    "duration": 6,
    "start_time": "2024-10-07T19:02:29.678Z"
   },
   {
    "duration": 7,
    "start_time": "2024-10-07T19:02:29.685Z"
   },
   {
    "duration": 6,
    "start_time": "2024-10-07T19:02:29.694Z"
   },
   {
    "duration": 46,
    "start_time": "2024-10-07T19:02:29.702Z"
   },
   {
    "duration": 4,
    "start_time": "2024-10-07T19:02:29.750Z"
   },
   {
    "duration": 18,
    "start_time": "2024-10-07T19:02:29.756Z"
   },
   {
    "duration": 14,
    "start_time": "2024-10-07T19:02:29.776Z"
   },
   {
    "duration": 14,
    "start_time": "2024-10-07T19:02:29.792Z"
   },
   {
    "duration": 46,
    "start_time": "2024-10-07T19:02:29.808Z"
   },
   {
    "duration": 5,
    "start_time": "2024-10-07T19:02:29.856Z"
   },
   {
    "duration": 4,
    "start_time": "2024-10-07T19:02:29.865Z"
   },
   {
    "duration": 3,
    "start_time": "2024-10-07T19:02:29.871Z"
   },
   {
    "duration": 5,
    "start_time": "2024-10-07T19:02:29.876Z"
   },
   {
    "duration": 15,
    "start_time": "2024-10-07T19:02:29.883Z"
   },
   {
    "duration": 51,
    "start_time": "2024-10-07T19:02:29.900Z"
   },
   {
    "duration": 193,
    "start_time": "2024-10-07T19:02:29.953Z"
   },
   {
    "duration": 9,
    "start_time": "2024-10-07T19:02:30.148Z"
   },
   {
    "duration": 10,
    "start_time": "2024-10-07T19:02:32.302Z"
   },
   {
    "duration": 54,
    "start_time": "2024-10-07T19:02:33.014Z"
   },
   {
    "duration": 27,
    "start_time": "2024-10-07T19:02:36.103Z"
   },
   {
    "duration": 21,
    "start_time": "2024-10-07T19:02:54.388Z"
   },
   {
    "duration": 12,
    "start_time": "2024-10-07T19:03:10.475Z"
   },
   {
    "duration": 52,
    "start_time": "2024-10-07T19:03:49.796Z"
   },
   {
    "duration": 8,
    "start_time": "2024-10-07T19:04:05.903Z"
   },
   {
    "duration": 19,
    "start_time": "2024-10-07T19:04:07.267Z"
   },
   {
    "duration": 9,
    "start_time": "2024-10-07T19:04:20.030Z"
   },
   {
    "duration": 7,
    "start_time": "2024-10-07T19:04:22.953Z"
   },
   {
    "duration": 25,
    "start_time": "2024-10-07T19:04:23.694Z"
   },
   {
    "duration": 28,
    "start_time": "2024-10-07T19:04:24.389Z"
   },
   {
    "duration": 24,
    "start_time": "2024-10-07T19:04:24.773Z"
   },
   {
    "duration": 5,
    "start_time": "2024-10-07T19:04:25.007Z"
   },
   {
    "duration": 9,
    "start_time": "2024-10-07T19:04:25.224Z"
   },
   {
    "duration": 5,
    "start_time": "2024-10-07T19:04:25.440Z"
   },
   {
    "duration": 74,
    "start_time": "2024-10-07T19:04:25.635Z"
   },
   {
    "duration": 7,
    "start_time": "2024-10-07T19:04:25.862Z"
   },
   {
    "duration": 5,
    "start_time": "2024-10-07T19:04:26.595Z"
   },
   {
    "duration": 8,
    "start_time": "2024-10-07T19:04:26.962Z"
   },
   {
    "duration": 3,
    "start_time": "2024-10-07T19:04:27.203Z"
   },
   {
    "duration": 13,
    "start_time": "2024-10-07T19:04:27.801Z"
   },
   {
    "duration": 4,
    "start_time": "2024-10-07T19:04:28.402Z"
   },
   {
    "duration": 4,
    "start_time": "2024-10-07T19:04:29.039Z"
   },
   {
    "duration": 19,
    "start_time": "2024-10-07T19:04:29.920Z"
   },
   {
    "duration": 32,
    "start_time": "2024-10-07T19:04:30.983Z"
   },
   {
    "duration": 15,
    "start_time": "2024-10-07T19:10:19.757Z"
   },
   {
    "duration": 14,
    "start_time": "2024-10-07T19:11:03.894Z"
   },
   {
    "duration": 21,
    "start_time": "2024-10-07T19:11:12.058Z"
   },
   {
    "duration": 31,
    "start_time": "2024-10-07T19:13:43.357Z"
   },
   {
    "duration": 5,
    "start_time": "2024-10-07T19:15:49.906Z"
   },
   {
    "duration": 8,
    "start_time": "2024-10-07T19:18:56.344Z"
   },
   {
    "duration": 3,
    "start_time": "2024-10-07T19:19:02.840Z"
   },
   {
    "duration": 39,
    "start_time": "2024-10-07T19:19:02.846Z"
   },
   {
    "duration": 10,
    "start_time": "2024-10-07T19:19:02.887Z"
   },
   {
    "duration": 10,
    "start_time": "2024-10-07T19:19:02.899Z"
   },
   {
    "duration": 7,
    "start_time": "2024-10-07T19:19:02.911Z"
   },
   {
    "duration": 9,
    "start_time": "2024-10-07T19:19:02.943Z"
   },
   {
    "duration": 14,
    "start_time": "2024-10-07T19:19:02.954Z"
   },
   {
    "duration": 9,
    "start_time": "2024-10-07T19:19:02.970Z"
   },
   {
    "duration": 7,
    "start_time": "2024-10-07T19:19:02.981Z"
   },
   {
    "duration": 12,
    "start_time": "2024-10-07T19:19:02.991Z"
   },
   {
    "duration": 40,
    "start_time": "2024-10-07T19:19:03.005Z"
   },
   {
    "duration": 10,
    "start_time": "2024-10-07T19:19:03.047Z"
   },
   {
    "duration": 9,
    "start_time": "2024-10-07T19:19:03.059Z"
   },
   {
    "duration": 5,
    "start_time": "2024-10-07T19:19:03.073Z"
   },
   {
    "duration": 6,
    "start_time": "2024-10-07T19:19:03.080Z"
   },
   {
    "duration": 8,
    "start_time": "2024-10-07T19:19:03.088Z"
   },
   {
    "duration": 47,
    "start_time": "2024-10-07T19:19:03.098Z"
   },
   {
    "duration": 4,
    "start_time": "2024-10-07T19:19:03.147Z"
   },
   {
    "duration": 20,
    "start_time": "2024-10-07T19:19:03.153Z"
   },
   {
    "duration": 13,
    "start_time": "2024-10-07T19:19:03.175Z"
   },
   {
    "duration": 15,
    "start_time": "2024-10-07T19:19:03.190Z"
   },
   {
    "duration": 43,
    "start_time": "2024-10-07T19:19:03.207Z"
   },
   {
    "duration": 5,
    "start_time": "2024-10-07T19:19:03.252Z"
   },
   {
    "duration": 6,
    "start_time": "2024-10-07T19:19:03.259Z"
   },
   {
    "duration": 3,
    "start_time": "2024-10-07T19:19:03.266Z"
   },
   {
    "duration": 5,
    "start_time": "2024-10-07T19:19:03.271Z"
   },
   {
    "duration": 13,
    "start_time": "2024-10-07T19:19:03.278Z"
   },
   {
    "duration": 52,
    "start_time": "2024-10-07T19:19:03.293Z"
   },
   {
    "duration": 185,
    "start_time": "2024-10-07T19:19:03.347Z"
   },
   {
    "duration": 15,
    "start_time": "2024-10-07T19:19:03.534Z"
   },
   {
    "duration": 8,
    "start_time": "2024-10-07T19:19:03.551Z"
   },
   {
    "duration": 19,
    "start_time": "2024-10-07T19:19:03.561Z"
   },
   {
    "duration": 9,
    "start_time": "2024-10-07T19:19:03.582Z"
   },
   {
    "duration": 6,
    "start_time": "2024-10-07T19:19:03.592Z"
   },
   {
    "duration": 55,
    "start_time": "2024-10-07T19:19:03.599Z"
   },
   {
    "duration": 28,
    "start_time": "2024-10-07T19:19:03.656Z"
   },
   {
    "duration": 23,
    "start_time": "2024-10-07T19:19:03.686Z"
   },
   {
    "duration": 5,
    "start_time": "2024-10-07T19:19:03.712Z"
   },
   {
    "duration": 31,
    "start_time": "2024-10-07T19:19:03.719Z"
   },
   {
    "duration": 4,
    "start_time": "2024-10-07T19:19:03.752Z"
   },
   {
    "duration": 86,
    "start_time": "2024-10-07T19:19:03.761Z"
   },
   {
    "duration": 5,
    "start_time": "2024-10-07T19:19:03.849Z"
   },
   {
    "duration": 5,
    "start_time": "2024-10-07T19:19:03.856Z"
   },
   {
    "duration": 7,
    "start_time": "2024-10-07T19:19:03.863Z"
   },
   {
    "duration": 4,
    "start_time": "2024-10-07T19:19:03.872Z"
   },
   {
    "duration": 11,
    "start_time": "2024-10-07T19:19:03.879Z"
   },
   {
    "duration": 8,
    "start_time": "2024-10-07T19:19:03.892Z"
   },
   {
    "duration": 4,
    "start_time": "2024-10-07T19:19:03.901Z"
   },
   {
    "duration": 18,
    "start_time": "2024-10-07T19:19:09.164Z"
   },
   {
    "duration": 15,
    "start_time": "2024-10-07T19:19:19.692Z"
   },
   {
    "duration": 18,
    "start_time": "2024-10-07T19:19:22.417Z"
   },
   {
    "duration": 4,
    "start_time": "2024-10-07T19:20:00.774Z"
   },
   {
    "duration": 4,
    "start_time": "2024-10-07T19:20:01.202Z"
   },
   {
    "duration": 15,
    "start_time": "2024-10-07T19:20:02.267Z"
   },
   {
    "duration": 16,
    "start_time": "2024-10-07T19:20:03.102Z"
   },
   {
    "duration": 32,
    "start_time": "2024-10-07T19:20:11.238Z"
   },
   {
    "duration": 32,
    "start_time": "2024-10-07T19:20:33.351Z"
   },
   {
    "duration": 4,
    "start_time": "2024-10-07T19:20:53.973Z"
   },
   {
    "duration": 4,
    "start_time": "2024-10-07T19:20:54.461Z"
   },
   {
    "duration": 28,
    "start_time": "2024-10-07T19:20:58.025Z"
   },
   {
    "duration": 3,
    "start_time": "2024-10-07T19:21:09.492Z"
   },
   {
    "duration": 36,
    "start_time": "2024-10-07T19:21:09.498Z"
   },
   {
    "duration": 12,
    "start_time": "2024-10-07T19:21:09.536Z"
   },
   {
    "duration": 10,
    "start_time": "2024-10-07T19:21:09.551Z"
   },
   {
    "duration": 6,
    "start_time": "2024-10-07T19:21:09.563Z"
   },
   {
    "duration": 8,
    "start_time": "2024-10-07T19:21:09.571Z"
   },
   {
    "duration": 9,
    "start_time": "2024-10-07T19:21:09.581Z"
   },
   {
    "duration": 7,
    "start_time": "2024-10-07T19:21:09.592Z"
   },
   {
    "duration": 44,
    "start_time": "2024-10-07T19:21:09.602Z"
   },
   {
    "duration": 9,
    "start_time": "2024-10-07T19:21:09.648Z"
   },
   {
    "duration": 6,
    "start_time": "2024-10-07T19:21:09.659Z"
   },
   {
    "duration": 9,
    "start_time": "2024-10-07T19:21:09.667Z"
   },
   {
    "duration": 7,
    "start_time": "2024-10-07T19:21:09.678Z"
   },
   {
    "duration": 5,
    "start_time": "2024-10-07T19:21:09.688Z"
   },
   {
    "duration": 50,
    "start_time": "2024-10-07T19:21:09.694Z"
   },
   {
    "duration": 10,
    "start_time": "2024-10-07T19:21:09.746Z"
   },
   {
    "duration": 10,
    "start_time": "2024-10-07T19:21:09.759Z"
   },
   {
    "duration": 6,
    "start_time": "2024-10-07T19:21:09.771Z"
   },
   {
    "duration": 26,
    "start_time": "2024-10-07T19:21:09.779Z"
   },
   {
    "duration": 37,
    "start_time": "2024-10-07T19:21:09.807Z"
   },
   {
    "duration": 18,
    "start_time": "2024-10-07T19:21:09.846Z"
   },
   {
    "duration": 14,
    "start_time": "2024-10-07T19:21:09.865Z"
   },
   {
    "duration": 4,
    "start_time": "2024-10-07T19:21:09.881Z"
   },
   {
    "duration": 4,
    "start_time": "2024-10-07T19:21:09.890Z"
   },
   {
    "duration": 4,
    "start_time": "2024-10-07T19:21:09.896Z"
   },
   {
    "duration": 5,
    "start_time": "2024-10-07T19:21:09.901Z"
   },
   {
    "duration": 14,
    "start_time": "2024-10-07T19:21:09.943Z"
   },
   {
    "duration": 13,
    "start_time": "2024-10-07T19:21:09.960Z"
   },
   {
    "duration": 203,
    "start_time": "2024-10-07T19:21:09.975Z"
   },
   {
    "duration": 9,
    "start_time": "2024-10-07T19:21:10.180Z"
   },
   {
    "duration": 8,
    "start_time": "2024-10-07T19:21:10.191Z"
   },
   {
    "duration": 20,
    "start_time": "2024-10-07T19:21:10.201Z"
   },
   {
    "duration": 10,
    "start_time": "2024-10-07T19:21:10.243Z"
   },
   {
    "duration": 5,
    "start_time": "2024-10-07T19:21:10.255Z"
   },
   {
    "duration": 24,
    "start_time": "2024-10-07T19:21:10.262Z"
   },
   {
    "duration": 27,
    "start_time": "2024-10-07T19:21:10.288Z"
   },
   {
    "duration": 49,
    "start_time": "2024-10-07T19:21:10.317Z"
   },
   {
    "duration": 4,
    "start_time": "2024-10-07T19:21:10.368Z"
   },
   {
    "duration": 11,
    "start_time": "2024-10-07T19:21:10.373Z"
   },
   {
    "duration": 4,
    "start_time": "2024-10-07T19:21:10.386Z"
   },
   {
    "duration": 105,
    "start_time": "2024-10-07T19:21:10.392Z"
   },
   {
    "duration": 10,
    "start_time": "2024-10-07T19:21:10.499Z"
   },
   {
    "duration": 4,
    "start_time": "2024-10-07T19:21:10.511Z"
   },
   {
    "duration": 8,
    "start_time": "2024-10-07T19:21:10.517Z"
   },
   {
    "duration": 18,
    "start_time": "2024-10-07T19:21:10.526Z"
   },
   {
    "duration": 13,
    "start_time": "2024-10-07T19:21:10.550Z"
   },
   {
    "duration": 3,
    "start_time": "2024-10-07T19:21:10.565Z"
   },
   {
    "duration": 5,
    "start_time": "2024-10-07T19:21:13.598Z"
   },
   {
    "duration": 29,
    "start_time": "2024-10-07T19:21:15.880Z"
   },
   {
    "duration": 3,
    "start_time": "2024-10-07T19:21:50.546Z"
   },
   {
    "duration": 30,
    "start_time": "2024-10-07T19:21:50.554Z"
   },
   {
    "duration": 10,
    "start_time": "2024-10-07T19:21:50.587Z"
   },
   {
    "duration": 8,
    "start_time": "2024-10-07T19:21:50.599Z"
   },
   {
    "duration": 7,
    "start_time": "2024-10-07T19:21:50.609Z"
   },
   {
    "duration": 9,
    "start_time": "2024-10-07T19:21:50.644Z"
   },
   {
    "duration": 11,
    "start_time": "2024-10-07T19:21:50.654Z"
   },
   {
    "duration": 6,
    "start_time": "2024-10-07T19:21:50.667Z"
   },
   {
    "duration": 7,
    "start_time": "2024-10-07T19:21:50.675Z"
   },
   {
    "duration": 9,
    "start_time": "2024-10-07T19:21:50.683Z"
   },
   {
    "duration": 7,
    "start_time": "2024-10-07T19:21:50.693Z"
   },
   {
    "duration": 46,
    "start_time": "2024-10-07T19:21:50.701Z"
   },
   {
    "duration": 8,
    "start_time": "2024-10-07T19:21:50.750Z"
   },
   {
    "duration": 5,
    "start_time": "2024-10-07T19:21:50.760Z"
   },
   {
    "duration": 5,
    "start_time": "2024-10-07T19:21:50.769Z"
   },
   {
    "duration": 6,
    "start_time": "2024-10-07T19:21:50.776Z"
   },
   {
    "duration": 6,
    "start_time": "2024-10-07T19:21:50.784Z"
   },
   {
    "duration": 4,
    "start_time": "2024-10-07T19:21:50.792Z"
   },
   {
    "duration": 61,
    "start_time": "2024-10-07T19:21:50.798Z"
   },
   {
    "duration": 13,
    "start_time": "2024-10-07T19:21:50.861Z"
   },
   {
    "duration": 15,
    "start_time": "2024-10-07T19:21:50.876Z"
   },
   {
    "duration": 13,
    "start_time": "2024-10-07T19:21:50.893Z"
   },
   {
    "duration": 5,
    "start_time": "2024-10-07T19:21:50.907Z"
   },
   {
    "duration": 6,
    "start_time": "2024-10-07T19:21:50.943Z"
   },
   {
    "duration": 4,
    "start_time": "2024-10-07T19:21:50.950Z"
   },
   {
    "duration": 6,
    "start_time": "2024-10-07T19:21:50.955Z"
   },
   {
    "duration": 12,
    "start_time": "2024-10-07T19:21:50.963Z"
   },
   {
    "duration": 13,
    "start_time": "2024-10-07T19:21:50.977Z"
   },
   {
    "duration": 213,
    "start_time": "2024-10-07T19:21:50.992Z"
   },
   {
    "duration": 9,
    "start_time": "2024-10-07T19:21:51.207Z"
   },
   {
    "duration": 8,
    "start_time": "2024-10-07T19:21:51.218Z"
   },
   {
    "duration": 23,
    "start_time": "2024-10-07T19:21:51.243Z"
   },
   {
    "duration": 10,
    "start_time": "2024-10-07T19:21:51.268Z"
   },
   {
    "duration": 4,
    "start_time": "2024-10-07T19:21:51.280Z"
   },
   {
    "duration": 24,
    "start_time": "2024-10-07T19:21:51.286Z"
   },
   {
    "duration": 56,
    "start_time": "2024-10-07T19:21:51.311Z"
   },
   {
    "duration": 25,
    "start_time": "2024-10-07T19:21:51.369Z"
   },
   {
    "duration": 5,
    "start_time": "2024-10-07T19:21:51.395Z"
   },
   {
    "duration": 12,
    "start_time": "2024-10-07T19:21:51.401Z"
   },
   {
    "duration": 28,
    "start_time": "2024-10-07T19:21:51.415Z"
   },
   {
    "duration": 71,
    "start_time": "2024-10-07T19:21:51.446Z"
   },
   {
    "duration": 20,
    "start_time": "2024-10-07T19:21:51.523Z"
   },
   {
    "duration": 5,
    "start_time": "2024-10-07T19:21:51.544Z"
   },
   {
    "duration": 8,
    "start_time": "2024-10-07T19:21:51.551Z"
   },
   {
    "duration": 4,
    "start_time": "2024-10-07T19:21:51.560Z"
   },
   {
    "duration": 13,
    "start_time": "2024-10-07T19:21:51.565Z"
   },
   {
    "duration": 3,
    "start_time": "2024-10-07T19:21:51.580Z"
   },
   {
    "duration": 3,
    "start_time": "2024-10-07T19:21:55.869Z"
   },
   {
    "duration": 32,
    "start_time": "2024-10-07T19:21:57.775Z"
   },
   {
    "duration": 15,
    "start_time": "2024-10-07T19:22:00.019Z"
   },
   {
    "duration": 20,
    "start_time": "2024-10-07T19:22:00.835Z"
   },
   {
    "duration": 17,
    "start_time": "2024-10-07T19:22:07.407Z"
   },
   {
    "duration": 30,
    "start_time": "2024-10-07T19:22:09.371Z"
   },
   {
    "duration": 31,
    "start_time": "2024-10-07T19:22:12.078Z"
   },
   {
    "duration": 27,
    "start_time": "2024-10-07T19:23:16.828Z"
   },
   {
    "duration": 24,
    "start_time": "2024-10-07T19:23:17.269Z"
   },
   {
    "duration": 6,
    "start_time": "2024-10-07T19:23:19.495Z"
   },
   {
    "duration": 10,
    "start_time": "2024-10-07T19:23:20.126Z"
   },
   {
    "duration": 5,
    "start_time": "2024-10-07T19:23:22.313Z"
   },
   {
    "duration": 73,
    "start_time": "2024-10-07T19:23:22.696Z"
   },
   {
    "duration": 4,
    "start_time": "2024-10-07T19:23:25.621Z"
   },
   {
    "duration": 5,
    "start_time": "2024-10-07T19:23:25.945Z"
   },
   {
    "duration": 10,
    "start_time": "2024-10-07T19:23:26.567Z"
   },
   {
    "duration": 4,
    "start_time": "2024-10-07T19:23:28.129Z"
   },
   {
    "duration": 15,
    "start_time": "2024-10-07T19:23:28.765Z"
   },
   {
    "duration": 10,
    "start_time": "2024-10-07T19:23:29.380Z"
   },
   {
    "duration": 4,
    "start_time": "2024-10-07T19:23:30.872Z"
   },
   {
    "duration": 37,
    "start_time": "2024-10-07T19:23:34.491Z"
   },
   {
    "duration": 19,
    "start_time": "2024-10-07T19:23:36.344Z"
   },
   {
    "duration": 27,
    "start_time": "2024-10-07T19:23:46.413Z"
   },
   {
    "duration": 10,
    "start_time": "2024-10-07T19:26:09.556Z"
   },
   {
    "duration": 4,
    "start_time": "2024-10-07T19:26:11.606Z"
   },
   {
    "duration": 14,
    "start_time": "2024-10-07T19:26:12.484Z"
   },
   {
    "duration": 17,
    "start_time": "2024-10-07T19:26:13.039Z"
   },
   {
    "duration": 29,
    "start_time": "2024-10-07T19:26:13.949Z"
   },
   {
    "duration": 8,
    "start_time": "2024-10-07T19:26:31.952Z"
   },
   {
    "duration": 25,
    "start_time": "2024-10-07T19:26:32.951Z"
   },
   {
    "duration": 16,
    "start_time": "2024-10-07T19:26:33.408Z"
   },
   {
    "duration": 14,
    "start_time": "2024-10-07T19:26:34.245Z"
   },
   {
    "duration": 17,
    "start_time": "2024-10-07T19:34:32.046Z"
   },
   {
    "duration": 21,
    "start_time": "2024-10-07T19:35:01.729Z"
   },
   {
    "duration": 21,
    "start_time": "2024-10-07T19:35:11.247Z"
   },
   {
    "duration": 3,
    "start_time": "2024-10-07T19:35:41.423Z"
   },
   {
    "duration": 273,
    "start_time": "2024-10-07T19:35:46.908Z"
   },
   {
    "duration": 12622,
    "start_time": "2024-10-07T19:37:21.947Z"
   },
   {
    "duration": 2385,
    "start_time": "2024-10-07T19:42:20.196Z"
   },
   {
    "duration": 4,
    "start_time": "2024-10-07T19:57:30.315Z"
   },
   {
    "duration": 17,
    "start_time": "2024-10-07T19:57:36.247Z"
   },
   {
    "duration": 16,
    "start_time": "2024-10-07T19:57:53.596Z"
   },
   {
    "duration": 426,
    "start_time": "2024-10-07T19:58:44.128Z"
   },
   {
    "duration": 625,
    "start_time": "2024-10-07T19:58:58.772Z"
   },
   {
    "duration": 498,
    "start_time": "2024-10-07T19:59:14.523Z"
   },
   {
    "duration": 6,
    "start_time": "2024-10-07T20:04:30.477Z"
   },
   {
    "duration": 286,
    "start_time": "2024-10-07T20:05:05.679Z"
   },
   {
    "duration": 376,
    "start_time": "2024-10-07T20:05:13.467Z"
   },
   {
    "duration": 1770,
    "start_time": "2024-10-07T20:07:31.887Z"
   },
   {
    "duration": 172,
    "start_time": "2024-10-07T20:13:21.418Z"
   },
   {
    "duration": 80,
    "start_time": "2024-10-07T20:13:48.213Z"
   },
   {
    "duration": 31764,
    "start_time": "2024-10-07T20:14:48.060Z"
   }
  ],
  "kernelspec": {
   "display_name": "Python 3 (ipykernel)",
   "language": "python",
   "name": "python3"
  },
  "language_info": {
   "codemirror_mode": {
    "name": "ipython",
    "version": 3
   },
   "file_extension": ".py",
   "mimetype": "text/x-python",
   "name": "python",
   "nbconvert_exporter": "python",
   "pygments_lexer": "ipython3",
   "version": "3.9.19"
  },
  "toc": {
   "base_numbering": 1,
   "nav_menu": {},
   "number_sections": true,
   "sideBar": true,
   "skip_h1_title": true,
   "title_cell": "Table of Contents",
   "title_sidebar": "Contents",
   "toc_cell": false,
   "toc_position": {},
   "toc_section_display": true,
   "toc_window_display": false
  }
 },
 "nbformat": 4,
 "nbformat_minor": 2
}
